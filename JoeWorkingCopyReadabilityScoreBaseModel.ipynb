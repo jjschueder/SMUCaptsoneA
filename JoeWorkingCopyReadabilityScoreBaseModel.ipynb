{
  "nbformat": 4,
  "nbformat_minor": 0,
  "metadata": {
    "accelerator": "GPU",
    "colab": {
      "name": "JoeWorkingCopyReadabilityScoreBaseModel.ipynb",
      "provenance": [],
      "collapsed_sections": [],
      "include_colab_link": true
    },
    "kernelspec": {
      "display_name": "Python 3.7.1 64-bit ('ML7331': conda)",
      "language": "python",
      "name": "python37164bitml7331condaf5c5c353a7fa46f5b783ad99991c2b10"
    },
    "language_info": {
      "codemirror_mode": {
        "name": "ipython",
        "version": 3
      },
      "file_extension": ".py",
      "mimetype": "text/x-python",
      "name": "python",
      "nbconvert_exporter": "python",
      "pygments_lexer": "ipython3",
      "version": "3.7.1"
    },
    "widgets": {
      "application/vnd.jupyter.widget-state+json": {
        "07013e59243043df94272d4c4a0dd824": {
          "model_module": "@jupyter-widgets/controls",
          "model_name": "HBoxModel",
          "model_module_version": "1.5.0",
          "state": {
            "_view_name": "HBoxView",
            "_dom_classes": [],
            "_model_name": "HBoxModel",
            "_view_module": "@jupyter-widgets/controls",
            "_model_module_version": "1.5.0",
            "_view_count": null,
            "_view_module_version": "1.5.0",
            "box_style": "",
            "layout": "IPY_MODEL_6a73ca28a5fd41d2bf1082702096d4db",
            "_model_module": "@jupyter-widgets/controls",
            "children": [
              "IPY_MODEL_b998bd48ff8b496c9b5f91eb55dce397",
              "IPY_MODEL_332b66284e644a97851a9393a7bc39d2",
              "IPY_MODEL_bbc7d69c1802405d9536d81db62d9c23"
            ]
          }
        },
        "6a73ca28a5fd41d2bf1082702096d4db": {
          "model_module": "@jupyter-widgets/base",
          "model_name": "LayoutModel",
          "model_module_version": "1.2.0",
          "state": {
            "_view_name": "LayoutView",
            "grid_template_rows": null,
            "right": null,
            "justify_content": null,
            "_view_module": "@jupyter-widgets/base",
            "overflow": null,
            "_model_module_version": "1.2.0",
            "_view_count": null,
            "flex_flow": null,
            "width": null,
            "min_width": null,
            "border": null,
            "align_items": null,
            "bottom": null,
            "_model_module": "@jupyter-widgets/base",
            "top": null,
            "grid_column": null,
            "overflow_y": null,
            "overflow_x": null,
            "grid_auto_flow": null,
            "grid_area": null,
            "grid_template_columns": null,
            "flex": null,
            "_model_name": "LayoutModel",
            "justify_items": null,
            "grid_row": null,
            "max_height": null,
            "align_content": null,
            "visibility": null,
            "align_self": null,
            "height": null,
            "min_height": null,
            "padding": null,
            "grid_auto_rows": null,
            "grid_gap": null,
            "max_width": null,
            "order": null,
            "_view_module_version": "1.2.0",
            "grid_template_areas": null,
            "object_position": null,
            "object_fit": null,
            "grid_auto_columns": null,
            "margin": null,
            "display": null,
            "left": null
          }
        },
        "b998bd48ff8b496c9b5f91eb55dce397": {
          "model_module": "@jupyter-widgets/controls",
          "model_name": "HTMLModel",
          "model_module_version": "1.5.0",
          "state": {
            "_view_name": "HTMLView",
            "style": "IPY_MODEL_40b639d0649346799c77006c08ef5d0a",
            "_dom_classes": [],
            "description": "",
            "_model_name": "HTMLModel",
            "placeholder": "​",
            "_view_module": "@jupyter-widgets/controls",
            "_model_module_version": "1.5.0",
            "value": "Downloading: 100%",
            "_view_count": null,
            "_view_module_version": "1.5.0",
            "description_tooltip": null,
            "_model_module": "@jupyter-widgets/controls",
            "layout": "IPY_MODEL_ea87da94b7cc4967ae9b2a930c36d306"
          }
        },
        "332b66284e644a97851a9393a7bc39d2": {
          "model_module": "@jupyter-widgets/controls",
          "model_name": "FloatProgressModel",
          "model_module_version": "1.5.0",
          "state": {
            "_view_name": "ProgressView",
            "style": "IPY_MODEL_10c81a4e06b44f27a88fd92de651bae5",
            "_dom_classes": [],
            "description": "",
            "_model_name": "FloatProgressModel",
            "bar_style": "success",
            "max": 29,
            "_view_module": "@jupyter-widgets/controls",
            "_model_module_version": "1.5.0",
            "value": 29,
            "_view_count": null,
            "_view_module_version": "1.5.0",
            "orientation": "horizontal",
            "min": 0,
            "description_tooltip": null,
            "_model_module": "@jupyter-widgets/controls",
            "layout": "IPY_MODEL_287e6be5ffc2480dbab3b3ae55950354"
          }
        },
        "bbc7d69c1802405d9536d81db62d9c23": {
          "model_module": "@jupyter-widgets/controls",
          "model_name": "HTMLModel",
          "model_module_version": "1.5.0",
          "state": {
            "_view_name": "HTMLView",
            "style": "IPY_MODEL_e0e8608366ce4ede9f8391e00f3e4630",
            "_dom_classes": [],
            "description": "",
            "_model_name": "HTMLModel",
            "placeholder": "​",
            "_view_module": "@jupyter-widgets/controls",
            "_model_module_version": "1.5.0",
            "value": " 29.0/29.0 [00:00&lt;00:00, 626B/s]",
            "_view_count": null,
            "_view_module_version": "1.5.0",
            "description_tooltip": null,
            "_model_module": "@jupyter-widgets/controls",
            "layout": "IPY_MODEL_31890654d0114d3bac26465dced96e8d"
          }
        },
        "40b639d0649346799c77006c08ef5d0a": {
          "model_module": "@jupyter-widgets/controls",
          "model_name": "DescriptionStyleModel",
          "model_module_version": "1.5.0",
          "state": {
            "_view_name": "StyleView",
            "_model_name": "DescriptionStyleModel",
            "description_width": "",
            "_view_module": "@jupyter-widgets/base",
            "_model_module_version": "1.5.0",
            "_view_count": null,
            "_view_module_version": "1.2.0",
            "_model_module": "@jupyter-widgets/controls"
          }
        },
        "ea87da94b7cc4967ae9b2a930c36d306": {
          "model_module": "@jupyter-widgets/base",
          "model_name": "LayoutModel",
          "model_module_version": "1.2.0",
          "state": {
            "_view_name": "LayoutView",
            "grid_template_rows": null,
            "right": null,
            "justify_content": null,
            "_view_module": "@jupyter-widgets/base",
            "overflow": null,
            "_model_module_version": "1.2.0",
            "_view_count": null,
            "flex_flow": null,
            "width": null,
            "min_width": null,
            "border": null,
            "align_items": null,
            "bottom": null,
            "_model_module": "@jupyter-widgets/base",
            "top": null,
            "grid_column": null,
            "overflow_y": null,
            "overflow_x": null,
            "grid_auto_flow": null,
            "grid_area": null,
            "grid_template_columns": null,
            "flex": null,
            "_model_name": "LayoutModel",
            "justify_items": null,
            "grid_row": null,
            "max_height": null,
            "align_content": null,
            "visibility": null,
            "align_self": null,
            "height": null,
            "min_height": null,
            "padding": null,
            "grid_auto_rows": null,
            "grid_gap": null,
            "max_width": null,
            "order": null,
            "_view_module_version": "1.2.0",
            "grid_template_areas": null,
            "object_position": null,
            "object_fit": null,
            "grid_auto_columns": null,
            "margin": null,
            "display": null,
            "left": null
          }
        },
        "10c81a4e06b44f27a88fd92de651bae5": {
          "model_module": "@jupyter-widgets/controls",
          "model_name": "ProgressStyleModel",
          "model_module_version": "1.5.0",
          "state": {
            "_view_name": "StyleView",
            "_model_name": "ProgressStyleModel",
            "description_width": "",
            "_view_module": "@jupyter-widgets/base",
            "_model_module_version": "1.5.0",
            "_view_count": null,
            "_view_module_version": "1.2.0",
            "bar_color": null,
            "_model_module": "@jupyter-widgets/controls"
          }
        },
        "287e6be5ffc2480dbab3b3ae55950354": {
          "model_module": "@jupyter-widgets/base",
          "model_name": "LayoutModel",
          "model_module_version": "1.2.0",
          "state": {
            "_view_name": "LayoutView",
            "grid_template_rows": null,
            "right": null,
            "justify_content": null,
            "_view_module": "@jupyter-widgets/base",
            "overflow": null,
            "_model_module_version": "1.2.0",
            "_view_count": null,
            "flex_flow": null,
            "width": null,
            "min_width": null,
            "border": null,
            "align_items": null,
            "bottom": null,
            "_model_module": "@jupyter-widgets/base",
            "top": null,
            "grid_column": null,
            "overflow_y": null,
            "overflow_x": null,
            "grid_auto_flow": null,
            "grid_area": null,
            "grid_template_columns": null,
            "flex": null,
            "_model_name": "LayoutModel",
            "justify_items": null,
            "grid_row": null,
            "max_height": null,
            "align_content": null,
            "visibility": null,
            "align_self": null,
            "height": null,
            "min_height": null,
            "padding": null,
            "grid_auto_rows": null,
            "grid_gap": null,
            "max_width": null,
            "order": null,
            "_view_module_version": "1.2.0",
            "grid_template_areas": null,
            "object_position": null,
            "object_fit": null,
            "grid_auto_columns": null,
            "margin": null,
            "display": null,
            "left": null
          }
        },
        "e0e8608366ce4ede9f8391e00f3e4630": {
          "model_module": "@jupyter-widgets/controls",
          "model_name": "DescriptionStyleModel",
          "model_module_version": "1.5.0",
          "state": {
            "_view_name": "StyleView",
            "_model_name": "DescriptionStyleModel",
            "description_width": "",
            "_view_module": "@jupyter-widgets/base",
            "_model_module_version": "1.5.0",
            "_view_count": null,
            "_view_module_version": "1.2.0",
            "_model_module": "@jupyter-widgets/controls"
          }
        },
        "31890654d0114d3bac26465dced96e8d": {
          "model_module": "@jupyter-widgets/base",
          "model_name": "LayoutModel",
          "model_module_version": "1.2.0",
          "state": {
            "_view_name": "LayoutView",
            "grid_template_rows": null,
            "right": null,
            "justify_content": null,
            "_view_module": "@jupyter-widgets/base",
            "overflow": null,
            "_model_module_version": "1.2.0",
            "_view_count": null,
            "flex_flow": null,
            "width": null,
            "min_width": null,
            "border": null,
            "align_items": null,
            "bottom": null,
            "_model_module": "@jupyter-widgets/base",
            "top": null,
            "grid_column": null,
            "overflow_y": null,
            "overflow_x": null,
            "grid_auto_flow": null,
            "grid_area": null,
            "grid_template_columns": null,
            "flex": null,
            "_model_name": "LayoutModel",
            "justify_items": null,
            "grid_row": null,
            "max_height": null,
            "align_content": null,
            "visibility": null,
            "align_self": null,
            "height": null,
            "min_height": null,
            "padding": null,
            "grid_auto_rows": null,
            "grid_gap": null,
            "max_width": null,
            "order": null,
            "_view_module_version": "1.2.0",
            "grid_template_areas": null,
            "object_position": null,
            "object_fit": null,
            "grid_auto_columns": null,
            "margin": null,
            "display": null,
            "left": null
          }
        },
        "0fcda6116d7547f1b8007a114d14cac4": {
          "model_module": "@jupyter-widgets/controls",
          "model_name": "HBoxModel",
          "model_module_version": "1.5.0",
          "state": {
            "_view_name": "HBoxView",
            "_dom_classes": [],
            "_model_name": "HBoxModel",
            "_view_module": "@jupyter-widgets/controls",
            "_model_module_version": "1.5.0",
            "_view_count": null,
            "_view_module_version": "1.5.0",
            "box_style": "",
            "layout": "IPY_MODEL_a2896af3a2244fb1a76124517a57c951",
            "_model_module": "@jupyter-widgets/controls",
            "children": [
              "IPY_MODEL_da089d756f444c019134be9df621c0d5",
              "IPY_MODEL_eb7f76632d3f4ddb943e5774abe8193c",
              "IPY_MODEL_75009edadc2748e782c675f4c5a51c83"
            ]
          }
        },
        "a2896af3a2244fb1a76124517a57c951": {
          "model_module": "@jupyter-widgets/base",
          "model_name": "LayoutModel",
          "model_module_version": "1.2.0",
          "state": {
            "_view_name": "LayoutView",
            "grid_template_rows": null,
            "right": null,
            "justify_content": null,
            "_view_module": "@jupyter-widgets/base",
            "overflow": null,
            "_model_module_version": "1.2.0",
            "_view_count": null,
            "flex_flow": null,
            "width": null,
            "min_width": null,
            "border": null,
            "align_items": null,
            "bottom": null,
            "_model_module": "@jupyter-widgets/base",
            "top": null,
            "grid_column": null,
            "overflow_y": null,
            "overflow_x": null,
            "grid_auto_flow": null,
            "grid_area": null,
            "grid_template_columns": null,
            "flex": null,
            "_model_name": "LayoutModel",
            "justify_items": null,
            "grid_row": null,
            "max_height": null,
            "align_content": null,
            "visibility": null,
            "align_self": null,
            "height": null,
            "min_height": null,
            "padding": null,
            "grid_auto_rows": null,
            "grid_gap": null,
            "max_width": null,
            "order": null,
            "_view_module_version": "1.2.0",
            "grid_template_areas": null,
            "object_position": null,
            "object_fit": null,
            "grid_auto_columns": null,
            "margin": null,
            "display": null,
            "left": null
          }
        },
        "da089d756f444c019134be9df621c0d5": {
          "model_module": "@jupyter-widgets/controls",
          "model_name": "HTMLModel",
          "model_module_version": "1.5.0",
          "state": {
            "_view_name": "HTMLView",
            "style": "IPY_MODEL_4aae39cf1dd140de9d48a4a14f128d5f",
            "_dom_classes": [],
            "description": "",
            "_model_name": "HTMLModel",
            "placeholder": "​",
            "_view_module": "@jupyter-widgets/controls",
            "_model_module_version": "1.5.0",
            "value": "Downloading: 100%",
            "_view_count": null,
            "_view_module_version": "1.5.0",
            "description_tooltip": null,
            "_model_module": "@jupyter-widgets/controls",
            "layout": "IPY_MODEL_d3f17b20ac6245349d35b933c3dd7ec9"
          }
        },
        "eb7f76632d3f4ddb943e5774abe8193c": {
          "model_module": "@jupyter-widgets/controls",
          "model_name": "FloatProgressModel",
          "model_module_version": "1.5.0",
          "state": {
            "_view_name": "ProgressView",
            "style": "IPY_MODEL_37e775521c544049b43d8c80c529ec58",
            "_dom_classes": [],
            "description": "",
            "_model_name": "FloatProgressModel",
            "bar_style": "success",
            "max": 570,
            "_view_module": "@jupyter-widgets/controls",
            "_model_module_version": "1.5.0",
            "value": 570,
            "_view_count": null,
            "_view_module_version": "1.5.0",
            "orientation": "horizontal",
            "min": 0,
            "description_tooltip": null,
            "_model_module": "@jupyter-widgets/controls",
            "layout": "IPY_MODEL_03a5d3e4f6b140ff97b89987569e3683"
          }
        },
        "75009edadc2748e782c675f4c5a51c83": {
          "model_module": "@jupyter-widgets/controls",
          "model_name": "HTMLModel",
          "model_module_version": "1.5.0",
          "state": {
            "_view_name": "HTMLView",
            "style": "IPY_MODEL_198fd42d7fca4ab784cbf4d801fc976d",
            "_dom_classes": [],
            "description": "",
            "_model_name": "HTMLModel",
            "placeholder": "​",
            "_view_module": "@jupyter-widgets/controls",
            "_model_module_version": "1.5.0",
            "value": " 570/570 [00:00&lt;00:00, 14.2kB/s]",
            "_view_count": null,
            "_view_module_version": "1.5.0",
            "description_tooltip": null,
            "_model_module": "@jupyter-widgets/controls",
            "layout": "IPY_MODEL_821789d7fbe84a96a40332a555033676"
          }
        },
        "4aae39cf1dd140de9d48a4a14f128d5f": {
          "model_module": "@jupyter-widgets/controls",
          "model_name": "DescriptionStyleModel",
          "model_module_version": "1.5.0",
          "state": {
            "_view_name": "StyleView",
            "_model_name": "DescriptionStyleModel",
            "description_width": "",
            "_view_module": "@jupyter-widgets/base",
            "_model_module_version": "1.5.0",
            "_view_count": null,
            "_view_module_version": "1.2.0",
            "_model_module": "@jupyter-widgets/controls"
          }
        },
        "d3f17b20ac6245349d35b933c3dd7ec9": {
          "model_module": "@jupyter-widgets/base",
          "model_name": "LayoutModel",
          "model_module_version": "1.2.0",
          "state": {
            "_view_name": "LayoutView",
            "grid_template_rows": null,
            "right": null,
            "justify_content": null,
            "_view_module": "@jupyter-widgets/base",
            "overflow": null,
            "_model_module_version": "1.2.0",
            "_view_count": null,
            "flex_flow": null,
            "width": null,
            "min_width": null,
            "border": null,
            "align_items": null,
            "bottom": null,
            "_model_module": "@jupyter-widgets/base",
            "top": null,
            "grid_column": null,
            "overflow_y": null,
            "overflow_x": null,
            "grid_auto_flow": null,
            "grid_area": null,
            "grid_template_columns": null,
            "flex": null,
            "_model_name": "LayoutModel",
            "justify_items": null,
            "grid_row": null,
            "max_height": null,
            "align_content": null,
            "visibility": null,
            "align_self": null,
            "height": null,
            "min_height": null,
            "padding": null,
            "grid_auto_rows": null,
            "grid_gap": null,
            "max_width": null,
            "order": null,
            "_view_module_version": "1.2.0",
            "grid_template_areas": null,
            "object_position": null,
            "object_fit": null,
            "grid_auto_columns": null,
            "margin": null,
            "display": null,
            "left": null
          }
        },
        "37e775521c544049b43d8c80c529ec58": {
          "model_module": "@jupyter-widgets/controls",
          "model_name": "ProgressStyleModel",
          "model_module_version": "1.5.0",
          "state": {
            "_view_name": "StyleView",
            "_model_name": "ProgressStyleModel",
            "description_width": "",
            "_view_module": "@jupyter-widgets/base",
            "_model_module_version": "1.5.0",
            "_view_count": null,
            "_view_module_version": "1.2.0",
            "bar_color": null,
            "_model_module": "@jupyter-widgets/controls"
          }
        },
        "03a5d3e4f6b140ff97b89987569e3683": {
          "model_module": "@jupyter-widgets/base",
          "model_name": "LayoutModel",
          "model_module_version": "1.2.0",
          "state": {
            "_view_name": "LayoutView",
            "grid_template_rows": null,
            "right": null,
            "justify_content": null,
            "_view_module": "@jupyter-widgets/base",
            "overflow": null,
            "_model_module_version": "1.2.0",
            "_view_count": null,
            "flex_flow": null,
            "width": null,
            "min_width": null,
            "border": null,
            "align_items": null,
            "bottom": null,
            "_model_module": "@jupyter-widgets/base",
            "top": null,
            "grid_column": null,
            "overflow_y": null,
            "overflow_x": null,
            "grid_auto_flow": null,
            "grid_area": null,
            "grid_template_columns": null,
            "flex": null,
            "_model_name": "LayoutModel",
            "justify_items": null,
            "grid_row": null,
            "max_height": null,
            "align_content": null,
            "visibility": null,
            "align_self": null,
            "height": null,
            "min_height": null,
            "padding": null,
            "grid_auto_rows": null,
            "grid_gap": null,
            "max_width": null,
            "order": null,
            "_view_module_version": "1.2.0",
            "grid_template_areas": null,
            "object_position": null,
            "object_fit": null,
            "grid_auto_columns": null,
            "margin": null,
            "display": null,
            "left": null
          }
        },
        "198fd42d7fca4ab784cbf4d801fc976d": {
          "model_module": "@jupyter-widgets/controls",
          "model_name": "DescriptionStyleModel",
          "model_module_version": "1.5.0",
          "state": {
            "_view_name": "StyleView",
            "_model_name": "DescriptionStyleModel",
            "description_width": "",
            "_view_module": "@jupyter-widgets/base",
            "_model_module_version": "1.5.0",
            "_view_count": null,
            "_view_module_version": "1.2.0",
            "_model_module": "@jupyter-widgets/controls"
          }
        },
        "821789d7fbe84a96a40332a555033676": {
          "model_module": "@jupyter-widgets/base",
          "model_name": "LayoutModel",
          "model_module_version": "1.2.0",
          "state": {
            "_view_name": "LayoutView",
            "grid_template_rows": null,
            "right": null,
            "justify_content": null,
            "_view_module": "@jupyter-widgets/base",
            "overflow": null,
            "_model_module_version": "1.2.0",
            "_view_count": null,
            "flex_flow": null,
            "width": null,
            "min_width": null,
            "border": null,
            "align_items": null,
            "bottom": null,
            "_model_module": "@jupyter-widgets/base",
            "top": null,
            "grid_column": null,
            "overflow_y": null,
            "overflow_x": null,
            "grid_auto_flow": null,
            "grid_area": null,
            "grid_template_columns": null,
            "flex": null,
            "_model_name": "LayoutModel",
            "justify_items": null,
            "grid_row": null,
            "max_height": null,
            "align_content": null,
            "visibility": null,
            "align_self": null,
            "height": null,
            "min_height": null,
            "padding": null,
            "grid_auto_rows": null,
            "grid_gap": null,
            "max_width": null,
            "order": null,
            "_view_module_version": "1.2.0",
            "grid_template_areas": null,
            "object_position": null,
            "object_fit": null,
            "grid_auto_columns": null,
            "margin": null,
            "display": null,
            "left": null
          }
        },
        "a733899ea2e14176b6f5fa68a90f251f": {
          "model_module": "@jupyter-widgets/controls",
          "model_name": "HBoxModel",
          "model_module_version": "1.5.0",
          "state": {
            "_view_name": "HBoxView",
            "_dom_classes": [],
            "_model_name": "HBoxModel",
            "_view_module": "@jupyter-widgets/controls",
            "_model_module_version": "1.5.0",
            "_view_count": null,
            "_view_module_version": "1.5.0",
            "box_style": "",
            "layout": "IPY_MODEL_8a08a188376f488a906fd0ab9ca01d9b",
            "_model_module": "@jupyter-widgets/controls",
            "children": [
              "IPY_MODEL_55bbaf36fb974d59beda37a75f7117ed",
              "IPY_MODEL_0897723a1b8f4e2f86887298463c7832",
              "IPY_MODEL_f644213aaac242c486a7dfb293b9235e"
            ]
          }
        },
        "8a08a188376f488a906fd0ab9ca01d9b": {
          "model_module": "@jupyter-widgets/base",
          "model_name": "LayoutModel",
          "model_module_version": "1.2.0",
          "state": {
            "_view_name": "LayoutView",
            "grid_template_rows": null,
            "right": null,
            "justify_content": null,
            "_view_module": "@jupyter-widgets/base",
            "overflow": null,
            "_model_module_version": "1.2.0",
            "_view_count": null,
            "flex_flow": null,
            "width": null,
            "min_width": null,
            "border": null,
            "align_items": null,
            "bottom": null,
            "_model_module": "@jupyter-widgets/base",
            "top": null,
            "grid_column": null,
            "overflow_y": null,
            "overflow_x": null,
            "grid_auto_flow": null,
            "grid_area": null,
            "grid_template_columns": null,
            "flex": null,
            "_model_name": "LayoutModel",
            "justify_items": null,
            "grid_row": null,
            "max_height": null,
            "align_content": null,
            "visibility": null,
            "align_self": null,
            "height": null,
            "min_height": null,
            "padding": null,
            "grid_auto_rows": null,
            "grid_gap": null,
            "max_width": null,
            "order": null,
            "_view_module_version": "1.2.0",
            "grid_template_areas": null,
            "object_position": null,
            "object_fit": null,
            "grid_auto_columns": null,
            "margin": null,
            "display": null,
            "left": null
          }
        },
        "55bbaf36fb974d59beda37a75f7117ed": {
          "model_module": "@jupyter-widgets/controls",
          "model_name": "HTMLModel",
          "model_module_version": "1.5.0",
          "state": {
            "_view_name": "HTMLView",
            "style": "IPY_MODEL_4503d00439a74dd9a156852105cf299a",
            "_dom_classes": [],
            "description": "",
            "_model_name": "HTMLModel",
            "placeholder": "​",
            "_view_module": "@jupyter-widgets/controls",
            "_model_module_version": "1.5.0",
            "value": "Downloading: 100%",
            "_view_count": null,
            "_view_module_version": "1.5.0",
            "description_tooltip": null,
            "_model_module": "@jupyter-widgets/controls",
            "layout": "IPY_MODEL_7ec8177cf7ae488287dffeb083e0ee69"
          }
        },
        "0897723a1b8f4e2f86887298463c7832": {
          "model_module": "@jupyter-widgets/controls",
          "model_name": "FloatProgressModel",
          "model_module_version": "1.5.0",
          "state": {
            "_view_name": "ProgressView",
            "style": "IPY_MODEL_86137bb4b9294e43a6fb3a3d75eb691c",
            "_dom_classes": [],
            "description": "",
            "_model_name": "FloatProgressModel",
            "bar_style": "success",
            "max": 213450,
            "_view_module": "@jupyter-widgets/controls",
            "_model_module_version": "1.5.0",
            "value": 213450,
            "_view_count": null,
            "_view_module_version": "1.5.0",
            "orientation": "horizontal",
            "min": 0,
            "description_tooltip": null,
            "_model_module": "@jupyter-widgets/controls",
            "layout": "IPY_MODEL_98d4919b0f0f4caea5780d96c0a3e779"
          }
        },
        "f644213aaac242c486a7dfb293b9235e": {
          "model_module": "@jupyter-widgets/controls",
          "model_name": "HTMLModel",
          "model_module_version": "1.5.0",
          "state": {
            "_view_name": "HTMLView",
            "style": "IPY_MODEL_76ef206d4d5d46d0bbde305b8ef94a9e",
            "_dom_classes": [],
            "description": "",
            "_model_name": "HTMLModel",
            "placeholder": "​",
            "_view_module": "@jupyter-widgets/controls",
            "_model_module_version": "1.5.0",
            "value": " 213k/213k [00:00&lt;00:00, 650kB/s]",
            "_view_count": null,
            "_view_module_version": "1.5.0",
            "description_tooltip": null,
            "_model_module": "@jupyter-widgets/controls",
            "layout": "IPY_MODEL_ecebc4d459ca4f768953242350b4cd6d"
          }
        },
        "4503d00439a74dd9a156852105cf299a": {
          "model_module": "@jupyter-widgets/controls",
          "model_name": "DescriptionStyleModel",
          "model_module_version": "1.5.0",
          "state": {
            "_view_name": "StyleView",
            "_model_name": "DescriptionStyleModel",
            "description_width": "",
            "_view_module": "@jupyter-widgets/base",
            "_model_module_version": "1.5.0",
            "_view_count": null,
            "_view_module_version": "1.2.0",
            "_model_module": "@jupyter-widgets/controls"
          }
        },
        "7ec8177cf7ae488287dffeb083e0ee69": {
          "model_module": "@jupyter-widgets/base",
          "model_name": "LayoutModel",
          "model_module_version": "1.2.0",
          "state": {
            "_view_name": "LayoutView",
            "grid_template_rows": null,
            "right": null,
            "justify_content": null,
            "_view_module": "@jupyter-widgets/base",
            "overflow": null,
            "_model_module_version": "1.2.0",
            "_view_count": null,
            "flex_flow": null,
            "width": null,
            "min_width": null,
            "border": null,
            "align_items": null,
            "bottom": null,
            "_model_module": "@jupyter-widgets/base",
            "top": null,
            "grid_column": null,
            "overflow_y": null,
            "overflow_x": null,
            "grid_auto_flow": null,
            "grid_area": null,
            "grid_template_columns": null,
            "flex": null,
            "_model_name": "LayoutModel",
            "justify_items": null,
            "grid_row": null,
            "max_height": null,
            "align_content": null,
            "visibility": null,
            "align_self": null,
            "height": null,
            "min_height": null,
            "padding": null,
            "grid_auto_rows": null,
            "grid_gap": null,
            "max_width": null,
            "order": null,
            "_view_module_version": "1.2.0",
            "grid_template_areas": null,
            "object_position": null,
            "object_fit": null,
            "grid_auto_columns": null,
            "margin": null,
            "display": null,
            "left": null
          }
        },
        "86137bb4b9294e43a6fb3a3d75eb691c": {
          "model_module": "@jupyter-widgets/controls",
          "model_name": "ProgressStyleModel",
          "model_module_version": "1.5.0",
          "state": {
            "_view_name": "StyleView",
            "_model_name": "ProgressStyleModel",
            "description_width": "",
            "_view_module": "@jupyter-widgets/base",
            "_model_module_version": "1.5.0",
            "_view_count": null,
            "_view_module_version": "1.2.0",
            "bar_color": null,
            "_model_module": "@jupyter-widgets/controls"
          }
        },
        "98d4919b0f0f4caea5780d96c0a3e779": {
          "model_module": "@jupyter-widgets/base",
          "model_name": "LayoutModel",
          "model_module_version": "1.2.0",
          "state": {
            "_view_name": "LayoutView",
            "grid_template_rows": null,
            "right": null,
            "justify_content": null,
            "_view_module": "@jupyter-widgets/base",
            "overflow": null,
            "_model_module_version": "1.2.0",
            "_view_count": null,
            "flex_flow": null,
            "width": null,
            "min_width": null,
            "border": null,
            "align_items": null,
            "bottom": null,
            "_model_module": "@jupyter-widgets/base",
            "top": null,
            "grid_column": null,
            "overflow_y": null,
            "overflow_x": null,
            "grid_auto_flow": null,
            "grid_area": null,
            "grid_template_columns": null,
            "flex": null,
            "_model_name": "LayoutModel",
            "justify_items": null,
            "grid_row": null,
            "max_height": null,
            "align_content": null,
            "visibility": null,
            "align_self": null,
            "height": null,
            "min_height": null,
            "padding": null,
            "grid_auto_rows": null,
            "grid_gap": null,
            "max_width": null,
            "order": null,
            "_view_module_version": "1.2.0",
            "grid_template_areas": null,
            "object_position": null,
            "object_fit": null,
            "grid_auto_columns": null,
            "margin": null,
            "display": null,
            "left": null
          }
        },
        "76ef206d4d5d46d0bbde305b8ef94a9e": {
          "model_module": "@jupyter-widgets/controls",
          "model_name": "DescriptionStyleModel",
          "model_module_version": "1.5.0",
          "state": {
            "_view_name": "StyleView",
            "_model_name": "DescriptionStyleModel",
            "description_width": "",
            "_view_module": "@jupyter-widgets/base",
            "_model_module_version": "1.5.0",
            "_view_count": null,
            "_view_module_version": "1.2.0",
            "_model_module": "@jupyter-widgets/controls"
          }
        },
        "ecebc4d459ca4f768953242350b4cd6d": {
          "model_module": "@jupyter-widgets/base",
          "model_name": "LayoutModel",
          "model_module_version": "1.2.0",
          "state": {
            "_view_name": "LayoutView",
            "grid_template_rows": null,
            "right": null,
            "justify_content": null,
            "_view_module": "@jupyter-widgets/base",
            "overflow": null,
            "_model_module_version": "1.2.0",
            "_view_count": null,
            "flex_flow": null,
            "width": null,
            "min_width": null,
            "border": null,
            "align_items": null,
            "bottom": null,
            "_model_module": "@jupyter-widgets/base",
            "top": null,
            "grid_column": null,
            "overflow_y": null,
            "overflow_x": null,
            "grid_auto_flow": null,
            "grid_area": null,
            "grid_template_columns": null,
            "flex": null,
            "_model_name": "LayoutModel",
            "justify_items": null,
            "grid_row": null,
            "max_height": null,
            "align_content": null,
            "visibility": null,
            "align_self": null,
            "height": null,
            "min_height": null,
            "padding": null,
            "grid_auto_rows": null,
            "grid_gap": null,
            "max_width": null,
            "order": null,
            "_view_module_version": "1.2.0",
            "grid_template_areas": null,
            "object_position": null,
            "object_fit": null,
            "grid_auto_columns": null,
            "margin": null,
            "display": null,
            "left": null
          }
        },
        "c300e7d975ed4deb85ac93947cbb0b89": {
          "model_module": "@jupyter-widgets/controls",
          "model_name": "HBoxModel",
          "model_module_version": "1.5.0",
          "state": {
            "_view_name": "HBoxView",
            "_dom_classes": [],
            "_model_name": "HBoxModel",
            "_view_module": "@jupyter-widgets/controls",
            "_model_module_version": "1.5.0",
            "_view_count": null,
            "_view_module_version": "1.5.0",
            "box_style": "",
            "layout": "IPY_MODEL_27b61acbd29240b4900cbe155d4c6561",
            "_model_module": "@jupyter-widgets/controls",
            "children": [
              "IPY_MODEL_3962fb21647a499daac88460b2cdaae4",
              "IPY_MODEL_ee4e7cc49f414e3291099e9076d54672",
              "IPY_MODEL_f7e612d78f9842c4a09fb5d7d8c8f1ae"
            ]
          }
        },
        "27b61acbd29240b4900cbe155d4c6561": {
          "model_module": "@jupyter-widgets/base",
          "model_name": "LayoutModel",
          "model_module_version": "1.2.0",
          "state": {
            "_view_name": "LayoutView",
            "grid_template_rows": null,
            "right": null,
            "justify_content": null,
            "_view_module": "@jupyter-widgets/base",
            "overflow": null,
            "_model_module_version": "1.2.0",
            "_view_count": null,
            "flex_flow": null,
            "width": null,
            "min_width": null,
            "border": null,
            "align_items": null,
            "bottom": null,
            "_model_module": "@jupyter-widgets/base",
            "top": null,
            "grid_column": null,
            "overflow_y": null,
            "overflow_x": null,
            "grid_auto_flow": null,
            "grid_area": null,
            "grid_template_columns": null,
            "flex": null,
            "_model_name": "LayoutModel",
            "justify_items": null,
            "grid_row": null,
            "max_height": null,
            "align_content": null,
            "visibility": null,
            "align_self": null,
            "height": null,
            "min_height": null,
            "padding": null,
            "grid_auto_rows": null,
            "grid_gap": null,
            "max_width": null,
            "order": null,
            "_view_module_version": "1.2.0",
            "grid_template_areas": null,
            "object_position": null,
            "object_fit": null,
            "grid_auto_columns": null,
            "margin": null,
            "display": null,
            "left": null
          }
        },
        "3962fb21647a499daac88460b2cdaae4": {
          "model_module": "@jupyter-widgets/controls",
          "model_name": "HTMLModel",
          "model_module_version": "1.5.0",
          "state": {
            "_view_name": "HTMLView",
            "style": "IPY_MODEL_75cdc5f0d7f7469bb82546f4a8772ac3",
            "_dom_classes": [],
            "description": "",
            "_model_name": "HTMLModel",
            "placeholder": "​",
            "_view_module": "@jupyter-widgets/controls",
            "_model_module_version": "1.5.0",
            "value": "Downloading: 100%",
            "_view_count": null,
            "_view_module_version": "1.5.0",
            "description_tooltip": null,
            "_model_module": "@jupyter-widgets/controls",
            "layout": "IPY_MODEL_67d04145a0ba4b41996bb34cd2e90450"
          }
        },
        "ee4e7cc49f414e3291099e9076d54672": {
          "model_module": "@jupyter-widgets/controls",
          "model_name": "FloatProgressModel",
          "model_module_version": "1.5.0",
          "state": {
            "_view_name": "ProgressView",
            "style": "IPY_MODEL_38deee16f2144a1dbd969112394423a6",
            "_dom_classes": [],
            "description": "",
            "_model_name": "FloatProgressModel",
            "bar_style": "success",
            "max": 435797,
            "_view_module": "@jupyter-widgets/controls",
            "_model_module_version": "1.5.0",
            "value": 435797,
            "_view_count": null,
            "_view_module_version": "1.5.0",
            "orientation": "horizontal",
            "min": 0,
            "description_tooltip": null,
            "_model_module": "@jupyter-widgets/controls",
            "layout": "IPY_MODEL_fe998889b7ec476f8e9e84a0c13f0c55"
          }
        },
        "f7e612d78f9842c4a09fb5d7d8c8f1ae": {
          "model_module": "@jupyter-widgets/controls",
          "model_name": "HTMLModel",
          "model_module_version": "1.5.0",
          "state": {
            "_view_name": "HTMLView",
            "style": "IPY_MODEL_7780bc0c2cd8430ea97a8a67f92602fb",
            "_dom_classes": [],
            "description": "",
            "_model_name": "HTMLModel",
            "placeholder": "​",
            "_view_module": "@jupyter-widgets/controls",
            "_model_module_version": "1.5.0",
            "value": " 436k/436k [00:00&lt;00:00, 633kB/s]",
            "_view_count": null,
            "_view_module_version": "1.5.0",
            "description_tooltip": null,
            "_model_module": "@jupyter-widgets/controls",
            "layout": "IPY_MODEL_d8334f6a297e48ffb53ce88bc3802a7c"
          }
        },
        "75cdc5f0d7f7469bb82546f4a8772ac3": {
          "model_module": "@jupyter-widgets/controls",
          "model_name": "DescriptionStyleModel",
          "model_module_version": "1.5.0",
          "state": {
            "_view_name": "StyleView",
            "_model_name": "DescriptionStyleModel",
            "description_width": "",
            "_view_module": "@jupyter-widgets/base",
            "_model_module_version": "1.5.0",
            "_view_count": null,
            "_view_module_version": "1.2.0",
            "_model_module": "@jupyter-widgets/controls"
          }
        },
        "67d04145a0ba4b41996bb34cd2e90450": {
          "model_module": "@jupyter-widgets/base",
          "model_name": "LayoutModel",
          "model_module_version": "1.2.0",
          "state": {
            "_view_name": "LayoutView",
            "grid_template_rows": null,
            "right": null,
            "justify_content": null,
            "_view_module": "@jupyter-widgets/base",
            "overflow": null,
            "_model_module_version": "1.2.0",
            "_view_count": null,
            "flex_flow": null,
            "width": null,
            "min_width": null,
            "border": null,
            "align_items": null,
            "bottom": null,
            "_model_module": "@jupyter-widgets/base",
            "top": null,
            "grid_column": null,
            "overflow_y": null,
            "overflow_x": null,
            "grid_auto_flow": null,
            "grid_area": null,
            "grid_template_columns": null,
            "flex": null,
            "_model_name": "LayoutModel",
            "justify_items": null,
            "grid_row": null,
            "max_height": null,
            "align_content": null,
            "visibility": null,
            "align_self": null,
            "height": null,
            "min_height": null,
            "padding": null,
            "grid_auto_rows": null,
            "grid_gap": null,
            "max_width": null,
            "order": null,
            "_view_module_version": "1.2.0",
            "grid_template_areas": null,
            "object_position": null,
            "object_fit": null,
            "grid_auto_columns": null,
            "margin": null,
            "display": null,
            "left": null
          }
        },
        "38deee16f2144a1dbd969112394423a6": {
          "model_module": "@jupyter-widgets/controls",
          "model_name": "ProgressStyleModel",
          "model_module_version": "1.5.0",
          "state": {
            "_view_name": "StyleView",
            "_model_name": "ProgressStyleModel",
            "description_width": "",
            "_view_module": "@jupyter-widgets/base",
            "_model_module_version": "1.5.0",
            "_view_count": null,
            "_view_module_version": "1.2.0",
            "bar_color": null,
            "_model_module": "@jupyter-widgets/controls"
          }
        },
        "fe998889b7ec476f8e9e84a0c13f0c55": {
          "model_module": "@jupyter-widgets/base",
          "model_name": "LayoutModel",
          "model_module_version": "1.2.0",
          "state": {
            "_view_name": "LayoutView",
            "grid_template_rows": null,
            "right": null,
            "justify_content": null,
            "_view_module": "@jupyter-widgets/base",
            "overflow": null,
            "_model_module_version": "1.2.0",
            "_view_count": null,
            "flex_flow": null,
            "width": null,
            "min_width": null,
            "border": null,
            "align_items": null,
            "bottom": null,
            "_model_module": "@jupyter-widgets/base",
            "top": null,
            "grid_column": null,
            "overflow_y": null,
            "overflow_x": null,
            "grid_auto_flow": null,
            "grid_area": null,
            "grid_template_columns": null,
            "flex": null,
            "_model_name": "LayoutModel",
            "justify_items": null,
            "grid_row": null,
            "max_height": null,
            "align_content": null,
            "visibility": null,
            "align_self": null,
            "height": null,
            "min_height": null,
            "padding": null,
            "grid_auto_rows": null,
            "grid_gap": null,
            "max_width": null,
            "order": null,
            "_view_module_version": "1.2.0",
            "grid_template_areas": null,
            "object_position": null,
            "object_fit": null,
            "grid_auto_columns": null,
            "margin": null,
            "display": null,
            "left": null
          }
        },
        "7780bc0c2cd8430ea97a8a67f92602fb": {
          "model_module": "@jupyter-widgets/controls",
          "model_name": "DescriptionStyleModel",
          "model_module_version": "1.5.0",
          "state": {
            "_view_name": "StyleView",
            "_model_name": "DescriptionStyleModel",
            "description_width": "",
            "_view_module": "@jupyter-widgets/base",
            "_model_module_version": "1.5.0",
            "_view_count": null,
            "_view_module_version": "1.2.0",
            "_model_module": "@jupyter-widgets/controls"
          }
        },
        "d8334f6a297e48ffb53ce88bc3802a7c": {
          "model_module": "@jupyter-widgets/base",
          "model_name": "LayoutModel",
          "model_module_version": "1.2.0",
          "state": {
            "_view_name": "LayoutView",
            "grid_template_rows": null,
            "right": null,
            "justify_content": null,
            "_view_module": "@jupyter-widgets/base",
            "overflow": null,
            "_model_module_version": "1.2.0",
            "_view_count": null,
            "flex_flow": null,
            "width": null,
            "min_width": null,
            "border": null,
            "align_items": null,
            "bottom": null,
            "_model_module": "@jupyter-widgets/base",
            "top": null,
            "grid_column": null,
            "overflow_y": null,
            "overflow_x": null,
            "grid_auto_flow": null,
            "grid_area": null,
            "grid_template_columns": null,
            "flex": null,
            "_model_name": "LayoutModel",
            "justify_items": null,
            "grid_row": null,
            "max_height": null,
            "align_content": null,
            "visibility": null,
            "align_self": null,
            "height": null,
            "min_height": null,
            "padding": null,
            "grid_auto_rows": null,
            "grid_gap": null,
            "max_width": null,
            "order": null,
            "_view_module_version": "1.2.0",
            "grid_template_areas": null,
            "object_position": null,
            "object_fit": null,
            "grid_auto_columns": null,
            "margin": null,
            "display": null,
            "left": null
          }
        }
      }
    }
  },
  "cells": [
    {
      "cell_type": "markdown",
      "metadata": {
        "id": "view-in-github",
        "colab_type": "text"
      },
      "source": [
        "<a href=\"https://colab.research.google.com/github/jjschueder/SMUCaptsoneA/blob/main/JoeWorkingCopyReadabilityScoreBaseModel.ipynb\" target=\"_parent\"><img src=\"https://colab.research.google.com/assets/colab-badge.svg\" alt=\"Open In Colab\"/></a>"
      ]
    },
    {
      "cell_type": "markdown",
      "metadata": {
        "id": "qL8VFDfskkVH"
      },
      "source": [
        "# Introduction\n",
        "Currently, most educational texts are matched to readers using traditional readability methods or commercially available formulas. However, each has its issues. Tools like Flesch-Kincaid Grade Level are based on weak proxies of text decoding (i.e., characters or syllables per word) and syntactic complexity (i.e., number or words per sentence). As a result, they lack construct and theoretical validity. At the same time, commercially available formulas, such as Lexile, can be cost-prohibitive, lack suitable validation studies, and suffer from transparency issues when the formula's features aren't publicly available.\n",
        "\n",
        "https://arxiv.org/pdf/1907.11779.pdf"
      ]
    },
    {
      "cell_type": "markdown",
      "metadata": {
        "id": "F0n2KQBUM611"
      },
      "source": [
        "# Readability Metrics\n"
      ]
    },
    {
      "cell_type": "code",
      "metadata": {
        "id": "yzEt3vwiGahR"
      },
      "source": [
        "import pandas as pd\n",
        "import matplotlib.pyplot as plt"
      ],
      "execution_count": 1,
      "outputs": []
    },
    {
      "cell_type": "markdown",
      "metadata": {
        "id": "2uxnAIyKNYO6"
      },
      "source": [
        "https://pypi.org/project/py-readability-metrics/\n"
      ]
    },
    {
      "cell_type": "markdown",
      "metadata": {
        "id": "GTB2DCeanRDa"
      },
      "source": [
        "Dale–Chall readability formula\n",
        "https://en.wikipedia.org/wiki/Dale%E2%80%93Chall_readability_formula  \n",
        "Score\tNotes  \n",
        "4.9 or lower\teasily understood by an average 4th-grade student or lower  \n",
        "5.0–5.9\teasily understood by an average 5th or 6th-grade student  \n",
        "6.0–6.9\teasily understood by an average 7th or 8th-grade student  \n",
        "7.0–7.9\teasily understood by an average 9th or 10th-grade student  \n",
        "8.0–8.9\teasily understood by an average 11th or 12th-grade student  \n",
        "9.0–9.9\teasily understood by an average 13th to 15th-grade (college) student\n"
      ]
    },
    {
      "cell_type": "code",
      "metadata": {
        "id": "QJKcD_6bMqPf"
      },
      "source": [
        "import pandas as pd\n",
        "df = pd.read_csv(r\"https://raw.githubusercontent.com/jjschueder/SMUCaptsoneA/main/train.csv\")"
      ],
      "execution_count": 2,
      "outputs": []
    },
    {
      "cell_type": "code",
      "metadata": {
        "colab": {
          "base_uri": "https://localhost:8080/"
        },
        "id": "1xtUCQZHNPOK",
        "outputId": "c35180ff-ed4a-48a9-d048-50b9c288d106"
      },
      "source": [
        "test_doc = df.iloc[0,3]\n",
        "print(test_doc)"
      ],
      "execution_count": 3,
      "outputs": [
        {
          "output_type": "stream",
          "text": [
            "When the young people returned to the ballroom, it presented a decidedly changed appearance. Instead of an interior scene, it was a winter landscape.\n",
            "The floor was covered with snow-white canvas, not laid on smoothly, but rumpled over bumps and hillocks, like a real snow field. The numerous palms and evergreens that had decorated the room, were powdered with flour and strewn with tufts of cotton, like snow. Also diamond dust had been lightly sprinkled on them, and glittering crystal icicles hung from the branches.\n",
            "At each end of the room, on the wall, hung a beautiful bear-skin rug.\n",
            "These rugs were for prizes, one for the girls and one for the boys. And this was the game.\n",
            "The girls were gathered at one end of the room and the boys at the other, and one end was called the North Pole, and the other the South Pole. Each player was given a small flag which they were to plant on reaching the Pole.\n",
            "This would have been an easy matter, but each traveller was obliged to wear snowshoes.\n"
          ],
          "name": "stdout"
        }
      ]
    },
    {
      "cell_type": "code",
      "metadata": {
        "colab": {
          "base_uri": "https://localhost:8080/"
        },
        "id": "o3v_vbjIONFX",
        "outputId": "2698f135-6b09-4a1d-ad0c-f38575a7b2fd"
      },
      "source": [
        "!pip install py-readability-metrics\n",
        "import nltk\n",
        "nltk.download('punkt')"
      ],
      "execution_count": 4,
      "outputs": [
        {
          "output_type": "stream",
          "text": [
            "Collecting py-readability-metrics\n",
            "  Downloading py_readability_metrics-1.4.5-py3-none-any.whl (26 kB)\n",
            "Requirement already satisfied: nltk in /usr/local/lib/python3.7/dist-packages (from py-readability-metrics) (3.2.5)\n",
            "Requirement already satisfied: six in /usr/local/lib/python3.7/dist-packages (from nltk->py-readability-metrics) (1.15.0)\n",
            "Installing collected packages: py-readability-metrics\n",
            "Successfully installed py-readability-metrics-1.4.5\n",
            "[nltk_data] Downloading package punkt to /root/nltk_data...\n",
            "[nltk_data]   Unzipping tokenizers/punkt.zip.\n"
          ],
          "name": "stdout"
        },
        {
          "output_type": "execute_result",
          "data": {
            "text/plain": [
              "True"
            ]
          },
          "metadata": {},
          "execution_count": 4
        }
      ]
    },
    {
      "cell_type": "code",
      "metadata": {
        "colab": {
          "base_uri": "https://localhost:8080/"
        },
        "id": "rj1QlbjxNUGU",
        "outputId": "c7ad97e1-ad02-4642-aef5-c1f11e767e00"
      },
      "source": [
        "\n",
        "from readability import Readability\n",
        "r = Readability(test_doc)\n",
        "fk = r.flesch_kincaid()\n",
        "print(fk.score)\n",
        "print(fk.grade_level)"
      ],
      "execution_count": 5,
      "outputs": [
        {
          "output_type": "stream",
          "text": [
            "6.744474352463179\n",
            "7\n"
          ],
          "name": "stdout"
        }
      ]
    },
    {
      "cell_type": "code",
      "metadata": {
        "colab": {
          "base_uri": "https://localhost:8080/"
        },
        "id": "M7cc6UTENduR",
        "outputId": "ad0eb487-d116-462d-cb52-d6df45b628e5"
      },
      "source": [
        "# Other Metrics\n",
        "# This doesn't generate output, look at example above\n",
        "r.flesch_kincaid()\n",
        "r.flesch()\n",
        "r.gunning_fog()\n",
        "r.coleman_liau()\n",
        "r.dale_chall()\n",
        "r.ari()\n",
        "r.linsear_write()\n",
        "#r.smog()\n",
        "r.spache()"
      ],
      "execution_count": 6,
      "outputs": [
        {
          "output_type": "execute_result",
          "data": {
            "text/plain": [
              "<readability.scorers.spache.Result at 0x7ff74ed4de50>"
            ]
          },
          "metadata": {},
          "execution_count": 6
        }
      ]
    },
    {
      "cell_type": "code",
      "metadata": {
        "id": "JrdJ5-Czk6mI"
      },
      "source": [
        "# apply Flesch-Kindcaid and Dale–Chall to dataframe\n",
        "for index, row in df.iterrows():\n",
        "    r = Readability(row['excerpt'])\n",
        "    fk = r.flesch_kincaid()\n",
        "    df.at[index, 'fkscore'] = fk.score\n",
        "    df.at[index, 'fkgrade_level'] = fk.grade_level\n",
        "    dc = r.dale_chall()\n",
        "    df.at[index, 'dcscore'] = dc.score\n",
        "    gf = r.gunning_fog()\n",
        "    df.at[index, 'gfscore'] = gf.score\n",
        "    cl = r.coleman_liau()\n",
        "    df.at[index, 'clscore'] = cl.score\n",
        "    ari = r.ari()\n",
        "    df.at[index, 'ariscore'] = ari.score\n",
        "    #df.at[index, 'dcgrade_level_low'] = dc.grade_levels[0]\n",
        "    #df.at[index, 'dcgrade_level_high'] = dc.grade_levels[1]\n",
        "\n"
      ],
      "execution_count": 7,
      "outputs": []
    },
    {
      "cell_type": "code",
      "metadata": {
        "colab": {
          "base_uri": "https://localhost:8080/",
          "height": 287
        },
        "id": "m2BMijzw19Vg",
        "outputId": "12a13e54-5593-4796-a985-0b5d1ee18688"
      },
      "source": [
        "df['words'] = [len(x.split()) for x in df['excerpt'].tolist()]\n",
        "\n",
        "df['wordset'] = [len(set(x.split())) for x in df['excerpt'].tolist()] \n",
        "df['lexicaldiversity'] = df['words'] / df['wordset']\n",
        "df.head(5)"
      ],
      "execution_count": 8,
      "outputs": [
        {
          "output_type": "execute_result",
          "data": {
            "text/html": [
              "<div>\n",
              "<style scoped>\n",
              "    .dataframe tbody tr th:only-of-type {\n",
              "        vertical-align: middle;\n",
              "    }\n",
              "\n",
              "    .dataframe tbody tr th {\n",
              "        vertical-align: top;\n",
              "    }\n",
              "\n",
              "    .dataframe thead th {\n",
              "        text-align: right;\n",
              "    }\n",
              "</style>\n",
              "<table border=\"1\" class=\"dataframe\">\n",
              "  <thead>\n",
              "    <tr style=\"text-align: right;\">\n",
              "      <th></th>\n",
              "      <th>id</th>\n",
              "      <th>url_legal</th>\n",
              "      <th>license</th>\n",
              "      <th>excerpt</th>\n",
              "      <th>target</th>\n",
              "      <th>standard_error</th>\n",
              "      <th>fkscore</th>\n",
              "      <th>fkgrade_level</th>\n",
              "      <th>dcscore</th>\n",
              "      <th>gfscore</th>\n",
              "      <th>clscore</th>\n",
              "      <th>ariscore</th>\n",
              "      <th>words</th>\n",
              "      <th>wordset</th>\n",
              "      <th>lexicaldiversity</th>\n",
              "    </tr>\n",
              "  </thead>\n",
              "  <tbody>\n",
              "    <tr>\n",
              "      <th>0</th>\n",
              "      <td>c12129c31</td>\n",
              "      <td>NaN</td>\n",
              "      <td>NaN</td>\n",
              "      <td>When the young people returned to the ballroom...</td>\n",
              "      <td>-0.340259</td>\n",
              "      <td>0.464009</td>\n",
              "      <td>6.744474</td>\n",
              "      <td>7</td>\n",
              "      <td>6.560722</td>\n",
              "      <td>10.084510</td>\n",
              "      <td>8.298994</td>\n",
              "      <td>7.467202</td>\n",
              "      <td>179</td>\n",
              "      <td>114</td>\n",
              "      <td>1.570175</td>\n",
              "    </tr>\n",
              "    <tr>\n",
              "      <th>1</th>\n",
              "      <td>85aa80a4c</td>\n",
              "      <td>NaN</td>\n",
              "      <td>NaN</td>\n",
              "      <td>All through dinner time, Mrs. Fayre was somewh...</td>\n",
              "      <td>-0.315372</td>\n",
              "      <td>0.480805</td>\n",
              "      <td>5.230699</td>\n",
              "      <td>5</td>\n",
              "      <td>7.606702</td>\n",
              "      <td>7.502951</td>\n",
              "      <td>5.229508</td>\n",
              "      <td>3.458525</td>\n",
              "      <td>169</td>\n",
              "      <td>127</td>\n",
              "      <td>1.330709</td>\n",
              "    </tr>\n",
              "    <tr>\n",
              "      <th>2</th>\n",
              "      <td>b69ac6792</td>\n",
              "      <td>NaN</td>\n",
              "      <td>NaN</td>\n",
              "      <td>As Roger had predicted, the snow departed as q...</td>\n",
              "      <td>-0.580118</td>\n",
              "      <td>0.476676</td>\n",
              "      <td>6.446818</td>\n",
              "      <td>6</td>\n",
              "      <td>8.108452</td>\n",
              "      <td>9.581818</td>\n",
              "      <td>6.137273</td>\n",
              "      <td>5.624091</td>\n",
              "      <td>166</td>\n",
              "      <td>128</td>\n",
              "      <td>1.296875</td>\n",
              "    </tr>\n",
              "    <tr>\n",
              "      <th>3</th>\n",
              "      <td>dd1000b26</td>\n",
              "      <td>NaN</td>\n",
              "      <td>NaN</td>\n",
              "      <td>And outside before the palace a great garden w...</td>\n",
              "      <td>-1.054013</td>\n",
              "      <td>0.450007</td>\n",
              "      <td>12.343512</td>\n",
              "      <td>12</td>\n",
              "      <td>6.996429</td>\n",
              "      <td>14.095610</td>\n",
              "      <td>8.968780</td>\n",
              "      <td>15.533171</td>\n",
              "      <td>164</td>\n",
              "      <td>118</td>\n",
              "      <td>1.389831</td>\n",
              "    </tr>\n",
              "    <tr>\n",
              "      <th>4</th>\n",
              "      <td>37c1b32fb</td>\n",
              "      <td>NaN</td>\n",
              "      <td>NaN</td>\n",
              "      <td>Once upon a time there were Three Bears who li...</td>\n",
              "      <td>0.247197</td>\n",
              "      <td>0.510845</td>\n",
              "      <td>9.629619</td>\n",
              "      <td>10</td>\n",
              "      <td>1.995315</td>\n",
              "      <td>12.032109</td>\n",
              "      <td>5.153197</td>\n",
              "      <td>10.860408</td>\n",
              "      <td>147</td>\n",
              "      <td>51</td>\n",
              "      <td>2.882353</td>\n",
              "    </tr>\n",
              "  </tbody>\n",
              "</table>\n",
              "</div>"
            ],
            "text/plain": [
              "          id url_legal license  ... words  wordset  lexicaldiversity\n",
              "0  c12129c31       NaN     NaN  ...   179      114          1.570175\n",
              "1  85aa80a4c       NaN     NaN  ...   169      127          1.330709\n",
              "2  b69ac6792       NaN     NaN  ...   166      128          1.296875\n",
              "3  dd1000b26       NaN     NaN  ...   164      118          1.389831\n",
              "4  37c1b32fb       NaN     NaN  ...   147       51          2.882353\n",
              "\n",
              "[5 rows x 15 columns]"
            ]
          },
          "metadata": {},
          "execution_count": 8
        }
      ]
    },
    {
      "cell_type": "code",
      "metadata": {
        "colab": {
          "base_uri": "https://localhost:8080/",
          "height": 513
        },
        "id": "JnmRqiM5nnuf",
        "outputId": "e7a7bcce-8275-4f8f-dca8-23258df5bf66"
      },
      "source": [
        "import matplotlib.pyplot as plt\n",
        "import seaborn as sns\n",
        "\n",
        "from sklearn.preprocessing import StandardScaler\n",
        "scale= StandardScaler()\n",
        "\n",
        " \n",
        "plt.figure(figsize=(12,7))\n",
        "sns.lineplot(x=df.id[:50], y=df.target[:50],label='Training Target')\n",
        "sns.lineplot(x=df.id[:50], y=df.fkgrade_level[:50],label='FK Level')\n",
        "sns.lineplot(x=df.id[:50], y=df.fkscore[:50],label='FK Score')\n",
        "sns.lineplot(x=df.id[:50], y=df.dcscore[:50], label='Dale-Chall')\n",
        "plt.title('Target reading level score vs grade level')\n",
        "plt.xlabel(\"ID\")\n",
        "plt.ylabel(\"Reading Score\")\n",
        "plt.xticks(rotation=-80)\n",
        "plt.tight_layout()"
      ],
      "execution_count": 9,
      "outputs": [
        {
          "output_type": "display_data",
          "data": {
            "image/png": "[encoded data removed]",
            "text/plain": [
              "<Figure size 864x504 with 1 Axes>"
            ]
          },
          "metadata": {
            "needs_background": "light"
          }
        }
      ]
    },
    {
      "cell_type": "code",
      "metadata": {
        "colab": {
          "base_uri": "https://localhost:8080/",
          "height": 765
        },
        "id": "2DS_JJIXstfA",
        "outputId": "84c7e695-22b5-4f06-8b21-366e5c96bbcc"
      },
      "source": [
        "print(type(df.target),type(df.fkgrade_level),type(df.fkscore),type(df.dcscore))\n",
        "df_part=df[[\"target\",\"fkgrade_level\", \"fkscore\", \"dcscore\"]]\n",
        "\n",
        "from sklearn.preprocessing import StandardScaler\n",
        "scale= StandardScaler()\n",
        "\n",
        "df_part.to_numpy()\n",
        "df_part = scale.fit_transform(df_part) \n",
        " \n",
        "import matplotlib.pyplot as plt\n",
        "import seaborn as sns\n",
        "\n",
        "\n",
        "print(\"first 5 target\", df.target[:5])\n",
        "print(\"first 5 target scaled\",df_part[:5,0])\n",
        "print(\"first 5 DC\", df.dcscore[:5])\n",
        "print(\"first 5 dc scaled\", df_part[:5,3])\n",
        " \n",
        "plt.figure(figsize=(12,7))\n",
        "sns.lineplot(x=df.id[:50], y=df_part[:50,0],label='Training Target')\n",
        "sns.lineplot(x=df.id[:50], y=df_part[:50,1],label='FK Level')\n",
        "sns.lineplot(x=df.id[:50], y=df_part[:50,2],label='FK Score')\n",
        "sns.lineplot(x=df.id[:50], y=df_part[:50,3], label='Dale-Chall')\n",
        "plt.title('Target reading level score vs grade level')\n",
        "plt.xlabel(\"ID\")\n",
        "plt.ylabel(\"Reading Score\")\n",
        "plt.xticks(rotation=-80)\n",
        "plt.tight_layout()\n"
      ],
      "execution_count": 10,
      "outputs": [
        {
          "output_type": "stream",
          "text": [
            "<class 'pandas.core.series.Series'> <class 'pandas.core.series.Series'> <class 'pandas.core.series.Series'> <class 'pandas.core.series.Series'>\n",
            "first 5 target 0   -0.340259\n",
            "1   -0.315372\n",
            "2   -0.580118\n",
            "3   -1.054013\n",
            "4    0.247197\n",
            "Name: target, dtype: float64\n",
            "first 5 target scaled [ 0.59905317  0.62313567  0.36694597 -0.09163432  1.16752459]\n",
            "first 5 DC 0    6.560722\n",
            "1    7.606702\n",
            "2    8.108452\n",
            "3    6.996429\n",
            "4    1.995315\n",
            "Name: dcscore, dtype: float64\n",
            "first 5 dc scaled [-0.78884712 -0.15838024  0.14405101 -0.52622392 -3.54065782]\n"
          ],
          "name": "stdout"
        },
        {
          "output_type": "display_data",
          "data": {
            "image/png": "[encoded data removed]",
            "text/plain": [
              "<Figure size 864x504 with 1 Axes>"
            ]
          },
          "metadata": {
            "needs_background": "light"
          }
        }
      ]
    },
    {
      "cell_type": "markdown",
      "metadata": {
        "id": "ll0nXm3gNyuQ"
      },
      "source": [
        "## Document Statistics\n",
        "I want to count basic feautres to potentially add as features in our models"
      ]
    },
    {
      "cell_type": "code",
      "metadata": {
        "colab": {
          "base_uri": "https://localhost:8080/"
        },
        "id": "k041m-pvNvvi",
        "outputId": "f3b8e00f-832a-4a07-93ee-96eb4d93f524"
      },
      "source": [
        "# I would use this to count sentences\n",
        "import nltk\n",
        "sents = nltk.sent_tokenize(test_doc)\n",
        "print(\"Num Sents: \",len(sents))\n",
        "sents"
      ],
      "execution_count": 11,
      "outputs": [
        {
          "output_type": "stream",
          "text": [
            "Num Sents:  11\n"
          ],
          "name": "stdout"
        },
        {
          "output_type": "execute_result",
          "data": {
            "text/plain": [
              "['When the young people returned to the ballroom, it presented a decidedly changed appearance.',\n",
              " 'Instead of an interior scene, it was a winter landscape.',\n",
              " 'The floor was covered with snow-white canvas, not laid on smoothly, but rumpled over bumps and hillocks, like a real snow field.',\n",
              " 'The numerous palms and evergreens that had decorated the room, were powdered with flour and strewn with tufts of cotton, like snow.',\n",
              " 'Also diamond dust had been lightly sprinkled on them, and glittering crystal icicles hung from the branches.',\n",
              " 'At each end of the room, on the wall, hung a beautiful bear-skin rug.',\n",
              " 'These rugs were for prizes, one for the girls and one for the boys.',\n",
              " 'And this was the game.',\n",
              " 'The girls were gathered at one end of the room and the boys at the other, and one end was called the North Pole, and the other the South Pole.',\n",
              " 'Each player was given a small flag which they were to plant on reaching the Pole.',\n",
              " 'This would have been an easy matter, but each traveller was obliged to wear snowshoes.']"
            ]
          },
          "metadata": {},
          "execution_count": 11
        }
      ]
    },
    {
      "cell_type": "code",
      "metadata": {
        "colab": {
          "base_uri": "https://localhost:8080/"
        },
        "id": "f-tZPBqhPHwV",
        "outputId": "c46fc10c-efa2-4cb2-c571-0f19c40a4a87"
      },
      "source": [
        "# Count Words and calc words per sentence\n",
        "words = 0\n",
        "for sent in sents:\n",
        "  get_words = sent.split(\" \")\n",
        "  num_words = len(get_words)\n",
        "  words += num_words\n",
        "\n",
        "print(\"Words in doc: \", words)\n",
        "print(\"Words per Sent: \", words/len(sents))"
      ],
      "execution_count": 12,
      "outputs": [
        {
          "output_type": "stream",
          "text": [
            "Words in doc:  179\n",
            "Words per Sent:  16.272727272727273\n"
          ],
          "name": "stdout"
        }
      ]
    },
    {
      "cell_type": "markdown",
      "metadata": {
        "id": "OxP1FfLjGahQ"
      },
      "source": [
        "# Discovery"
      ]
    },
    {
      "cell_type": "code",
      "metadata": {
        "colab": {
          "base_uri": "https://localhost:8080/",
          "height": 287
        },
        "id": "eRPno-jTGahU",
        "outputId": "57f677b4-66fc-4bd5-fd09-5b36252fbd2b"
      },
      "source": [
        "df.head()"
      ],
      "execution_count": 13,
      "outputs": [
        {
          "output_type": "execute_result",
          "data": {
            "text/html": [
              "<div>\n",
              "<style scoped>\n",
              "    .dataframe tbody tr th:only-of-type {\n",
              "        vertical-align: middle;\n",
              "    }\n",
              "\n",
              "    .dataframe tbody tr th {\n",
              "        vertical-align: top;\n",
              "    }\n",
              "\n",
              "    .dataframe thead th {\n",
              "        text-align: right;\n",
              "    }\n",
              "</style>\n",
              "<table border=\"1\" class=\"dataframe\">\n",
              "  <thead>\n",
              "    <tr style=\"text-align: right;\">\n",
              "      <th></th>\n",
              "      <th>id</th>\n",
              "      <th>url_legal</th>\n",
              "      <th>license</th>\n",
              "      <th>excerpt</th>\n",
              "      <th>target</th>\n",
              "      <th>standard_error</th>\n",
              "      <th>fkscore</th>\n",
              "      <th>fkgrade_level</th>\n",
              "      <th>dcscore</th>\n",
              "      <th>gfscore</th>\n",
              "      <th>clscore</th>\n",
              "      <th>ariscore</th>\n",
              "      <th>words</th>\n",
              "      <th>wordset</th>\n",
              "      <th>lexicaldiversity</th>\n",
              "    </tr>\n",
              "  </thead>\n",
              "  <tbody>\n",
              "    <tr>\n",
              "      <th>0</th>\n",
              "      <td>c12129c31</td>\n",
              "      <td>NaN</td>\n",
              "      <td>NaN</td>\n",
              "      <td>When the young people returned to the ballroom...</td>\n",
              "      <td>-0.340259</td>\n",
              "      <td>0.464009</td>\n",
              "      <td>6.744474</td>\n",
              "      <td>7</td>\n",
              "      <td>6.560722</td>\n",
              "      <td>10.084510</td>\n",
              "      <td>8.298994</td>\n",
              "      <td>7.467202</td>\n",
              "      <td>179</td>\n",
              "      <td>114</td>\n",
              "      <td>1.570175</td>\n",
              "    </tr>\n",
              "    <tr>\n",
              "      <th>1</th>\n",
              "      <td>85aa80a4c</td>\n",
              "      <td>NaN</td>\n",
              "      <td>NaN</td>\n",
              "      <td>All through dinner time, Mrs. Fayre was somewh...</td>\n",
              "      <td>-0.315372</td>\n",
              "      <td>0.480805</td>\n",
              "      <td>5.230699</td>\n",
              "      <td>5</td>\n",
              "      <td>7.606702</td>\n",
              "      <td>7.502951</td>\n",
              "      <td>5.229508</td>\n",
              "      <td>3.458525</td>\n",
              "      <td>169</td>\n",
              "      <td>127</td>\n",
              "      <td>1.330709</td>\n",
              "    </tr>\n",
              "    <tr>\n",
              "      <th>2</th>\n",
              "      <td>b69ac6792</td>\n",
              "      <td>NaN</td>\n",
              "      <td>NaN</td>\n",
              "      <td>As Roger had predicted, the snow departed as q...</td>\n",
              "      <td>-0.580118</td>\n",
              "      <td>0.476676</td>\n",
              "      <td>6.446818</td>\n",
              "      <td>6</td>\n",
              "      <td>8.108452</td>\n",
              "      <td>9.581818</td>\n",
              "      <td>6.137273</td>\n",
              "      <td>5.624091</td>\n",
              "      <td>166</td>\n",
              "      <td>128</td>\n",
              "      <td>1.296875</td>\n",
              "    </tr>\n",
              "    <tr>\n",
              "      <th>3</th>\n",
              "      <td>dd1000b26</td>\n",
              "      <td>NaN</td>\n",
              "      <td>NaN</td>\n",
              "      <td>And outside before the palace a great garden w...</td>\n",
              "      <td>-1.054013</td>\n",
              "      <td>0.450007</td>\n",
              "      <td>12.343512</td>\n",
              "      <td>12</td>\n",
              "      <td>6.996429</td>\n",
              "      <td>14.095610</td>\n",
              "      <td>8.968780</td>\n",
              "      <td>15.533171</td>\n",
              "      <td>164</td>\n",
              "      <td>118</td>\n",
              "      <td>1.389831</td>\n",
              "    </tr>\n",
              "    <tr>\n",
              "      <th>4</th>\n",
              "      <td>37c1b32fb</td>\n",
              "      <td>NaN</td>\n",
              "      <td>NaN</td>\n",
              "      <td>Once upon a time there were Three Bears who li...</td>\n",
              "      <td>0.247197</td>\n",
              "      <td>0.510845</td>\n",
              "      <td>9.629619</td>\n",
              "      <td>10</td>\n",
              "      <td>1.995315</td>\n",
              "      <td>12.032109</td>\n",
              "      <td>5.153197</td>\n",
              "      <td>10.860408</td>\n",
              "      <td>147</td>\n",
              "      <td>51</td>\n",
              "      <td>2.882353</td>\n",
              "    </tr>\n",
              "  </tbody>\n",
              "</table>\n",
              "</div>"
            ],
            "text/plain": [
              "          id url_legal license  ... words  wordset  lexicaldiversity\n",
              "0  c12129c31       NaN     NaN  ...   179      114          1.570175\n",
              "1  85aa80a4c       NaN     NaN  ...   169      127          1.330709\n",
              "2  b69ac6792       NaN     NaN  ...   166      128          1.296875\n",
              "3  dd1000b26       NaN     NaN  ...   164      118          1.389831\n",
              "4  37c1b32fb       NaN     NaN  ...   147       51          2.882353\n",
              "\n",
              "[5 rows x 15 columns]"
            ]
          },
          "metadata": {},
          "execution_count": 13
        }
      ]
    },
    {
      "cell_type": "code",
      "metadata": {
        "colab": {
          "base_uri": "https://localhost:8080/"
        },
        "id": "AGp1YZkMGahV",
        "outputId": "b68a793c-1657-42c5-9e98-17625fd8ebd3"
      },
      "source": [
        "df.info()"
      ],
      "execution_count": 14,
      "outputs": [
        {
          "output_type": "stream",
          "text": [
            "<class 'pandas.core.frame.DataFrame'>\n",
            "RangeIndex: 2834 entries, 0 to 2833\n",
            "Data columns (total 15 columns):\n",
            " #   Column            Non-Null Count  Dtype  \n",
            "---  ------            --------------  -----  \n",
            " 0   id                2834 non-null   object \n",
            " 1   url_legal         830 non-null    object \n",
            " 2   license           830 non-null    object \n",
            " 3   excerpt           2834 non-null   object \n",
            " 4   target            2834 non-null   float64\n",
            " 5   standard_error    2834 non-null   float64\n",
            " 6   fkscore           2834 non-null   float64\n",
            " 7   fkgrade_level     2834 non-null   object \n",
            " 8   dcscore           2834 non-null   float64\n",
            " 9   gfscore           2834 non-null   float64\n",
            " 10  clscore           2834 non-null   float64\n",
            " 11  ariscore          2834 non-null   float64\n",
            " 12  words             2834 non-null   int64  \n",
            " 13  wordset           2834 non-null   int64  \n",
            " 14  lexicaldiversity  2834 non-null   float64\n",
            "dtypes: float64(8), int64(2), object(5)\n",
            "memory usage: 332.2+ KB\n"
          ],
          "name": "stdout"
        }
      ]
    },
    {
      "cell_type": "code",
      "metadata": {
        "colab": {
          "base_uri": "https://localhost:8080/"
        },
        "id": "GBR-U_YEGahW",
        "outputId": "d1f0545d-0acf-4d4b-c6ff-dbfd7a6433b1"
      },
      "source": [
        "df.columns.values"
      ],
      "execution_count": 15,
      "outputs": [
        {
          "output_type": "execute_result",
          "data": {
            "text/plain": [
              "array(['id', 'url_legal', 'license', 'excerpt', 'target',\n",
              "       'standard_error', 'fkscore', 'fkgrade_level', 'dcscore', 'gfscore',\n",
              "       'clscore', 'ariscore', 'words', 'wordset', 'lexicaldiversity'],\n",
              "      dtype=object)"
            ]
          },
          "metadata": {},
          "execution_count": 15
        }
      ]
    },
    {
      "cell_type": "code",
      "metadata": {
        "colab": {
          "base_uri": "https://localhost:8080/"
        },
        "id": "z1dz0G_nGahX",
        "outputId": "b70c4bee-49af-4cfd-ed00-949b3ee21919"
      },
      "source": [
        "df.dtypes"
      ],
      "execution_count": 16,
      "outputs": [
        {
          "output_type": "execute_result",
          "data": {
            "text/plain": [
              "id                   object\n",
              "url_legal            object\n",
              "license              object\n",
              "excerpt              object\n",
              "target              float64\n",
              "standard_error      float64\n",
              "fkscore             float64\n",
              "fkgrade_level        object\n",
              "dcscore             float64\n",
              "gfscore             float64\n",
              "clscore             float64\n",
              "ariscore            float64\n",
              "words                 int64\n",
              "wordset               int64\n",
              "lexicaldiversity    float64\n",
              "dtype: object"
            ]
          },
          "metadata": {},
          "execution_count": 16
        }
      ]
    },
    {
      "cell_type": "code",
      "metadata": {
        "colab": {
          "base_uri": "https://localhost:8080/",
          "height": 295
        },
        "id": "e1kOV1IqGahX",
        "outputId": "f9f711d0-046a-4394-dd12-8f8fa1d08c50"
      },
      "source": [
        "# will get summary of continuous or the nominals\n",
        "dfstats = df.describe()\n",
        "dfstats"
      ],
      "execution_count": 17,
      "outputs": [
        {
          "output_type": "execute_result",
          "data": {
            "text/html": [
              "<div>\n",
              "<style scoped>\n",
              "    .dataframe tbody tr th:only-of-type {\n",
              "        vertical-align: middle;\n",
              "    }\n",
              "\n",
              "    .dataframe tbody tr th {\n",
              "        vertical-align: top;\n",
              "    }\n",
              "\n",
              "    .dataframe thead th {\n",
              "        text-align: right;\n",
              "    }\n",
              "</style>\n",
              "<table border=\"1\" class=\"dataframe\">\n",
              "  <thead>\n",
              "    <tr style=\"text-align: right;\">\n",
              "      <th></th>\n",
              "      <th>target</th>\n",
              "      <th>standard_error</th>\n",
              "      <th>fkscore</th>\n",
              "      <th>dcscore</th>\n",
              "      <th>gfscore</th>\n",
              "      <th>clscore</th>\n",
              "      <th>ariscore</th>\n",
              "      <th>words</th>\n",
              "      <th>wordset</th>\n",
              "      <th>lexicaldiversity</th>\n",
              "    </tr>\n",
              "  </thead>\n",
              "  <tbody>\n",
              "    <tr>\n",
              "      <th>count</th>\n",
              "      <td>2834.000000</td>\n",
              "      <td>2834.000000</td>\n",
              "      <td>2834.000000</td>\n",
              "      <td>2834.000000</td>\n",
              "      <td>2834.000000</td>\n",
              "      <td>2834.000000</td>\n",
              "      <td>2834.000000</td>\n",
              "      <td>2834.000000</td>\n",
              "      <td>2834.000000</td>\n",
              "      <td>2834.000000</td>\n",
              "    </tr>\n",
              "    <tr>\n",
              "      <th>mean</th>\n",
              "      <td>-0.959319</td>\n",
              "      <td>0.491435</td>\n",
              "      <td>9.917098</td>\n",
              "      <td>7.869464</td>\n",
              "      <td>12.509284</td>\n",
              "      <td>8.537462</td>\n",
              "      <td>10.402972</td>\n",
              "      <td>172.982004</td>\n",
              "      <td>114.690191</td>\n",
              "      <td>1.516672</td>\n",
              "    </tr>\n",
              "    <tr>\n",
              "      <th>std</th>\n",
              "      <td>1.033579</td>\n",
              "      <td>0.034818</td>\n",
              "      <td>4.376662</td>\n",
              "      <td>1.659349</td>\n",
              "      <td>4.787521</td>\n",
              "      <td>2.998040</td>\n",
              "      <td>5.548807</td>\n",
              "      <td>16.974390</td>\n",
              "      <td>12.964558</td>\n",
              "      <td>0.144166</td>\n",
              "    </tr>\n",
              "    <tr>\n",
              "      <th>min</th>\n",
              "      <td>-3.676268</td>\n",
              "      <td>0.000000</td>\n",
              "      <td>-0.274790</td>\n",
              "      <td>0.267840</td>\n",
              "      <td>2.160000</td>\n",
              "      <td>-2.378896</td>\n",
              "      <td>-3.695789</td>\n",
              "      <td>135.000000</td>\n",
              "      <td>41.000000</td>\n",
              "      <td>1.225806</td>\n",
              "    </tr>\n",
              "    <tr>\n",
              "      <th>25%</th>\n",
              "      <td>-1.690320</td>\n",
              "      <td>0.468543</td>\n",
              "      <td>7.044826</td>\n",
              "      <td>6.841195</td>\n",
              "      <td>9.264832</td>\n",
              "      <td>6.591707</td>\n",
              "      <td>6.839115</td>\n",
              "      <td>159.000000</td>\n",
              "      <td>106.000000</td>\n",
              "      <td>1.430685</td>\n",
              "    </tr>\n",
              "    <tr>\n",
              "      <th>50%</th>\n",
              "      <td>-0.912190</td>\n",
              "      <td>0.484721</td>\n",
              "      <td>9.719968</td>\n",
              "      <td>7.735808</td>\n",
              "      <td>12.241037</td>\n",
              "      <td>8.543974</td>\n",
              "      <td>10.224044</td>\n",
              "      <td>175.000000</td>\n",
              "      <td>115.000000</td>\n",
              "      <td>1.498092</td>\n",
              "    </tr>\n",
              "    <tr>\n",
              "      <th>75%</th>\n",
              "      <td>-0.202540</td>\n",
              "      <td>0.506268</td>\n",
              "      <td>12.357926</td>\n",
              "      <td>8.819964</td>\n",
              "      <td>15.238172</td>\n",
              "      <td>10.408252</td>\n",
              "      <td>13.393405</td>\n",
              "      <td>188.000000</td>\n",
              "      <td>124.000000</td>\n",
              "      <td>1.575221</td>\n",
              "    </tr>\n",
              "    <tr>\n",
              "      <th>max</th>\n",
              "      <td>1.711390</td>\n",
              "      <td>0.649671</td>\n",
              "      <td>41.327363</td>\n",
              "      <td>13.961639</td>\n",
              "      <td>45.772139</td>\n",
              "      <td>23.149419</td>\n",
              "      <td>50.823433</td>\n",
              "      <td>205.000000</td>\n",
              "      <td>155.000000</td>\n",
              "      <td>4.243902</td>\n",
              "    </tr>\n",
              "  </tbody>\n",
              "</table>\n",
              "</div>"
            ],
            "text/plain": [
              "            target  standard_error  ...      wordset  lexicaldiversity\n",
              "count  2834.000000     2834.000000  ...  2834.000000       2834.000000\n",
              "mean     -0.959319        0.491435  ...   114.690191          1.516672\n",
              "std       1.033579        0.034818  ...    12.964558          0.144166\n",
              "min      -3.676268        0.000000  ...    41.000000          1.225806\n",
              "25%      -1.690320        0.468543  ...   106.000000          1.430685\n",
              "50%      -0.912190        0.484721  ...   115.000000          1.498092\n",
              "75%      -0.202540        0.506268  ...   124.000000          1.575221\n",
              "max       1.711390        0.649671  ...   155.000000          4.243902\n",
              "\n",
              "[8 rows x 10 columns]"
            ]
          },
          "metadata": {},
          "execution_count": 17
        }
      ]
    },
    {
      "cell_type": "code",
      "metadata": {
        "colab": {
          "base_uri": "https://localhost:8080/"
        },
        "id": "aBEiOPstGahY",
        "outputId": "5359cff8-17f3-450b-9da8-11a35b2ba4c0"
      },
      "source": [
        "df.sum(numeric_only = True)"
      ],
      "execution_count": 18,
      "outputs": [
        {
          "output_type": "execute_result",
          "data": {
            "text/plain": [
              "target               -2718.709394\n",
              "standard_error        1392.727048\n",
              "fkscore              28105.056234\n",
              "dcscore              22302.059900\n",
              "gfscore              35451.311390\n",
              "clscore              24195.166716\n",
              "ariscore             29482.022151\n",
              "words               490231.000000\n",
              "wordset             325032.000000\n",
              "lexicaldiversity      4298.247918\n",
              "dtype: float64"
            ]
          },
          "metadata": {},
          "execution_count": 18
        }
      ]
    },
    {
      "cell_type": "code",
      "metadata": {
        "colab": {
          "base_uri": "https://localhost:8080/",
          "height": 348
        },
        "id": "XO7-A6BmGahZ",
        "outputId": "9425ef98-0c8e-4713-a6d1-4e1e16ca35dd"
      },
      "source": [
        "df.sum(numeric_only = True).plot.bar()"
      ],
      "execution_count": 19,
      "outputs": [
        {
          "output_type": "execute_result",
          "data": {
            "text/plain": [
              "<matplotlib.axes._subplots.AxesSubplot at 0x7ff7439b6d10>"
            ]
          },
          "metadata": {},
          "execution_count": 19
        },
        {
          "output_type": "display_data",
          "data": {
            "image/png": "[encoded data removed]",
            "text/plain": [
              "<Figure size 432x288 with 1 Axes>"
            ]
          },
          "metadata": {
            "needs_background": "light"
          }
        }
      ]
    },
    {
      "cell_type": "code",
      "metadata": {
        "colab": {
          "base_uri": "https://localhost:8080/",
          "height": 496
        },
        "id": "p5BCFF8EGaha",
        "outputId": "50d8ae30-d3c1-4205-ba6f-9618cb30a613"
      },
      "source": [
        "# display boxplot of sale_dollars grouped by liquor_category\n",
        "plt.style.use('ggplot')\n",
        "ax = df.boxplot(column = ['target', 'standard_error', 'fkscore', 'dcscore','gfscore',\n",
        "       'clscore', 'ariscore', 'lexicaldiversity'], figsize=(14,7))\n",
        "plt.xticks(rotation=45)\n",
        "ax"
      ],
      "execution_count": 20,
      "outputs": [
        {
          "output_type": "execute_result",
          "data": {
            "text/plain": [
              "<matplotlib.axes._subplots.AxesSubplot at 0x7ff743949c50>"
            ]
          },
          "metadata": {},
          "execution_count": 20
        },
        {
          "output_type": "display_data",
          "data": {
            "image/png": "[encoded data removed]",
            "text/plain": [
              "<Figure size 1008x504 with 1 Axes>"
            ]
          },
          "metadata": {}
        }
      ]
    },
    {
      "cell_type": "code",
      "metadata": {
        "colab": {
          "base_uri": "https://localhost:8080/",
          "height": 66
        },
        "id": "yQM7JyXSGahb",
        "outputId": "f6c07a97-aaba-40ce-8e94-23b4e19d2bee"
      },
      "source": [
        "duplicateRowsDF = df[df.duplicated()]\n",
        " \n",
        "print(\"Duplicate Rows except first occurrence based on all columns are :\")\n",
        "duplicateRowsDF"
      ],
      "execution_count": 21,
      "outputs": [
        {
          "output_type": "stream",
          "text": [
            "Duplicate Rows except first occurrence based on all columns are :\n"
          ],
          "name": "stdout"
        },
        {
          "output_type": "execute_result",
          "data": {
            "text/html": [
              "<div>\n",
              "<style scoped>\n",
              "    .dataframe tbody tr th:only-of-type {\n",
              "        vertical-align: middle;\n",
              "    }\n",
              "\n",
              "    .dataframe tbody tr th {\n",
              "        vertical-align: top;\n",
              "    }\n",
              "\n",
              "    .dataframe thead th {\n",
              "        text-align: right;\n",
              "    }\n",
              "</style>\n",
              "<table border=\"1\" class=\"dataframe\">\n",
              "  <thead>\n",
              "    <tr style=\"text-align: right;\">\n",
              "      <th></th>\n",
              "      <th>id</th>\n",
              "      <th>url_legal</th>\n",
              "      <th>license</th>\n",
              "      <th>excerpt</th>\n",
              "      <th>target</th>\n",
              "      <th>standard_error</th>\n",
              "      <th>fkscore</th>\n",
              "      <th>fkgrade_level</th>\n",
              "      <th>dcscore</th>\n",
              "      <th>gfscore</th>\n",
              "      <th>clscore</th>\n",
              "      <th>ariscore</th>\n",
              "      <th>words</th>\n",
              "      <th>wordset</th>\n",
              "      <th>lexicaldiversity</th>\n",
              "    </tr>\n",
              "  </thead>\n",
              "  <tbody>\n",
              "  </tbody>\n",
              "</table>\n",
              "</div>"
            ],
            "text/plain": [
              "Empty DataFrame\n",
              "Columns: [id, url_legal, license, excerpt, target, standard_error, fkscore, fkgrade_level, dcscore, gfscore, clscore, ariscore, words, wordset, lexicaldiversity]\n",
              "Index: []"
            ]
          },
          "metadata": {},
          "execution_count": 21
        }
      ]
    },
    {
      "cell_type": "code",
      "metadata": {
        "colab": {
          "base_uri": "https://localhost:8080/",
          "height": 653
        },
        "id": "Oa4_gfSSGahb",
        "outputId": "3af2ad23-d078-42ba-9a8f-3cc4d0bb9e68"
      },
      "source": [
        "# plot the correlation matrix using seaborn\n",
        "# https://towardsdatascience.com/visualizing-data-with-pair-plots-in-python-f228cf529166\n",
        "import seaborn as sns\n",
        "cmap = sns.diverging_palette(220, 10, as_cmap=True) # one of the many color mappings\n",
        "\n",
        "# drop the counter attribute as that was used above when dealing with missing values\n",
        "#del df['counter']\n",
        "\n",
        "# show the heatmap\n",
        "sns.set(style=\"darkgrid\") # one of the many styles to plot using\n",
        "f, ax = plt.subplots(figsize=(18, 9))\n",
        "chart=sns.heatmap(df.corr(), cmap=cmap, annot=True)\n",
        "chart.set_xticklabels(ax.get_xticklabels(), rotation=45, horizontalalignment='right')\n",
        "f.tight_layout()"
      ],
      "execution_count": 22,
      "outputs": [
        {
          "output_type": "display_data",
          "data": {
            "image/png": "[encoded data removed]",
            "text/plain": [
              "<Figure size 1296x648 with 2 Axes>"
            ]
          },
          "metadata": {}
        }
      ]
    },
    {
      "cell_type": "markdown",
      "metadata": {
        "id": "-d2ShgAEP9Mk"
      },
      "source": [
        "# Model Building"
      ]
    },
    {
      "cell_type": "markdown",
      "metadata": {
        "id": "S61PKTEAlZaf"
      },
      "source": [
        "## Bert Transformer Model"
      ]
    },
    {
      "cell_type": "code",
      "metadata": {
        "colab": {
          "base_uri": "https://localhost:8080/"
        },
        "id": "IJ0jQEG7NBEy",
        "outputId": "946004aa-886c-49a9-cbf2-0cd92fb570ee"
      },
      "source": [
        "!pip install transformers\n",
        "#https://www.kaggle.com/dagnelies/kiss-roberta"
      ],
      "execution_count": 23,
      "outputs": [
        {
          "output_type": "stream",
          "text": [
            "Collecting transformers\n",
            "  Downloading transformers-4.9.2-py3-none-any.whl (2.6 MB)\n",
            "\u001b[K     |████████████████████████████████| 2.6 MB 12.8 MB/s \n",
            "\u001b[?25hRequirement already satisfied: importlib-metadata in /usr/local/lib/python3.7/dist-packages (from transformers) (4.6.4)\n",
            "Requirement already satisfied: tqdm>=4.27 in /usr/local/lib/python3.7/dist-packages (from transformers) (4.62.0)\n",
            "Collecting tokenizers<0.11,>=0.10.1\n",
            "  Downloading tokenizers-0.10.3-cp37-cp37m-manylinux_2_5_x86_64.manylinux1_x86_64.manylinux_2_12_x86_64.manylinux2010_x86_64.whl (3.3 MB)\n",
            "\u001b[K     |████████████████████████████████| 3.3 MB 29.5 MB/s \n",
            "\u001b[?25hCollecting sacremoses\n",
            "  Downloading sacremoses-0.0.45-py3-none-any.whl (895 kB)\n",
            "\u001b[K     |████████████████████████████████| 895 kB 24.1 MB/s \n",
            "\u001b[?25hRequirement already satisfied: regex!=2019.12.17 in /usr/local/lib/python3.7/dist-packages (from transformers) (2019.12.20)\n",
            "Requirement already satisfied: filelock in /usr/local/lib/python3.7/dist-packages (from transformers) (3.0.12)\n",
            "Requirement already satisfied: requests in /usr/local/lib/python3.7/dist-packages (from transformers) (2.23.0)\n",
            "Collecting pyyaml>=5.1\n",
            "  Downloading PyYAML-5.4.1-cp37-cp37m-manylinux1_x86_64.whl (636 kB)\n",
            "\u001b[K     |████████████████████████████████| 636 kB 40.8 MB/s \n",
            "\u001b[?25hCollecting huggingface-hub==0.0.12\n",
            "  Downloading huggingface_hub-0.0.12-py3-none-any.whl (37 kB)\n",
            "Requirement already satisfied: numpy>=1.17 in /usr/local/lib/python3.7/dist-packages (from transformers) (1.19.5)\n",
            "Requirement already satisfied: packaging in /usr/local/lib/python3.7/dist-packages (from transformers) (21.0)\n",
            "Requirement already satisfied: typing-extensions in /usr/local/lib/python3.7/dist-packages (from huggingface-hub==0.0.12->transformers) (3.7.4.3)\n",
            "Requirement already satisfied: pyparsing>=2.0.2 in /usr/local/lib/python3.7/dist-packages (from packaging->transformers) (2.4.7)\n",
            "Requirement already satisfied: zipp>=0.5 in /usr/local/lib/python3.7/dist-packages (from importlib-metadata->transformers) (3.5.0)\n",
            "Requirement already satisfied: chardet<4,>=3.0.2 in /usr/local/lib/python3.7/dist-packages (from requests->transformers) (3.0.4)\n",
            "Requirement already satisfied: idna<3,>=2.5 in /usr/local/lib/python3.7/dist-packages (from requests->transformers) (2.10)\n",
            "Requirement already satisfied: certifi>=2017.4.17 in /usr/local/lib/python3.7/dist-packages (from requests->transformers) (2021.5.30)\n",
            "Requirement already satisfied: urllib3!=1.25.0,!=1.25.1,<1.26,>=1.21.1 in /usr/local/lib/python3.7/dist-packages (from requests->transformers) (1.24.3)\n",
            "Requirement already satisfied: joblib in /usr/local/lib/python3.7/dist-packages (from sacremoses->transformers) (1.0.1)\n",
            "Requirement already satisfied: click in /usr/local/lib/python3.7/dist-packages (from sacremoses->transformers) (7.1.2)\n",
            "Requirement already satisfied: six in /usr/local/lib/python3.7/dist-packages (from sacremoses->transformers) (1.15.0)\n",
            "Installing collected packages: tokenizers, sacremoses, pyyaml, huggingface-hub, transformers\n",
            "  Attempting uninstall: pyyaml\n",
            "    Found existing installation: PyYAML 3.13\n",
            "    Uninstalling PyYAML-3.13:\n",
            "      Successfully uninstalled PyYAML-3.13\n",
            "Successfully installed huggingface-hub-0.0.12 pyyaml-5.4.1 sacremoses-0.0.45 tokenizers-0.10.3 transformers-4.9.2\n"
          ],
          "name": "stdout"
        }
      ]
    },
    {
      "cell_type": "code",
      "metadata": {
        "colab": {
          "base_uri": "https://localhost:8080/",
          "height": 145,
          "referenced_widgets": [
            "07013e59243043df94272d4c4a0dd824",
            "6a73ca28a5fd41d2bf1082702096d4db",
            "b998bd48ff8b496c9b5f91eb55dce397",
            "332b66284e644a97851a9393a7bc39d2",
            "bbc7d69c1802405d9536d81db62d9c23",
            "40b639d0649346799c77006c08ef5d0a",
            "ea87da94b7cc4967ae9b2a930c36d306",
            "10c81a4e06b44f27a88fd92de651bae5",
            "287e6be5ffc2480dbab3b3ae55950354",
            "e0e8608366ce4ede9f8391e00f3e4630",
            "31890654d0114d3bac26465dced96e8d",
            "0fcda6116d7547f1b8007a114d14cac4",
            "a2896af3a2244fb1a76124517a57c951",
            "da089d756f444c019134be9df621c0d5",
            "eb7f76632d3f4ddb943e5774abe8193c",
            "75009edadc2748e782c675f4c5a51c83",
            "4aae39cf1dd140de9d48a4a14f128d5f",
            "d3f17b20ac6245349d35b933c3dd7ec9",
            "37e775521c544049b43d8c80c529ec58",
            "03a5d3e4f6b140ff97b89987569e3683",
            "198fd42d7fca4ab784cbf4d801fc976d",
            "821789d7fbe84a96a40332a555033676",
            "a733899ea2e14176b6f5fa68a90f251f",
            "8a08a188376f488a906fd0ab9ca01d9b",
            "55bbaf36fb974d59beda37a75f7117ed",
            "0897723a1b8f4e2f86887298463c7832",
            "f644213aaac242c486a7dfb293b9235e",
            "4503d00439a74dd9a156852105cf299a",
            "7ec8177cf7ae488287dffeb083e0ee69",
            "86137bb4b9294e43a6fb3a3d75eb691c",
            "98d4919b0f0f4caea5780d96c0a3e779",
            "76ef206d4d5d46d0bbde305b8ef94a9e",
            "ecebc4d459ca4f768953242350b4cd6d",
            "c300e7d975ed4deb85ac93947cbb0b89",
            "27b61acbd29240b4900cbe155d4c6561",
            "3962fb21647a499daac88460b2cdaae4",
            "ee4e7cc49f414e3291099e9076d54672",
            "f7e612d78f9842c4a09fb5d7d8c8f1ae",
            "75cdc5f0d7f7469bb82546f4a8772ac3",
            "67d04145a0ba4b41996bb34cd2e90450",
            "38deee16f2144a1dbd969112394423a6",
            "fe998889b7ec476f8e9e84a0c13f0c55",
            "7780bc0c2cd8430ea97a8a67f92602fb",
            "d8334f6a297e48ffb53ce88bc3802a7c"
          ]
        },
        "id": "ev-I8dkSGahd",
        "outputId": "06c767ae-bb08-4d23-bc2e-8462c76d45db"
      },
      "source": [
        "from transformers import AutoTokenizer\n",
        "tokenizer = AutoTokenizer.from_pretrained('bert-base-cased')"
      ],
      "execution_count": 24,
      "outputs": [
        {
          "output_type": "display_data",
          "data": {
            "application/vnd.jupyter.widget-view+json": {
              "model_id": "07013e59243043df94272d4c4a0dd824",
              "version_minor": 0,
              "version_major": 2
            },
            "text/plain": [
              "Downloading:   0%|          | 0.00/29.0 [00:00<?, ?B/s]"
            ]
          },
          "metadata": {}
        },
        {
          "output_type": "display_data",
          "data": {
            "application/vnd.jupyter.widget-view+json": {
              "model_id": "0fcda6116d7547f1b8007a114d14cac4",
              "version_minor": 0,
              "version_major": 2
            },
            "text/plain": [
              "Downloading:   0%|          | 0.00/570 [00:00<?, ?B/s]"
            ]
          },
          "metadata": {}
        },
        {
          "output_type": "display_data",
          "data": {
            "application/vnd.jupyter.widget-view+json": {
              "model_id": "a733899ea2e14176b6f5fa68a90f251f",
              "version_minor": 0,
              "version_major": 2
            },
            "text/plain": [
              "Downloading:   0%|          | 0.00/213k [00:00<?, ?B/s]"
            ]
          },
          "metadata": {}
        },
        {
          "output_type": "display_data",
          "data": {
            "application/vnd.jupyter.widget-view+json": {
              "model_id": "c300e7d975ed4deb85ac93947cbb0b89",
              "version_minor": 0,
              "version_major": 2
            },
            "text/plain": [
              "Downloading:   0%|          | 0.00/436k [00:00<?, ?B/s]"
            ]
          },
          "metadata": {}
        }
      ]
    },
    {
      "cell_type": "code",
      "metadata": {
        "id": "bAxyrNZSN14b"
      },
      "source": [
        "tokenizer = AutoTokenizer.from_pretrained('bert-base-cased')"
      ],
      "execution_count": 25,
      "outputs": []
    },
    {
      "cell_type": "code",
      "metadata": {
        "colab": {
          "base_uri": "https://localhost:8080/"
        },
        "id": "KW20x9B2Gahh",
        "outputId": "23a5c448-9135-4dca-b6cb-2886bf35c66c"
      },
      "source": [
        "def get_data(df):\n",
        "    # These 2 lines took me days to figure out!!! 😖😖😖\n",
        "    tokenized = tokenizer(df['excerpt'].tolist(), padding=True, return_tensors=\"np\") # the \"np\" means it will return numpy arrays\n",
        "    return {feat: tokenized[feat] for feat in tokenizer.model_input_names}\n",
        "    \n",
        "X = get_data(df)\n",
        "X"
      ],
      "execution_count": 26,
      "outputs": [
        {
          "output_type": "execute_result",
          "data": {
            "text/plain": [
              "{'attention_mask': array([[1, 1, 1, ..., 0, 0, 0],\n",
              "        [1, 1, 1, ..., 0, 0, 0],\n",
              "        [1, 1, 1, ..., 0, 0, 0],\n",
              "        ...,\n",
              "        [1, 1, 1, ..., 0, 0, 0],\n",
              "        [1, 1, 1, ..., 0, 0, 0],\n",
              "        [1, 1, 1, ..., 0, 0, 0]]),\n",
              " 'input_ids': array([[  101,  1332,  1103, ...,     0,     0,     0],\n",
              "        [  101,  1398,  1194, ...,     0,     0,     0],\n",
              "        [  101,  1249,  4271, ...,     0,     0,     0],\n",
              "        ...,\n",
              "        [  101,  1109,  1248, ...,     0,     0,     0],\n",
              "        [  101, 20375,  1116, ...,     0,     0,     0],\n",
              "        [  101, 16519,  1132, ...,     0,     0,     0]]),\n",
              " 'token_type_ids': array([[0, 0, 0, ..., 0, 0, 0],\n",
              "        [0, 0, 0, ..., 0, 0, 0],\n",
              "        [0, 0, 0, ..., 0, 0, 0],\n",
              "        ...,\n",
              "        [0, 0, 0, ..., 0, 0, 0],\n",
              "        [0, 0, 0, ..., 0, 0, 0],\n",
              "        [0, 0, 0, ..., 0, 0, 0]])}"
            ]
          },
          "metadata": {},
          "execution_count": 26
        }
      ]
    },
    {
      "cell_type": "code",
      "metadata": {
        "colab": {
          "base_uri": "https://localhost:8080/"
        },
        "id": "Rx0dBEv6Ncbs",
        "outputId": "22ac255f-f0e4-487f-cf17-bf308160cfb1"
      },
      "source": [
        "y = df[[\"target\"]].values # note that this is a list of single value lists\n",
        "y"
      ],
      "execution_count": 27,
      "outputs": [
        {
          "output_type": "execute_result",
          "data": {
            "text/plain": [
              "array([[-0.34025912],\n",
              "       [-0.31537234],\n",
              "       [-0.58011797],\n",
              "       ...,\n",
              "       [ 0.25520938],\n",
              "       [-0.21527918],\n",
              "       [ 0.30077875]])"
            ]
          },
          "metadata": {},
          "execution_count": 27
        }
      ]
    },
    {
      "cell_type": "code",
      "metadata": {
        "id": "GeGMX_RzNl8x"
      },
      "source": [
        "import matplotlib.pyplot as plt\n",
        "\n",
        "import keras\n",
        "import tensorflow.keras.backend as K\n",
        "\n",
        "\n",
        "early_stop = keras.callbacks.EarlyStopping(\n",
        "    monitor=\"val_loss\",\n",
        "    patience=2,\n",
        "    verbose=1,\n",
        "    restore_best_weights=True,\n",
        ")\n",
        "\n",
        "\n",
        "# to define 'rmse' as loss instead of 'mse'\n",
        "def rmse(y_true, y_pred):\n",
        "    return K.sqrt(K.mean(K.square(y_pred - y_true))) \n",
        "\n",
        "\n",
        "def plot_hist(history):\n",
        "    plt.plot(history['loss'])\n",
        "    plt.plot(history['val_loss'])\n",
        "    best_val_loss = min(history['val_loss'])\n",
        "    print(f'Best validation loss: {best_val_loss:.3f}')"
      ],
      "execution_count": 28,
      "outputs": []
    },
    {
      "cell_type": "code",
      "metadata": {
        "id": "IgLLAhU2N9MW"
      },
      "source": [
        "BASE_MODEL = 'bert-base-cased'"
      ],
      "execution_count": 29,
      "outputs": []
    },
    {
      "cell_type": "code",
      "metadata": {
        "id": "9gO1SNz17xjp"
      },
      "source": [
        "from tensorflow.keras.optimizers import Adam"
      ],
      "execution_count": 37,
      "outputs": []
    },
    {
      "cell_type": "code",
      "metadata": {
        "id": "YIROQia8Npl7"
      },
      "source": [
        "from transformers import TFAutoModelForSequenceClassification\n",
        "#from tensorflow.keras import optimizers\n",
        "\n",
        "#tf.keras.optimizers.Adam(learning_rate=5e-5)"
      ],
      "execution_count": 38,
      "outputs": []
    },
    {
      "cell_type": "code",
      "metadata": {
        "colab": {
          "base_uri": "https://localhost:8080/"
        },
        "id": "31HTMET6iNN6",
        "outputId": "399b5f08-acae-40dc-fbeb-cb9ed9c9055d"
      },
      "source": [
        "model = TFAutoModelForSequenceClassification.from_pretrained(BASE_MODEL, num_labels=1) # num_labels=1 results in a regression\n",
        "\n",
        "model.compile(optimizer=Adam(learning_rate=1e-5), loss=rmse, metrics=[keras.metrics.RootMeanSquaredError()]) # small training rates are necessary!\n",
        "model.summary()"
      ],
      "execution_count": 40,
      "outputs": [
        {
          "output_type": "stream",
          "text": [
            "All model checkpoint layers were used when initializing TFBertForSequenceClassification.\n",
            "\n",
            "Some layers of TFBertForSequenceClassification were not initialized from the model checkpoint at bert-base-cased and are newly initialized: ['classifier']\n",
            "You should probably TRAIN this model on a down-stream task to be able to use it for predictions and inference.\n"
          ],
          "name": "stderr"
        },
        {
          "output_type": "stream",
          "text": [
            "Model: \"tf_bert_for_sequence_classification_5\"\n",
            "_________________________________________________________________\n",
            "Layer (type)                 Output Shape              Param #   \n",
            "=================================================================\n",
            "bert (TFBertMainLayer)       multiple                  108310272 \n",
            "_________________________________________________________________\n",
            "dropout_227 (Dropout)        multiple                  0         \n",
            "_________________________________________________________________\n",
            "classifier (Dense)           multiple                  769       \n",
            "=================================================================\n",
            "Total params: 108,311,041\n",
            "Trainable params: 108,311,041\n",
            "Non-trainable params: 0\n",
            "_________________________________________________________________\n"
          ],
          "name": "stdout"
        }
      ]
    },
    {
      "cell_type": "code",
      "metadata": {
        "colab": {
          "base_uri": "https://localhost:8080/"
        },
        "id": "Fv-9IhD4PSHd",
        "outputId": "b39a8402-77ea-46af-faad-514b02c6d58b"
      },
      "source": [
        "hist = model.fit(X, y, validation_split=0.2, epochs=5, batch_size=2, callbacks=[early_stop], verbose=2) # Mini-batches seem to overfit less\n",
        "\n",
        "plot_hist(hist.history)"
      ],
      "execution_count": null,
      "outputs": [
        {
          "output_type": "stream",
          "text": [
            "Epoch 1/5\n",
            "WARNING:tensorflow:The parameters `output_attentions`, `output_hidden_states` and `use_cache` cannot be updated when calling a model.They have to be set to True/False in the config object (i.e.: `config=XConfig.from_pretrained('name', output_attentions=True)`).\n",
            "WARNING:tensorflow:AutoGraph could not transform <bound method Socket.send of <zmq.Socket(zmq.PUSH) at 0x7ff76992aec0>> and will run it as-is.\n",
            "Please report this to the TensorFlow team. When filing the bug, set the verbosity to 10 (on Linux, `export AUTOGRAPH_VERBOSITY=10`) and attach the full output.\n",
            "Cause: module, class, method, function, traceback, frame, or code object was expected, got cython_function_or_method\n",
            "To silence this warning, decorate the function with @tf.autograph.experimental.do_not_convert\n",
            "WARNING: AutoGraph could not transform <bound method Socket.send of <zmq.Socket(zmq.PUSH) at 0x7ff76992aec0>> and will run it as-is.\n",
            "Please report this to the TensorFlow team. When filing the bug, set the verbosity to 10 (on Linux, `export AUTOGRAPH_VERBOSITY=10`) and attach the full output.\n",
            "Cause: module, class, method, function, traceback, frame, or code object was expected, got cython_function_or_method\n",
            "To silence this warning, decorate the function with @tf.autograph.experimental.do_not_convert\n",
            "WARNING:tensorflow:AutoGraph could not transform <function wrap at 0x7ff784adf950> and will run it as-is.\n",
            "Cause: while/else statement not yet supported\n",
            "To silence this warning, decorate the function with @tf.autograph.experimental.do_not_convert\n",
            "WARNING: AutoGraph could not transform <function wrap at 0x7ff784adf950> and will run it as-is.\n",
            "Cause: while/else statement not yet supported\n",
            "To silence this warning, decorate the function with @tf.autograph.experimental.do_not_convert\n",
            "WARNING:tensorflow:The parameter `return_dict` cannot be set in graph mode and will always be set to `True`.\n",
            "WARNING:tensorflow:The parameters `output_attentions`, `output_hidden_states` and `use_cache` cannot be updated when calling a model.They have to be set to True/False in the config object (i.e.: `config=XConfig.from_pretrained('name', output_attentions=True)`).\n",
            "WARNING:tensorflow:The parameter `return_dict` cannot be set in graph mode and will always be set to `True`.\n"
          ],
          "name": "stdout"
        }
      ]
    },
    {
      "cell_type": "markdown",
      "metadata": {
        "id": "eEt2z2nFBv4g"
      },
      "source": [
        "Take this model and merge it with other metrics like readability and sentence count etc. to train a new bert dense model.\n",
        "* install py-readability-metrics\n",
        "* Author for readability metrics package: https://www.linkedin.com/in/carmine/\n",
        "* add a large amount of dropout\n",
        "* large batch sizes\n",
        "* gradient clipping\n",
        "\n",
        "* Winning models will be sure to incorporate text cohesion and semantics.\n",
        "\n",
        "\n",
        "\n"
      ]
    },
    {
      "cell_type": "code",
      "metadata": {
        "id": "qqUZ2usxXnq3"
      },
      "source": [
        "print(hist.history.keys())"
      ],
      "execution_count": null,
      "outputs": []
    },
    {
      "cell_type": "code",
      "metadata": {
        "id": "i31E6QrvfLww"
      },
      "source": [
        "hist.history['val_root_mean_squared_error']"
      ],
      "execution_count": null,
      "outputs": []
    },
    {
      "cell_type": "code",
      "metadata": {
        "id": "JvOrEXHUnFwU"
      },
      "source": [
        "y_test = model.predict(X)"
      ],
      "execution_count": null,
      "outputs": []
    },
    {
      "cell_type": "code",
      "metadata": {
        "id": "Z0-10ihAnqXw"
      },
      "source": [
        "y_test['logits']"
      ],
      "execution_count": null,
      "outputs": []
    },
    {
      "cell_type": "code",
      "metadata": {
        "id": "OtCS7j0MoSYh"
      },
      "source": [
        "len(y_test['logits'])"
      ],
      "execution_count": null,
      "outputs": []
    },
    {
      "cell_type": "code",
      "metadata": {
        "id": "nTrN_vvNopPj"
      },
      "source": [
        "y"
      ],
      "execution_count": null,
      "outputs": []
    },
    {
      "cell_type": "code",
      "metadata": {
        "id": "7ChcVGFrn_-T"
      },
      "source": [
        "from sklearn.metrics import mean_squared_error"
      ],
      "execution_count": null,
      "outputs": []
    },
    {
      "cell_type": "code",
      "metadata": {
        "id": "jthJXC06tWVn"
      },
      "source": [
        "y_test['logits']"
      ],
      "execution_count": null,
      "outputs": []
    },
    {
      "cell_type": "code",
      "metadata": {
        "id": "CmkXFOG_5eri"
      },
      "source": [
        "dfpreds = pd.DataFrame(y_test['logits'], columns=['bertpred'])\n",
        "dfpreds"
      ],
      "execution_count": null,
      "outputs": []
    },
    {
      "cell_type": "code",
      "metadata": {
        "id": "Bo3NcLtE5vZz"
      },
      "source": [
        "df = df.join(dfpreds)\n",
        "df"
      ],
      "execution_count": null,
      "outputs": []
    },
    {
      "cell_type": "markdown",
      "metadata": {
        "id": "p_LWs2TslOK5"
      },
      "source": [
        "## Simple numeric model using sklearn on traditional scoring metrics"
      ]
    },
    {
      "cell_type": "code",
      "metadata": {
        "id": "bb3JlIR524sV"
      },
      "source": [
        "from sklearn.model_selection import train_test_split, RandomizedSearchCV, KFold, cross_val_score\n",
        "X = df[['fkscore', 'dcscore', 'gfscore',\n",
        "       'clscore', 'ariscore', 'lexicaldiversity']].copy()\n",
        "y = df.target\n",
        "\n",
        "\n",
        "# We split the data but use the stratify option to ensure a \n",
        "# balanced split of the outcome \"y\" across the test and train data sets\n",
        "X_train, X_test, y_train, y_test = train_test_split(X, y, test_size=0.25, random_state=10)"
      ],
      "execution_count": null,
      "outputs": []
    },
    {
      "cell_type": "code",
      "metadata": {
        "id": "-m1sNuYOvAfc"
      },
      "source": [
        "#setup scaler\n",
        "from sklearn import preprocessing\n",
        "scaler = preprocessing.StandardScaler()"
      ],
      "execution_count": null,
      "outputs": []
    },
    {
      "cell_type": "code",
      "metadata": {
        "id": "7Z3bfhHf8GCI"
      },
      "source": [
        "import sklearn.metrics as metrics\n",
        "sorted(metrics.SCORERS.keys())"
      ],
      "execution_count": null,
      "outputs": []
    },
    {
      "cell_type": "code",
      "metadata": {
        "id": "7xZMgWsXkxxJ"
      },
      "source": [
        "# Establish the default parameters for the models to be used below\n",
        "rand_state = 101\n",
        "n_iterations = 5\n",
        "\n",
        "# Establish the cross validation parameters to be used in the models\n",
        "cv = KFold(n_splits=n_iterations, random_state=rand_state)\n",
        "\n",
        "#Create a Linear Regression object and perform a grid search to find the best parameters\n",
        "from sklearn.ensemble import RandomForestRegressor\n",
        "\n",
        "linreg = RandomForestRegressor()\n",
        "parameters = { 'min_samples_split':[2,3,4,5]\n",
        "              ,'n_estimators' : [500]\n",
        "              ,'min_samples_leaf': [10, 25, 50]\n",
        "              ,'criterion': ['mae']\n",
        "              ,'n_jobs':[8] \n",
        "              ,'random_state': [0]\n",
        "             }\n",
        "\n",
        "#Create a grid search object using the  \n",
        "from sklearn.model_selection import GridSearchCV\n",
        "regGridSearch = GridSearchCV(estimator=linreg\n",
        "                   , n_jobs=8 \n",
        "                   , verbose=1 # low verbosity\n",
        "                   , param_grid=parameters\n",
        "                   , cv=cv # KFolds = 10\n",
        "                   , scoring= 'neg_mean_squared_error')\n",
        "\n",
        "\n",
        "#Perform hyperparameter search to find the best combination of parameters for our data\n",
        "regGridSearch.fit(scaler.fit_transform(X_train), y_train)"
      ],
      "execution_count": null,
      "outputs": []
    },
    {
      "cell_type": "code",
      "metadata": {
        "id": "Dudbl381kX-I"
      },
      "source": [
        "regGridSearch.best_estimator_"
      ],
      "execution_count": null,
      "outputs": []
    },
    {
      "cell_type": "markdown",
      "metadata": {
        "id": "ZCmMefcbQCWY"
      },
      "source": [
        "RandomForestRegressor(bootstrap=True, ccp_alpha=0.0, criterion='mae',\n",
        "                      max_depth=None, max_features='auto', max_leaf_nodes=None,\n",
        "                      max_samples=None, min_impurity_decrease=0.0,\n",
        "                      min_impurity_split=None, min_samples_leaf=10,\n",
        "                      min_samples_split=2, min_weight_fraction_leaf=0.0,\n",
        "                      n_estimators=500, n_jobs=8, oob_score=False,\n",
        "                      random_state=0, verbose=0, warm_start=False)\n",
        "\n"
      ]
    },
    {
      "cell_type": "code",
      "metadata": {
        "id": "DA1t5mL1vr3R"
      },
      "source": [
        "regGridSearch.cv_results_"
      ],
      "execution_count": null,
      "outputs": []
    },
    {
      "cell_type": "code",
      "metadata": {
        "id": "DfS7WI6Zj5AF"
      },
      "source": [
        "rf = RandomForestRegressor(bootstrap=True, ccp_alpha=0.0, criterion='mae', max_depth=None, \n",
        "                      max_features='auto', max_leaf_nodes=None, max_samples=None, \n",
        "                      min_impurity_decrease=0.0, min_impurity_split=None, min_samples_leaf=10, \n",
        "                      min_samples_split=2,\n",
        "                      min_weight_fraction_leaf=0.0, n_estimators=500, n_jobs=8, oob_score=False, \n",
        "                      random_state=0, verbose=0, warm_start=False)"
      ],
      "execution_count": null,
      "outputs": []
    },
    {
      "cell_type": "code",
      "metadata": {
        "id": "HNIbPGnrkBAs"
      },
      "source": [
        "rf.fit(scaler.fit_transform(X_train), y_train)"
      ],
      "execution_count": null,
      "outputs": []
    },
    {
      "cell_type": "markdown",
      "metadata": {
        "id": "U17C5c67ssII"
      },
      "source": [
        "At this point we could do ensemble methods for combining the two models...\n",
        "https://scikit-learn.org/stable/modules/ensemble.html#voting-regressor\n"
      ]
    },
    {
      "cell_type": "markdown",
      "metadata": {
        "id": "7WDb8Yw9Qqg4"
      },
      "source": [
        "#Produce Predictions"
      ]
    },
    {
      "cell_type": "code",
      "metadata": {
        "id": "EKnK6_nlQo1p"
      },
      "source": [
        "test = pd.read_csv(r\"https://raw.githubusercontent.com/jjschueder/SMUCaptsoneA/main/train.csv\")"
      ],
      "execution_count": null,
      "outputs": []
    },
    {
      "cell_type": "code",
      "metadata": {
        "id": "of47FltgktvE"
      },
      "source": [
        "test"
      ],
      "execution_count": null,
      "outputs": []
    },
    {
      "cell_type": "code",
      "metadata": {
        "id": "qiBGxCsiSgCW"
      },
      "source": [
        "Xtest = get_data(test)\n",
        "Xtest"
      ],
      "execution_count": null,
      "outputs": []
    },
    {
      "cell_type": "code",
      "metadata": {
        "id": "i8c5hhkXXOlV"
      },
      "source": [
        "y_testsbmt = model.predict(Xtest)"
      ],
      "execution_count": 98,
      "outputs": []
    },
    {
      "cell_type": "code",
      "metadata": {
        "id": "-IrqHy41SmGX"
      },
      "source": [
        "def get_metrics(df):\n",
        "  # apply Flesch-Kindcaid and Dale–Chall to dataframe\n",
        "  for index, row in df.iterrows():\n",
        "      r = Readability(row['excerpt'])\n",
        "      fk = r.flesch_kincaid()\n",
        "      df.at[index, 'fkscore'] = fk.score\n",
        "      df.at[index, 'fkgrade_level'] = fk.grade_level\n",
        "      dc = r.dale_chall()\n",
        "      df.at[index, 'dcscore'] = dc.score\n",
        "      gf = r.gunning_fog()\n",
        "      df.at[index, 'gfscore'] = gf.score\n",
        "      cl = r.coleman_liau()\n",
        "      df.at[index, 'clscore'] = cl.score\n",
        "      ari = r.ari()\n",
        "      df.at[index, 'ariscore'] = ari.score\n",
        "      #df.at[index, 'dcgrade_level_low'] = dc.grade_levels[0]\n",
        "      #df.at[index, 'dcgrade_level_high'] = dc.grade_levels[1]\n",
        "  return df"
      ],
      "execution_count": null,
      "outputs": []
    },
    {
      "cell_type": "code",
      "metadata": {
        "id": "3jrwz2xOTdUl"
      },
      "source": [
        "test = get_metrics(test)\n"
      ],
      "execution_count": null,
      "outputs": []
    },
    {
      "cell_type": "code",
      "metadata": {
        "id": "bqSe5NQ8lli5"
      },
      "source": [
        "test['words'] = [len(x.split()) for x in test['excerpt'].tolist()]\n",
        "\n",
        "test['wordset'] = [len(set(x.split())) for x in test['excerpt'].tolist()] \n",
        "test['lexicaldiversity'] = test['words'] / test['wordset']"
      ],
      "execution_count": null,
      "outputs": []
    },
    {
      "cell_type": "code",
      "metadata": {
        "id": "9TliEtD9mB6k"
      },
      "source": [
        "test.head()"
      ],
      "execution_count": null,
      "outputs": []
    },
    {
      "cell_type": "code",
      "metadata": {
        "id": "E2ofB5T3lRWi"
      },
      "source": [
        "Xs = test[['fkscore', 'dcscore', 'gfscore',\n",
        "       'clscore', 'ariscore', 'lexicaldiversity']].copy()\n",
        "#ys = testtarget"
      ],
      "execution_count": 72,
      "outputs": []
    },
    {
      "cell_type": "code",
      "metadata": {
        "id": "R_hLKY7FbPTB"
      },
      "source": [
        "yhat = rf.predict(scaler.fit_transform(Xs))\n",
        "yhat"
      ],
      "execution_count": null,
      "outputs": []
    },
    {
      "cell_type": "code",
      "metadata": {
        "colab": {
          "base_uri": "https://localhost:8080/"
        },
        "id": "hdZNBYNrmQny",
        "outputId": "b4b32bb3-3973-47d5-839c-18e85d29a029"
      },
      "source": [
        "y_testsbmt['logits']"
      ],
      "execution_count": 99,
      "outputs": [
        {
          "output_type": "execute_result",
          "data": {
            "text/plain": [
              "array([[-0.15912268],\n",
              "       [-0.6868629 ],\n",
              "       [-0.39721727],\n",
              "       ...,\n",
              "       [-0.8028268 ],\n",
              "       [-1.527224  ],\n",
              "       [ 0.36875913]], dtype=float32)"
            ]
          },
          "metadata": {},
          "execution_count": 99
        }
      ]
    },
    {
      "cell_type": "code",
      "metadata": {
        "id": "ctSrwrpEbZbC"
      },
      "source": [
        "dfpredsubmit = pd.DataFrame(y_testsbmt['logits'], columns=['bertpred'])\n",
        "\n"
      ],
      "execution_count": 100,
      "outputs": []
    },
    {
      "cell_type": "code",
      "metadata": {
        "id": "uLFFdPmm0ceA"
      },
      "source": [
        "dfpredrf = pd.DataFrame(yhat, columns = ['rfpred'])"
      ],
      "execution_count": null,
      "outputs": []
    },
    {
      "cell_type": "code",
      "metadata": {
        "colab": {
          "base_uri": "https://localhost:8080/",
          "height": 418
        },
        "id": "tXNXbO9Fn-I7",
        "outputId": "f9f4d483-bff5-44ad-eab6-6df90470d69e"
      },
      "source": [
        "dfpredrf"
      ],
      "execution_count": null,
      "outputs": [
        {
          "output_type": "execute_result",
          "data": {
            "text/html": [
              "<div>\n",
              "<style scoped>\n",
              "    .dataframe tbody tr th:only-of-type {\n",
              "        vertical-align: middle;\n",
              "    }\n",
              "\n",
              "    .dataframe tbody tr th {\n",
              "        vertical-align: top;\n",
              "    }\n",
              "\n",
              "    .dataframe thead th {\n",
              "        text-align: right;\n",
              "    }\n",
              "</style>\n",
              "<table border=\"1\" class=\"dataframe\">\n",
              "  <thead>\n",
              "    <tr style=\"text-align: right;\">\n",
              "      <th></th>\n",
              "      <th>rfpred</th>\n",
              "    </tr>\n",
              "  </thead>\n",
              "  <tbody>\n",
              "    <tr>\n",
              "      <th>0</th>\n",
              "      <td>-0.418994</td>\n",
              "    </tr>\n",
              "    <tr>\n",
              "      <th>1</th>\n",
              "      <td>-0.573194</td>\n",
              "    </tr>\n",
              "    <tr>\n",
              "      <th>2</th>\n",
              "      <td>-0.827372</td>\n",
              "    </tr>\n",
              "    <tr>\n",
              "      <th>3</th>\n",
              "      <td>-0.917191</td>\n",
              "    </tr>\n",
              "    <tr>\n",
              "      <th>4</th>\n",
              "      <td>0.081767</td>\n",
              "    </tr>\n",
              "    <tr>\n",
              "      <th>...</th>\n",
              "      <td>...</td>\n",
              "    </tr>\n",
              "    <tr>\n",
              "      <th>2829</th>\n",
              "      <td>-0.441826</td>\n",
              "    </tr>\n",
              "    <tr>\n",
              "      <th>2830</th>\n",
              "      <td>-0.193692</td>\n",
              "    </tr>\n",
              "    <tr>\n",
              "      <th>2831</th>\n",
              "      <td>0.070119</td>\n",
              "    </tr>\n",
              "    <tr>\n",
              "      <th>2832</th>\n",
              "      <td>-0.531184</td>\n",
              "    </tr>\n",
              "    <tr>\n",
              "      <th>2833</th>\n",
              "      <td>-0.296863</td>\n",
              "    </tr>\n",
              "  </tbody>\n",
              "</table>\n",
              "<p>2834 rows × 1 columns</p>\n",
              "</div>"
            ],
            "text/plain": [
              "        rfpred\n",
              "0    -0.418994\n",
              "1    -0.573194\n",
              "2    -0.827372\n",
              "3    -0.917191\n",
              "4     0.081767\n",
              "...        ...\n",
              "2829 -0.441826\n",
              "2830 -0.193692\n",
              "2831  0.070119\n",
              "2832 -0.531184\n",
              "2833 -0.296863\n",
              "\n",
              "[2834 rows x 1 columns]"
            ]
          },
          "metadata": {
            "tags": []
          },
          "execution_count": 76
        }
      ]
    },
    {
      "cell_type": "code",
      "metadata": {
        "colab": {
          "base_uri": "https://localhost:8080/",
          "height": 417
        },
        "id": "ah_HUaZln7gj",
        "outputId": "57c97a63-7470-44a2-89e2-e448cfab7b28"
      },
      "source": [
        "dfpredsubmit"
      ],
      "execution_count": 101,
      "outputs": [
        {
          "output_type": "execute_result",
          "data": {
            "text/html": [
              "<div>\n",
              "<style scoped>\n",
              "    .dataframe tbody tr th:only-of-type {\n",
              "        vertical-align: middle;\n",
              "    }\n",
              "\n",
              "    .dataframe tbody tr th {\n",
              "        vertical-align: top;\n",
              "    }\n",
              "\n",
              "    .dataframe thead th {\n",
              "        text-align: right;\n",
              "    }\n",
              "</style>\n",
              "<table border=\"1\" class=\"dataframe\">\n",
              "  <thead>\n",
              "    <tr style=\"text-align: right;\">\n",
              "      <th></th>\n",
              "      <th>bertpred</th>\n",
              "    </tr>\n",
              "  </thead>\n",
              "  <tbody>\n",
              "    <tr>\n",
              "      <th>0</th>\n",
              "      <td>-0.159123</td>\n",
              "    </tr>\n",
              "    <tr>\n",
              "      <th>1</th>\n",
              "      <td>-0.686863</td>\n",
              "    </tr>\n",
              "    <tr>\n",
              "      <th>2</th>\n",
              "      <td>-0.397217</td>\n",
              "    </tr>\n",
              "    <tr>\n",
              "      <th>3</th>\n",
              "      <td>-1.321791</td>\n",
              "    </tr>\n",
              "    <tr>\n",
              "      <th>4</th>\n",
              "      <td>0.612784</td>\n",
              "    </tr>\n",
              "    <tr>\n",
              "      <th>...</th>\n",
              "      <td>...</td>\n",
              "    </tr>\n",
              "    <tr>\n",
              "      <th>2829</th>\n",
              "      <td>0.596941</td>\n",
              "    </tr>\n",
              "    <tr>\n",
              "      <th>2830</th>\n",
              "      <td>0.051901</td>\n",
              "    </tr>\n",
              "    <tr>\n",
              "      <th>2831</th>\n",
              "      <td>-0.802827</td>\n",
              "    </tr>\n",
              "    <tr>\n",
              "      <th>2832</th>\n",
              "      <td>-1.527224</td>\n",
              "    </tr>\n",
              "    <tr>\n",
              "      <th>2833</th>\n",
              "      <td>0.368759</td>\n",
              "    </tr>\n",
              "  </tbody>\n",
              "</table>\n",
              "<p>2834 rows × 1 columns</p>\n",
              "</div>"
            ],
            "text/plain": [
              "      bertpred\n",
              "0    -0.159123\n",
              "1    -0.686863\n",
              "2    -0.397217\n",
              "3    -1.321791\n",
              "4     0.612784\n",
              "...        ...\n",
              "2829  0.596941\n",
              "2830  0.051901\n",
              "2831 -0.802827\n",
              "2832 -1.527224\n",
              "2833  0.368759\n",
              "\n",
              "[2834 rows x 1 columns]"
            ]
          },
          "metadata": {},
          "execution_count": 101
        }
      ]
    },
    {
      "cell_type": "code",
      "metadata": {
        "id": "L1O7qJkcn5zN"
      },
      "source": [
        "test = test.join(dfpredsubmit)\n"
      ],
      "execution_count": 102,
      "outputs": []
    },
    {
      "cell_type": "code",
      "metadata": {
        "colab": {
          "base_uri": "https://localhost:8080/",
          "height": 288
        },
        "id": "z-n0x-AnoLPB",
        "outputId": "5c24043b-941d-4967-c18b-cc07b00836e6"
      },
      "source": [
        "test = test.join(dfpredrf)\n"
      ],
      "execution_count": null,
      "outputs": [
        {
          "output_type": "execute_result",
          "data": {
            "text/html": [
              "<div>\n",
              "<style scoped>\n",
              "    .dataframe tbody tr th:only-of-type {\n",
              "        vertical-align: middle;\n",
              "    }\n",
              "\n",
              "    .dataframe tbody tr th {\n",
              "        vertical-align: top;\n",
              "    }\n",
              "\n",
              "    .dataframe thead th {\n",
              "        text-align: right;\n",
              "    }\n",
              "</style>\n",
              "<table border=\"1\" class=\"dataframe\">\n",
              "  <thead>\n",
              "    <tr style=\"text-align: right;\">\n",
              "      <th></th>\n",
              "      <th>id</th>\n",
              "      <th>url_legal</th>\n",
              "      <th>license</th>\n",
              "      <th>excerpt</th>\n",
              "      <th>target</th>\n",
              "      <th>standard_error</th>\n",
              "      <th>fkscore</th>\n",
              "      <th>fkgrade_level</th>\n",
              "      <th>dcscore</th>\n",
              "      <th>gfscore</th>\n",
              "      <th>clscore</th>\n",
              "      <th>ariscore</th>\n",
              "      <th>words</th>\n",
              "      <th>wordset</th>\n",
              "      <th>lexicaldiversity</th>\n",
              "      <th>bertpred</th>\n",
              "      <th>rfpred</th>\n",
              "    </tr>\n",
              "  </thead>\n",
              "  <tbody>\n",
              "    <tr>\n",
              "      <th>0</th>\n",
              "      <td>c12129c31</td>\n",
              "      <td>NaN</td>\n",
              "      <td>NaN</td>\n",
              "      <td>When the young people returned to the ballroom...</td>\n",
              "      <td>-0.340259</td>\n",
              "      <td>0.464009</td>\n",
              "      <td>6.744474</td>\n",
              "      <td>7</td>\n",
              "      <td>6.560722</td>\n",
              "      <td>10.084510</td>\n",
              "      <td>8.298994</td>\n",
              "      <td>7.467202</td>\n",
              "      <td>179</td>\n",
              "      <td>114</td>\n",
              "      <td>1.570175</td>\n",
              "      <td>-0.641952</td>\n",
              "      <td>-0.418994</td>\n",
              "    </tr>\n",
              "    <tr>\n",
              "      <th>1</th>\n",
              "      <td>85aa80a4c</td>\n",
              "      <td>NaN</td>\n",
              "      <td>NaN</td>\n",
              "      <td>All through dinner time, Mrs. Fayre was somewh...</td>\n",
              "      <td>-0.315372</td>\n",
              "      <td>0.480805</td>\n",
              "      <td>5.230699</td>\n",
              "      <td>5</td>\n",
              "      <td>7.606702</td>\n",
              "      <td>7.502951</td>\n",
              "      <td>5.229508</td>\n",
              "      <td>3.458525</td>\n",
              "      <td>169</td>\n",
              "      <td>127</td>\n",
              "      <td>1.330709</td>\n",
              "      <td>-0.588312</td>\n",
              "      <td>-0.573194</td>\n",
              "    </tr>\n",
              "    <tr>\n",
              "      <th>2</th>\n",
              "      <td>b69ac6792</td>\n",
              "      <td>NaN</td>\n",
              "      <td>NaN</td>\n",
              "      <td>As Roger had predicted, the snow departed as q...</td>\n",
              "      <td>-0.580118</td>\n",
              "      <td>0.476676</td>\n",
              "      <td>6.446818</td>\n",
              "      <td>6</td>\n",
              "      <td>8.108452</td>\n",
              "      <td>9.581818</td>\n",
              "      <td>6.137273</td>\n",
              "      <td>5.624091</td>\n",
              "      <td>166</td>\n",
              "      <td>128</td>\n",
              "      <td>1.296875</td>\n",
              "      <td>-0.643836</td>\n",
              "      <td>-0.827372</td>\n",
              "    </tr>\n",
              "    <tr>\n",
              "      <th>3</th>\n",
              "      <td>dd1000b26</td>\n",
              "      <td>NaN</td>\n",
              "      <td>NaN</td>\n",
              "      <td>And outside before the palace a great garden w...</td>\n",
              "      <td>-1.054013</td>\n",
              "      <td>0.450007</td>\n",
              "      <td>12.343512</td>\n",
              "      <td>12</td>\n",
              "      <td>6.996429</td>\n",
              "      <td>14.095610</td>\n",
              "      <td>8.968780</td>\n",
              "      <td>15.533171</td>\n",
              "      <td>164</td>\n",
              "      <td>118</td>\n",
              "      <td>1.389831</td>\n",
              "      <td>-1.508346</td>\n",
              "      <td>-0.917191</td>\n",
              "    </tr>\n",
              "    <tr>\n",
              "      <th>4</th>\n",
              "      <td>37c1b32fb</td>\n",
              "      <td>NaN</td>\n",
              "      <td>NaN</td>\n",
              "      <td>Once upon a time there were Three Bears who li...</td>\n",
              "      <td>0.247197</td>\n",
              "      <td>0.510845</td>\n",
              "      <td>9.629619</td>\n",
              "      <td>10</td>\n",
              "      <td>1.995315</td>\n",
              "      <td>12.032109</td>\n",
              "      <td>5.153197</td>\n",
              "      <td>10.860408</td>\n",
              "      <td>147</td>\n",
              "      <td>51</td>\n",
              "      <td>2.882353</td>\n",
              "      <td>0.112945</td>\n",
              "      <td>0.081767</td>\n",
              "    </tr>\n",
              "  </tbody>\n",
              "</table>\n",
              "</div>"
            ],
            "text/plain": [
              "          id url_legal license  ... lexicaldiversity  bertpred    rfpred\n",
              "0  c12129c31       NaN     NaN  ...         1.570175 -0.641952 -0.418994\n",
              "1  85aa80a4c       NaN     NaN  ...         1.330709 -0.588312 -0.573194\n",
              "2  b69ac6792       NaN     NaN  ...         1.296875 -0.643836 -0.827372\n",
              "3  dd1000b26       NaN     NaN  ...         1.389831 -1.508346 -0.917191\n",
              "4  37c1b32fb       NaN     NaN  ...         2.882353  0.112945  0.081767\n",
              "\n",
              "[5 rows x 17 columns]"
            ]
          },
          "metadata": {
            "tags": []
          },
          "execution_count": 78
        }
      ]
    },
    {
      "cell_type": "code",
      "metadata": {
        "colab": {
          "base_uri": "https://localhost:8080/",
          "height": 457
        },
        "id": "9YiP_diuoqyQ",
        "outputId": "d5f449d0-24b2-471e-e892-262ab7f07ae8"
      },
      "source": [
        "#simple average of the two predicitons\n",
        "test['ensemblepred'] = (test['bertpred'] + test['rfpred']) / 2\n",
        "test.head()"
      ],
      "execution_count": null,
      "outputs": [
        {
          "output_type": "execute_result",
          "data": {
            "text/html": [
              "<div>\n",
              "<style scoped>\n",
              "    .dataframe tbody tr th:only-of-type {\n",
              "        vertical-align: middle;\n",
              "    }\n",
              "\n",
              "    .dataframe tbody tr th {\n",
              "        vertical-align: top;\n",
              "    }\n",
              "\n",
              "    .dataframe thead th {\n",
              "        text-align: right;\n",
              "    }\n",
              "</style>\n",
              "<table border=\"1\" class=\"dataframe\">\n",
              "  <thead>\n",
              "    <tr style=\"text-align: right;\">\n",
              "      <th></th>\n",
              "      <th>id</th>\n",
              "      <th>url_legal</th>\n",
              "      <th>license</th>\n",
              "      <th>excerpt</th>\n",
              "      <th>target</th>\n",
              "      <th>standard_error</th>\n",
              "      <th>fkscore</th>\n",
              "      <th>fkgrade_level</th>\n",
              "      <th>dcscore</th>\n",
              "      <th>gfscore</th>\n",
              "      <th>clscore</th>\n",
              "      <th>ariscore</th>\n",
              "      <th>words</th>\n",
              "      <th>wordset</th>\n",
              "      <th>lexicaldiversity</th>\n",
              "      <th>bertpred</th>\n",
              "      <th>rfpred</th>\n",
              "      <th>ensemblepred</th>\n",
              "    </tr>\n",
              "  </thead>\n",
              "  <tbody>\n",
              "    <tr>\n",
              "      <th>0</th>\n",
              "      <td>c12129c31</td>\n",
              "      <td>NaN</td>\n",
              "      <td>NaN</td>\n",
              "      <td>When the young people returned to the ballroom...</td>\n",
              "      <td>-0.340259</td>\n",
              "      <td>0.464009</td>\n",
              "      <td>6.744474</td>\n",
              "      <td>7</td>\n",
              "      <td>6.560722</td>\n",
              "      <td>10.084510</td>\n",
              "      <td>8.298994</td>\n",
              "      <td>7.467202</td>\n",
              "      <td>179</td>\n",
              "      <td>114</td>\n",
              "      <td>1.570175</td>\n",
              "      <td>-0.641952</td>\n",
              "      <td>-0.418994</td>\n",
              "      <td>-0.530473</td>\n",
              "    </tr>\n",
              "    <tr>\n",
              "      <th>1</th>\n",
              "      <td>85aa80a4c</td>\n",
              "      <td>NaN</td>\n",
              "      <td>NaN</td>\n",
              "      <td>All through dinner time, Mrs. Fayre was somewh...</td>\n",
              "      <td>-0.315372</td>\n",
              "      <td>0.480805</td>\n",
              "      <td>5.230699</td>\n",
              "      <td>5</td>\n",
              "      <td>7.606702</td>\n",
              "      <td>7.502951</td>\n",
              "      <td>5.229508</td>\n",
              "      <td>3.458525</td>\n",
              "      <td>169</td>\n",
              "      <td>127</td>\n",
              "      <td>1.330709</td>\n",
              "      <td>-0.588312</td>\n",
              "      <td>-0.573194</td>\n",
              "      <td>-0.580753</td>\n",
              "    </tr>\n",
              "    <tr>\n",
              "      <th>2</th>\n",
              "      <td>b69ac6792</td>\n",
              "      <td>NaN</td>\n",
              "      <td>NaN</td>\n",
              "      <td>As Roger had predicted, the snow departed as q...</td>\n",
              "      <td>-0.580118</td>\n",
              "      <td>0.476676</td>\n",
              "      <td>6.446818</td>\n",
              "      <td>6</td>\n",
              "      <td>8.108452</td>\n",
              "      <td>9.581818</td>\n",
              "      <td>6.137273</td>\n",
              "      <td>5.624091</td>\n",
              "      <td>166</td>\n",
              "      <td>128</td>\n",
              "      <td>1.296875</td>\n",
              "      <td>-0.643836</td>\n",
              "      <td>-0.827372</td>\n",
              "      <td>-0.735604</td>\n",
              "    </tr>\n",
              "    <tr>\n",
              "      <th>3</th>\n",
              "      <td>dd1000b26</td>\n",
              "      <td>NaN</td>\n",
              "      <td>NaN</td>\n",
              "      <td>And outside before the palace a great garden w...</td>\n",
              "      <td>-1.054013</td>\n",
              "      <td>0.450007</td>\n",
              "      <td>12.343512</td>\n",
              "      <td>12</td>\n",
              "      <td>6.996429</td>\n",
              "      <td>14.095610</td>\n",
              "      <td>8.968780</td>\n",
              "      <td>15.533171</td>\n",
              "      <td>164</td>\n",
              "      <td>118</td>\n",
              "      <td>1.389831</td>\n",
              "      <td>-1.508346</td>\n",
              "      <td>-0.917191</td>\n",
              "      <td>-1.212769</td>\n",
              "    </tr>\n",
              "    <tr>\n",
              "      <th>4</th>\n",
              "      <td>37c1b32fb</td>\n",
              "      <td>NaN</td>\n",
              "      <td>NaN</td>\n",
              "      <td>Once upon a time there were Three Bears who li...</td>\n",
              "      <td>0.247197</td>\n",
              "      <td>0.510845</td>\n",
              "      <td>9.629619</td>\n",
              "      <td>10</td>\n",
              "      <td>1.995315</td>\n",
              "      <td>12.032109</td>\n",
              "      <td>5.153197</td>\n",
              "      <td>10.860408</td>\n",
              "      <td>147</td>\n",
              "      <td>51</td>\n",
              "      <td>2.882353</td>\n",
              "      <td>0.112945</td>\n",
              "      <td>0.081767</td>\n",
              "      <td>0.097356</td>\n",
              "    </tr>\n",
              "  </tbody>\n",
              "</table>\n",
              "</div>"
            ],
            "text/plain": [
              "          id url_legal license  ...  bertpred    rfpred  ensemblepred\n",
              "0  c12129c31       NaN     NaN  ... -0.641952 -0.418994     -0.530473\n",
              "1  85aa80a4c       NaN     NaN  ... -0.588312 -0.573194     -0.580753\n",
              "2  b69ac6792       NaN     NaN  ... -0.643836 -0.827372     -0.735604\n",
              "3  dd1000b26       NaN     NaN  ... -1.508346 -0.917191     -1.212769\n",
              "4  37c1b32fb       NaN     NaN  ...  0.112945  0.081767      0.097356\n",
              "\n",
              "[5 rows x 18 columns]"
            ]
          },
          "metadata": {
            "tags": []
          },
          "execution_count": 79
        }
      ]
    },
    {
      "cell_type": "code",
      "metadata": {
        "colab": {
          "base_uri": "https://localhost:8080/"
        },
        "id": "ZqwllM6upUT-",
        "outputId": "6b1ec06a-b892-46fe-aea5-5e3c0a9dc10e"
      },
      "source": [
        "mean_squared_error(test['target'], test['ensemblepred'])"
      ],
      "execution_count": null,
      "outputs": [
        {
          "output_type": "execute_result",
          "data": {
            "text/plain": [
              "0.2708857614857363"
            ]
          },
          "metadata": {
            "tags": []
          },
          "execution_count": 80
        }
      ]
    },
    {
      "cell_type": "code",
      "metadata": {
        "colab": {
          "base_uri": "https://localhost:8080/"
        },
        "id": "xoEu1xTCoKsl",
        "outputId": "37978e21-c9e6-4b2e-e4de-f49c7bddbaa3"
      },
      "source": [
        "#rmse of average of bert and rf\n",
        "from math import sqrt\n",
        "sqrt(mean_squared_error(test['target'], test['ensemblepred']))"
      ],
      "execution_count": null,
      "outputs": [
        {
          "output_type": "execute_result",
          "data": {
            "text/plain": [
              "0.5204668687685473"
            ]
          },
          "metadata": {
            "tags": []
          },
          "execution_count": 83
        }
      ]
    },
    {
      "cell_type": "code",
      "metadata": {
        "colab": {
          "base_uri": "https://localhost:8080/"
        },
        "id": "dfXMieT8rIlc",
        "outputId": "b0a987f8-1aa4-4557-99d0-fa919e092a27"
      },
      "source": [
        "#rmse of average of bert\n",
        "from math import sqrt\n",
        "sqrt(mean_squared_error(test['target'], test['bertpred']))"
      ],
      "execution_count": 103,
      "outputs": [
        {
          "output_type": "execute_result",
          "data": {
            "text/plain": [
              "0.3695149019756863"
            ]
          },
          "metadata": {},
          "execution_count": 103
        }
      ]
    },
    {
      "cell_type": "code",
      "metadata": {
        "colab": {
          "base_uri": "https://localhost:8080/"
        },
        "id": "0uqd57vprMSM",
        "outputId": "90a7b015-4e55-4a78-d9b9-2da7e61567f7"
      },
      "source": [
        "#rmse of average rf\n",
        "from math import sqrt\n",
        "sqrt(mean_squared_error(test['target'], test['rfpred']))"
      ],
      "execution_count": null,
      "outputs": [
        {
          "output_type": "execute_result",
          "data": {
            "text/plain": [
              "0.6648943802728274"
            ]
          },
          "metadata": {
            "tags": []
          },
          "execution_count": 85
        }
      ]
    }
  ]
}