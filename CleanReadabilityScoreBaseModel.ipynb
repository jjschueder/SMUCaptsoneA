{
  "nbformat": 4,
  "nbformat_minor": 0,
  "metadata": {
    "accelerator": "GPU",
    "colab": {
      "name": "CleanReadabilityScoreBaseModel.ipynb",
      "provenance": [],
      "collapsed_sections": []
    },
    "kernelspec": {
      "display_name": "Python 3.7.1 64-bit ('ML7331': conda)",
      "language": "python",
      "name": "python37164bitml7331condaf5c5c353a7fa46f5b783ad99991c2b10"
    },
    "language_info": {
      "codemirror_mode": {
        "name": "ipython",
        "version": 3
      },
      "file_extension": ".py",
      "mimetype": "text/x-python",
      "name": "python",
      "nbconvert_exporter": "python",
      "pygments_lexer": "ipython3",
      "version": "3.7.1"
    },
    "widgets": {
      "application/vnd.jupyter.widget-state+json": {
        "86993879149c456fb4be0ede471dc466": {
          "model_module": "@jupyter-widgets/controls",
          "model_name": "HBoxModel",
          "model_module_version": "1.5.0",
          "state": {
            "_view_name": "HBoxView",
            "_dom_classes": [],
            "_model_name": "HBoxModel",
            "_view_module": "@jupyter-widgets/controls",
            "_model_module_version": "1.5.0",
            "_view_count": null,
            "_view_module_version": "1.5.0",
            "box_style": "",
            "layout": "IPY_MODEL_f8e3674cf870494484b05d09bf59d53e",
            "_model_module": "@jupyter-widgets/controls",
            "children": [
              "IPY_MODEL_8d7f267f8e024054892a1e9c01ea72ab",
              "IPY_MODEL_c1a5cde0ef1e433ba66ef72fc6767a0a",
              "IPY_MODEL_bd04eaee27ed4fcd9b4271d6a8c3fc1d"
            ]
          }
        },
        "f8e3674cf870494484b05d09bf59d53e": {
          "model_module": "@jupyter-widgets/base",
          "model_name": "LayoutModel",
          "model_module_version": "1.2.0",
          "state": {
            "_view_name": "LayoutView",
            "grid_template_rows": null,
            "right": null,
            "justify_content": null,
            "_view_module": "@jupyter-widgets/base",
            "overflow": null,
            "_model_module_version": "1.2.0",
            "_view_count": null,
            "flex_flow": null,
            "width": null,
            "min_width": null,
            "border": null,
            "align_items": null,
            "bottom": null,
            "_model_module": "@jupyter-widgets/base",
            "top": null,
            "grid_column": null,
            "overflow_y": null,
            "overflow_x": null,
            "grid_auto_flow": null,
            "grid_area": null,
            "grid_template_columns": null,
            "flex": null,
            "_model_name": "LayoutModel",
            "justify_items": null,
            "grid_row": null,
            "max_height": null,
            "align_content": null,
            "visibility": null,
            "align_self": null,
            "height": null,
            "min_height": null,
            "padding": null,
            "grid_auto_rows": null,
            "grid_gap": null,
            "max_width": null,
            "order": null,
            "_view_module_version": "1.2.0",
            "grid_template_areas": null,
            "object_position": null,
            "object_fit": null,
            "grid_auto_columns": null,
            "margin": null,
            "display": null,
            "left": null
          }
        },
        "8d7f267f8e024054892a1e9c01ea72ab": {
          "model_module": "@jupyter-widgets/controls",
          "model_name": "HTMLModel",
          "model_module_version": "1.5.0",
          "state": {
            "_view_name": "HTMLView",
            "style": "IPY_MODEL_3a594a81f04841f5b358e367bff90eca",
            "_dom_classes": [],
            "description": "",
            "_model_name": "HTMLModel",
            "placeholder": "​",
            "_view_module": "@jupyter-widgets/controls",
            "_model_module_version": "1.5.0",
            "value": "Downloading: 100%",
            "_view_count": null,
            "_view_module_version": "1.5.0",
            "description_tooltip": null,
            "_model_module": "@jupyter-widgets/controls",
            "layout": "IPY_MODEL_7935ef533ce84ae5921f68d378ba65f0"
          }
        },
        "c1a5cde0ef1e433ba66ef72fc6767a0a": {
          "model_module": "@jupyter-widgets/controls",
          "model_name": "FloatProgressModel",
          "model_module_version": "1.5.0",
          "state": {
            "_view_name": "ProgressView",
            "style": "IPY_MODEL_b196cb4d0bd44b5c92e92d1bbc62ac37",
            "_dom_classes": [],
            "description": "",
            "_model_name": "FloatProgressModel",
            "bar_style": "success",
            "max": 29,
            "_view_module": "@jupyter-widgets/controls",
            "_model_module_version": "1.5.0",
            "value": 29,
            "_view_count": null,
            "_view_module_version": "1.5.0",
            "orientation": "horizontal",
            "min": 0,
            "description_tooltip": null,
            "_model_module": "@jupyter-widgets/controls",
            "layout": "IPY_MODEL_b521cf08605344bf9698b6a6ad1b4119"
          }
        },
        "bd04eaee27ed4fcd9b4271d6a8c3fc1d": {
          "model_module": "@jupyter-widgets/controls",
          "model_name": "HTMLModel",
          "model_module_version": "1.5.0",
          "state": {
            "_view_name": "HTMLView",
            "style": "IPY_MODEL_45fe1026336b40c0a71531d6d39685af",
            "_dom_classes": [],
            "description": "",
            "_model_name": "HTMLModel",
            "placeholder": "​",
            "_view_module": "@jupyter-widgets/controls",
            "_model_module_version": "1.5.0",
            "value": " 29.0/29.0 [00:00&lt;00:00, 640B/s]",
            "_view_count": null,
            "_view_module_version": "1.5.0",
            "description_tooltip": null,
            "_model_module": "@jupyter-widgets/controls",
            "layout": "IPY_MODEL_5a556b7555544a4db3691b3ed9fa8e40"
          }
        },
        "3a594a81f04841f5b358e367bff90eca": {
          "model_module": "@jupyter-widgets/controls",
          "model_name": "DescriptionStyleModel",
          "model_module_version": "1.5.0",
          "state": {
            "_view_name": "StyleView",
            "_model_name": "DescriptionStyleModel",
            "description_width": "",
            "_view_module": "@jupyter-widgets/base",
            "_model_module_version": "1.5.0",
            "_view_count": null,
            "_view_module_version": "1.2.0",
            "_model_module": "@jupyter-widgets/controls"
          }
        },
        "7935ef533ce84ae5921f68d378ba65f0": {
          "model_module": "@jupyter-widgets/base",
          "model_name": "LayoutModel",
          "model_module_version": "1.2.0",
          "state": {
            "_view_name": "LayoutView",
            "grid_template_rows": null,
            "right": null,
            "justify_content": null,
            "_view_module": "@jupyter-widgets/base",
            "overflow": null,
            "_model_module_version": "1.2.0",
            "_view_count": null,
            "flex_flow": null,
            "width": null,
            "min_width": null,
            "border": null,
            "align_items": null,
            "bottom": null,
            "_model_module": "@jupyter-widgets/base",
            "top": null,
            "grid_column": null,
            "overflow_y": null,
            "overflow_x": null,
            "grid_auto_flow": null,
            "grid_area": null,
            "grid_template_columns": null,
            "flex": null,
            "_model_name": "LayoutModel",
            "justify_items": null,
            "grid_row": null,
            "max_height": null,
            "align_content": null,
            "visibility": null,
            "align_self": null,
            "height": null,
            "min_height": null,
            "padding": null,
            "grid_auto_rows": null,
            "grid_gap": null,
            "max_width": null,
            "order": null,
            "_view_module_version": "1.2.0",
            "grid_template_areas": null,
            "object_position": null,
            "object_fit": null,
            "grid_auto_columns": null,
            "margin": null,
            "display": null,
            "left": null
          }
        },
        "b196cb4d0bd44b5c92e92d1bbc62ac37": {
          "model_module": "@jupyter-widgets/controls",
          "model_name": "ProgressStyleModel",
          "model_module_version": "1.5.0",
          "state": {
            "_view_name": "StyleView",
            "_model_name": "ProgressStyleModel",
            "description_width": "",
            "_view_module": "@jupyter-widgets/base",
            "_model_module_version": "1.5.0",
            "_view_count": null,
            "_view_module_version": "1.2.0",
            "bar_color": null,
            "_model_module": "@jupyter-widgets/controls"
          }
        },
        "b521cf08605344bf9698b6a6ad1b4119": {
          "model_module": "@jupyter-widgets/base",
          "model_name": "LayoutModel",
          "model_module_version": "1.2.0",
          "state": {
            "_view_name": "LayoutView",
            "grid_template_rows": null,
            "right": null,
            "justify_content": null,
            "_view_module": "@jupyter-widgets/base",
            "overflow": null,
            "_model_module_version": "1.2.0",
            "_view_count": null,
            "flex_flow": null,
            "width": null,
            "min_width": null,
            "border": null,
            "align_items": null,
            "bottom": null,
            "_model_module": "@jupyter-widgets/base",
            "top": null,
            "grid_column": null,
            "overflow_y": null,
            "overflow_x": null,
            "grid_auto_flow": null,
            "grid_area": null,
            "grid_template_columns": null,
            "flex": null,
            "_model_name": "LayoutModel",
            "justify_items": null,
            "grid_row": null,
            "max_height": null,
            "align_content": null,
            "visibility": null,
            "align_self": null,
            "height": null,
            "min_height": null,
            "padding": null,
            "grid_auto_rows": null,
            "grid_gap": null,
            "max_width": null,
            "order": null,
            "_view_module_version": "1.2.0",
            "grid_template_areas": null,
            "object_position": null,
            "object_fit": null,
            "grid_auto_columns": null,
            "margin": null,
            "display": null,
            "left": null
          }
        },
        "45fe1026336b40c0a71531d6d39685af": {
          "model_module": "@jupyter-widgets/controls",
          "model_name": "DescriptionStyleModel",
          "model_module_version": "1.5.0",
          "state": {
            "_view_name": "StyleView",
            "_model_name": "DescriptionStyleModel",
            "description_width": "",
            "_view_module": "@jupyter-widgets/base",
            "_model_module_version": "1.5.0",
            "_view_count": null,
            "_view_module_version": "1.2.0",
            "_model_module": "@jupyter-widgets/controls"
          }
        },
        "5a556b7555544a4db3691b3ed9fa8e40": {
          "model_module": "@jupyter-widgets/base",
          "model_name": "LayoutModel",
          "model_module_version": "1.2.0",
          "state": {
            "_view_name": "LayoutView",
            "grid_template_rows": null,
            "right": null,
            "justify_content": null,
            "_view_module": "@jupyter-widgets/base",
            "overflow": null,
            "_model_module_version": "1.2.0",
            "_view_count": null,
            "flex_flow": null,
            "width": null,
            "min_width": null,
            "border": null,
            "align_items": null,
            "bottom": null,
            "_model_module": "@jupyter-widgets/base",
            "top": null,
            "grid_column": null,
            "overflow_y": null,
            "overflow_x": null,
            "grid_auto_flow": null,
            "grid_area": null,
            "grid_template_columns": null,
            "flex": null,
            "_model_name": "LayoutModel",
            "justify_items": null,
            "grid_row": null,
            "max_height": null,
            "align_content": null,
            "visibility": null,
            "align_self": null,
            "height": null,
            "min_height": null,
            "padding": null,
            "grid_auto_rows": null,
            "grid_gap": null,
            "max_width": null,
            "order": null,
            "_view_module_version": "1.2.0",
            "grid_template_areas": null,
            "object_position": null,
            "object_fit": null,
            "grid_auto_columns": null,
            "margin": null,
            "display": null,
            "left": null
          }
        },
        "12cc3ccc161b4bb8a3502204af2bc171": {
          "model_module": "@jupyter-widgets/controls",
          "model_name": "HBoxModel",
          "model_module_version": "1.5.0",
          "state": {
            "_view_name": "HBoxView",
            "_dom_classes": [],
            "_model_name": "HBoxModel",
            "_view_module": "@jupyter-widgets/controls",
            "_model_module_version": "1.5.0",
            "_view_count": null,
            "_view_module_version": "1.5.0",
            "box_style": "",
            "layout": "IPY_MODEL_b7f44e8af75b4c5ab67c115a077edced",
            "_model_module": "@jupyter-widgets/controls",
            "children": [
              "IPY_MODEL_fdaeab53febf4605a2ad808da25e4944",
              "IPY_MODEL_2ae61124f35d41b288adc5d7152fc71d",
              "IPY_MODEL_df864801aa5f4d57a6a4cf8b262fcb57"
            ]
          }
        },
        "b7f44e8af75b4c5ab67c115a077edced": {
          "model_module": "@jupyter-widgets/base",
          "model_name": "LayoutModel",
          "model_module_version": "1.2.0",
          "state": {
            "_view_name": "LayoutView",
            "grid_template_rows": null,
            "right": null,
            "justify_content": null,
            "_view_module": "@jupyter-widgets/base",
            "overflow": null,
            "_model_module_version": "1.2.0",
            "_view_count": null,
            "flex_flow": null,
            "width": null,
            "min_width": null,
            "border": null,
            "align_items": null,
            "bottom": null,
            "_model_module": "@jupyter-widgets/base",
            "top": null,
            "grid_column": null,
            "overflow_y": null,
            "overflow_x": null,
            "grid_auto_flow": null,
            "grid_area": null,
            "grid_template_columns": null,
            "flex": null,
            "_model_name": "LayoutModel",
            "justify_items": null,
            "grid_row": null,
            "max_height": null,
            "align_content": null,
            "visibility": null,
            "align_self": null,
            "height": null,
            "min_height": null,
            "padding": null,
            "grid_auto_rows": null,
            "grid_gap": null,
            "max_width": null,
            "order": null,
            "_view_module_version": "1.2.0",
            "grid_template_areas": null,
            "object_position": null,
            "object_fit": null,
            "grid_auto_columns": null,
            "margin": null,
            "display": null,
            "left": null
          }
        },
        "fdaeab53febf4605a2ad808da25e4944": {
          "model_module": "@jupyter-widgets/controls",
          "model_name": "HTMLModel",
          "model_module_version": "1.5.0",
          "state": {
            "_view_name": "HTMLView",
            "style": "IPY_MODEL_f2ebc3f1f02e4d25881499e3061cabbb",
            "_dom_classes": [],
            "description": "",
            "_model_name": "HTMLModel",
            "placeholder": "​",
            "_view_module": "@jupyter-widgets/controls",
            "_model_module_version": "1.5.0",
            "value": "Downloading: 100%",
            "_view_count": null,
            "_view_module_version": "1.5.0",
            "description_tooltip": null,
            "_model_module": "@jupyter-widgets/controls",
            "layout": "IPY_MODEL_35fb3b433d8f455197ef5611797c5685"
          }
        },
        "2ae61124f35d41b288adc5d7152fc71d": {
          "model_module": "@jupyter-widgets/controls",
          "model_name": "FloatProgressModel",
          "model_module_version": "1.5.0",
          "state": {
            "_view_name": "ProgressView",
            "style": "IPY_MODEL_3278f92dfc2d42cda2df3576b7bf976c",
            "_dom_classes": [],
            "description": "",
            "_model_name": "FloatProgressModel",
            "bar_style": "success",
            "max": 570,
            "_view_module": "@jupyter-widgets/controls",
            "_model_module_version": "1.5.0",
            "value": 570,
            "_view_count": null,
            "_view_module_version": "1.5.0",
            "orientation": "horizontal",
            "min": 0,
            "description_tooltip": null,
            "_model_module": "@jupyter-widgets/controls",
            "layout": "IPY_MODEL_a679bf62e978476cb4e10f9f6a1aaeda"
          }
        },
        "df864801aa5f4d57a6a4cf8b262fcb57": {
          "model_module": "@jupyter-widgets/controls",
          "model_name": "HTMLModel",
          "model_module_version": "1.5.0",
          "state": {
            "_view_name": "HTMLView",
            "style": "IPY_MODEL_512e9c516dea47d6a4d2981aae7b7bcf",
            "_dom_classes": [],
            "description": "",
            "_model_name": "HTMLModel",
            "placeholder": "​",
            "_view_module": "@jupyter-widgets/controls",
            "_model_module_version": "1.5.0",
            "value": " 570/570 [00:00&lt;00:00, 13.8kB/s]",
            "_view_count": null,
            "_view_module_version": "1.5.0",
            "description_tooltip": null,
            "_model_module": "@jupyter-widgets/controls",
            "layout": "IPY_MODEL_4ea6832a2065460c9e86661db250f38e"
          }
        },
        "f2ebc3f1f02e4d25881499e3061cabbb": {
          "model_module": "@jupyter-widgets/controls",
          "model_name": "DescriptionStyleModel",
          "model_module_version": "1.5.0",
          "state": {
            "_view_name": "StyleView",
            "_model_name": "DescriptionStyleModel",
            "description_width": "",
            "_view_module": "@jupyter-widgets/base",
            "_model_module_version": "1.5.0",
            "_view_count": null,
            "_view_module_version": "1.2.0",
            "_model_module": "@jupyter-widgets/controls"
          }
        },
        "35fb3b433d8f455197ef5611797c5685": {
          "model_module": "@jupyter-widgets/base",
          "model_name": "LayoutModel",
          "model_module_version": "1.2.0",
          "state": {
            "_view_name": "LayoutView",
            "grid_template_rows": null,
            "right": null,
            "justify_content": null,
            "_view_module": "@jupyter-widgets/base",
            "overflow": null,
            "_model_module_version": "1.2.0",
            "_view_count": null,
            "flex_flow": null,
            "width": null,
            "min_width": null,
            "border": null,
            "align_items": null,
            "bottom": null,
            "_model_module": "@jupyter-widgets/base",
            "top": null,
            "grid_column": null,
            "overflow_y": null,
            "overflow_x": null,
            "grid_auto_flow": null,
            "grid_area": null,
            "grid_template_columns": null,
            "flex": null,
            "_model_name": "LayoutModel",
            "justify_items": null,
            "grid_row": null,
            "max_height": null,
            "align_content": null,
            "visibility": null,
            "align_self": null,
            "height": null,
            "min_height": null,
            "padding": null,
            "grid_auto_rows": null,
            "grid_gap": null,
            "max_width": null,
            "order": null,
            "_view_module_version": "1.2.0",
            "grid_template_areas": null,
            "object_position": null,
            "object_fit": null,
            "grid_auto_columns": null,
            "margin": null,
            "display": null,
            "left": null
          }
        },
        "3278f92dfc2d42cda2df3576b7bf976c": {
          "model_module": "@jupyter-widgets/controls",
          "model_name": "ProgressStyleModel",
          "model_module_version": "1.5.0",
          "state": {
            "_view_name": "StyleView",
            "_model_name": "ProgressStyleModel",
            "description_width": "",
            "_view_module": "@jupyter-widgets/base",
            "_model_module_version": "1.5.0",
            "_view_count": null,
            "_view_module_version": "1.2.0",
            "bar_color": null,
            "_model_module": "@jupyter-widgets/controls"
          }
        },
        "a679bf62e978476cb4e10f9f6a1aaeda": {
          "model_module": "@jupyter-widgets/base",
          "model_name": "LayoutModel",
          "model_module_version": "1.2.0",
          "state": {
            "_view_name": "LayoutView",
            "grid_template_rows": null,
            "right": null,
            "justify_content": null,
            "_view_module": "@jupyter-widgets/base",
            "overflow": null,
            "_model_module_version": "1.2.0",
            "_view_count": null,
            "flex_flow": null,
            "width": null,
            "min_width": null,
            "border": null,
            "align_items": null,
            "bottom": null,
            "_model_module": "@jupyter-widgets/base",
            "top": null,
            "grid_column": null,
            "overflow_y": null,
            "overflow_x": null,
            "grid_auto_flow": null,
            "grid_area": null,
            "grid_template_columns": null,
            "flex": null,
            "_model_name": "LayoutModel",
            "justify_items": null,
            "grid_row": null,
            "max_height": null,
            "align_content": null,
            "visibility": null,
            "align_self": null,
            "height": null,
            "min_height": null,
            "padding": null,
            "grid_auto_rows": null,
            "grid_gap": null,
            "max_width": null,
            "order": null,
            "_view_module_version": "1.2.0",
            "grid_template_areas": null,
            "object_position": null,
            "object_fit": null,
            "grid_auto_columns": null,
            "margin": null,
            "display": null,
            "left": null
          }
        },
        "512e9c516dea47d6a4d2981aae7b7bcf": {
          "model_module": "@jupyter-widgets/controls",
          "model_name": "DescriptionStyleModel",
          "model_module_version": "1.5.0",
          "state": {
            "_view_name": "StyleView",
            "_model_name": "DescriptionStyleModel",
            "description_width": "",
            "_view_module": "@jupyter-widgets/base",
            "_model_module_version": "1.5.0",
            "_view_count": null,
            "_view_module_version": "1.2.0",
            "_model_module": "@jupyter-widgets/controls"
          }
        },
        "4ea6832a2065460c9e86661db250f38e": {
          "model_module": "@jupyter-widgets/base",
          "model_name": "LayoutModel",
          "model_module_version": "1.2.0",
          "state": {
            "_view_name": "LayoutView",
            "grid_template_rows": null,
            "right": null,
            "justify_content": null,
            "_view_module": "@jupyter-widgets/base",
            "overflow": null,
            "_model_module_version": "1.2.0",
            "_view_count": null,
            "flex_flow": null,
            "width": null,
            "min_width": null,
            "border": null,
            "align_items": null,
            "bottom": null,
            "_model_module": "@jupyter-widgets/base",
            "top": null,
            "grid_column": null,
            "overflow_y": null,
            "overflow_x": null,
            "grid_auto_flow": null,
            "grid_area": null,
            "grid_template_columns": null,
            "flex": null,
            "_model_name": "LayoutModel",
            "justify_items": null,
            "grid_row": null,
            "max_height": null,
            "align_content": null,
            "visibility": null,
            "align_self": null,
            "height": null,
            "min_height": null,
            "padding": null,
            "grid_auto_rows": null,
            "grid_gap": null,
            "max_width": null,
            "order": null,
            "_view_module_version": "1.2.0",
            "grid_template_areas": null,
            "object_position": null,
            "object_fit": null,
            "grid_auto_columns": null,
            "margin": null,
            "display": null,
            "left": null
          }
        },
        "3cd57919f130408cb11e0afd8d8f6ead": {
          "model_module": "@jupyter-widgets/controls",
          "model_name": "HBoxModel",
          "model_module_version": "1.5.0",
          "state": {
            "_view_name": "HBoxView",
            "_dom_classes": [],
            "_model_name": "HBoxModel",
            "_view_module": "@jupyter-widgets/controls",
            "_model_module_version": "1.5.0",
            "_view_count": null,
            "_view_module_version": "1.5.0",
            "box_style": "",
            "layout": "IPY_MODEL_cd031512143f48e996206031141899d0",
            "_model_module": "@jupyter-widgets/controls",
            "children": [
              "IPY_MODEL_db4d6b29011349dfb31446fa3cc63fb0",
              "IPY_MODEL_6fd9520d17b5425b9b9ee0ed221231bd",
              "IPY_MODEL_7c7a6100468b477baea609bc6e1f3d4e"
            ]
          }
        },
        "cd031512143f48e996206031141899d0": {
          "model_module": "@jupyter-widgets/base",
          "model_name": "LayoutModel",
          "model_module_version": "1.2.0",
          "state": {
            "_view_name": "LayoutView",
            "grid_template_rows": null,
            "right": null,
            "justify_content": null,
            "_view_module": "@jupyter-widgets/base",
            "overflow": null,
            "_model_module_version": "1.2.0",
            "_view_count": null,
            "flex_flow": null,
            "width": null,
            "min_width": null,
            "border": null,
            "align_items": null,
            "bottom": null,
            "_model_module": "@jupyter-widgets/base",
            "top": null,
            "grid_column": null,
            "overflow_y": null,
            "overflow_x": null,
            "grid_auto_flow": null,
            "grid_area": null,
            "grid_template_columns": null,
            "flex": null,
            "_model_name": "LayoutModel",
            "justify_items": null,
            "grid_row": null,
            "max_height": null,
            "align_content": null,
            "visibility": null,
            "align_self": null,
            "height": null,
            "min_height": null,
            "padding": null,
            "grid_auto_rows": null,
            "grid_gap": null,
            "max_width": null,
            "order": null,
            "_view_module_version": "1.2.0",
            "grid_template_areas": null,
            "object_position": null,
            "object_fit": null,
            "grid_auto_columns": null,
            "margin": null,
            "display": null,
            "left": null
          }
        },
        "db4d6b29011349dfb31446fa3cc63fb0": {
          "model_module": "@jupyter-widgets/controls",
          "model_name": "HTMLModel",
          "model_module_version": "1.5.0",
          "state": {
            "_view_name": "HTMLView",
            "style": "IPY_MODEL_d81fd7f577f448e7ba1b31fb20772dd0",
            "_dom_classes": [],
            "description": "",
            "_model_name": "HTMLModel",
            "placeholder": "​",
            "_view_module": "@jupyter-widgets/controls",
            "_model_module_version": "1.5.0",
            "value": "Downloading: 100%",
            "_view_count": null,
            "_view_module_version": "1.5.0",
            "description_tooltip": null,
            "_model_module": "@jupyter-widgets/controls",
            "layout": "IPY_MODEL_4ea776b59c1d49e29f349d4f490eeae9"
          }
        },
        "6fd9520d17b5425b9b9ee0ed221231bd": {
          "model_module": "@jupyter-widgets/controls",
          "model_name": "FloatProgressModel",
          "model_module_version": "1.5.0",
          "state": {
            "_view_name": "ProgressView",
            "style": "IPY_MODEL_ad6796228c84472bafd419378de25b4a",
            "_dom_classes": [],
            "description": "",
            "_model_name": "FloatProgressModel",
            "bar_style": "success",
            "max": 213450,
            "_view_module": "@jupyter-widgets/controls",
            "_model_module_version": "1.5.0",
            "value": 213450,
            "_view_count": null,
            "_view_module_version": "1.5.0",
            "orientation": "horizontal",
            "min": 0,
            "description_tooltip": null,
            "_model_module": "@jupyter-widgets/controls",
            "layout": "IPY_MODEL_4682eb83602c4a25be2c198eece97517"
          }
        },
        "7c7a6100468b477baea609bc6e1f3d4e": {
          "model_module": "@jupyter-widgets/controls",
          "model_name": "HTMLModel",
          "model_module_version": "1.5.0",
          "state": {
            "_view_name": "HTMLView",
            "style": "IPY_MODEL_8c2524f7bea44d899f95905367aaeed0",
            "_dom_classes": [],
            "description": "",
            "_model_name": "HTMLModel",
            "placeholder": "​",
            "_view_module": "@jupyter-widgets/controls",
            "_model_module_version": "1.5.0",
            "value": " 208k/208k [00:00&lt;00:00, 427kB/s]",
            "_view_count": null,
            "_view_module_version": "1.5.0",
            "description_tooltip": null,
            "_model_module": "@jupyter-widgets/controls",
            "layout": "IPY_MODEL_9a8798f28c1d4033891ac012990e140b"
          }
        },
        "d81fd7f577f448e7ba1b31fb20772dd0": {
          "model_module": "@jupyter-widgets/controls",
          "model_name": "DescriptionStyleModel",
          "model_module_version": "1.5.0",
          "state": {
            "_view_name": "StyleView",
            "_model_name": "DescriptionStyleModel",
            "description_width": "",
            "_view_module": "@jupyter-widgets/base",
            "_model_module_version": "1.5.0",
            "_view_count": null,
            "_view_module_version": "1.2.0",
            "_model_module": "@jupyter-widgets/controls"
          }
        },
        "4ea776b59c1d49e29f349d4f490eeae9": {
          "model_module": "@jupyter-widgets/base",
          "model_name": "LayoutModel",
          "model_module_version": "1.2.0",
          "state": {
            "_view_name": "LayoutView",
            "grid_template_rows": null,
            "right": null,
            "justify_content": null,
            "_view_module": "@jupyter-widgets/base",
            "overflow": null,
            "_model_module_version": "1.2.0",
            "_view_count": null,
            "flex_flow": null,
            "width": null,
            "min_width": null,
            "border": null,
            "align_items": null,
            "bottom": null,
            "_model_module": "@jupyter-widgets/base",
            "top": null,
            "grid_column": null,
            "overflow_y": null,
            "overflow_x": null,
            "grid_auto_flow": null,
            "grid_area": null,
            "grid_template_columns": null,
            "flex": null,
            "_model_name": "LayoutModel",
            "justify_items": null,
            "grid_row": null,
            "max_height": null,
            "align_content": null,
            "visibility": null,
            "align_self": null,
            "height": null,
            "min_height": null,
            "padding": null,
            "grid_auto_rows": null,
            "grid_gap": null,
            "max_width": null,
            "order": null,
            "_view_module_version": "1.2.0",
            "grid_template_areas": null,
            "object_position": null,
            "object_fit": null,
            "grid_auto_columns": null,
            "margin": null,
            "display": null,
            "left": null
          }
        },
        "ad6796228c84472bafd419378de25b4a": {
          "model_module": "@jupyter-widgets/controls",
          "model_name": "ProgressStyleModel",
          "model_module_version": "1.5.0",
          "state": {
            "_view_name": "StyleView",
            "_model_name": "ProgressStyleModel",
            "description_width": "",
            "_view_module": "@jupyter-widgets/base",
            "_model_module_version": "1.5.0",
            "_view_count": null,
            "_view_module_version": "1.2.0",
            "bar_color": null,
            "_model_module": "@jupyter-widgets/controls"
          }
        },
        "4682eb83602c4a25be2c198eece97517": {
          "model_module": "@jupyter-widgets/base",
          "model_name": "LayoutModel",
          "model_module_version": "1.2.0",
          "state": {
            "_view_name": "LayoutView",
            "grid_template_rows": null,
            "right": null,
            "justify_content": null,
            "_view_module": "@jupyter-widgets/base",
            "overflow": null,
            "_model_module_version": "1.2.0",
            "_view_count": null,
            "flex_flow": null,
            "width": null,
            "min_width": null,
            "border": null,
            "align_items": null,
            "bottom": null,
            "_model_module": "@jupyter-widgets/base",
            "top": null,
            "grid_column": null,
            "overflow_y": null,
            "overflow_x": null,
            "grid_auto_flow": null,
            "grid_area": null,
            "grid_template_columns": null,
            "flex": null,
            "_model_name": "LayoutModel",
            "justify_items": null,
            "grid_row": null,
            "max_height": null,
            "align_content": null,
            "visibility": null,
            "align_self": null,
            "height": null,
            "min_height": null,
            "padding": null,
            "grid_auto_rows": null,
            "grid_gap": null,
            "max_width": null,
            "order": null,
            "_view_module_version": "1.2.0",
            "grid_template_areas": null,
            "object_position": null,
            "object_fit": null,
            "grid_auto_columns": null,
            "margin": null,
            "display": null,
            "left": null
          }
        },
        "8c2524f7bea44d899f95905367aaeed0": {
          "model_module": "@jupyter-widgets/controls",
          "model_name": "DescriptionStyleModel",
          "model_module_version": "1.5.0",
          "state": {
            "_view_name": "StyleView",
            "_model_name": "DescriptionStyleModel",
            "description_width": "",
            "_view_module": "@jupyter-widgets/base",
            "_model_module_version": "1.5.0",
            "_view_count": null,
            "_view_module_version": "1.2.0",
            "_model_module": "@jupyter-widgets/controls"
          }
        },
        "9a8798f28c1d4033891ac012990e140b": {
          "model_module": "@jupyter-widgets/base",
          "model_name": "LayoutModel",
          "model_module_version": "1.2.0",
          "state": {
            "_view_name": "LayoutView",
            "grid_template_rows": null,
            "right": null,
            "justify_content": null,
            "_view_module": "@jupyter-widgets/base",
            "overflow": null,
            "_model_module_version": "1.2.0",
            "_view_count": null,
            "flex_flow": null,
            "width": null,
            "min_width": null,
            "border": null,
            "align_items": null,
            "bottom": null,
            "_model_module": "@jupyter-widgets/base",
            "top": null,
            "grid_column": null,
            "overflow_y": null,
            "overflow_x": null,
            "grid_auto_flow": null,
            "grid_area": null,
            "grid_template_columns": null,
            "flex": null,
            "_model_name": "LayoutModel",
            "justify_items": null,
            "grid_row": null,
            "max_height": null,
            "align_content": null,
            "visibility": null,
            "align_self": null,
            "height": null,
            "min_height": null,
            "padding": null,
            "grid_auto_rows": null,
            "grid_gap": null,
            "max_width": null,
            "order": null,
            "_view_module_version": "1.2.0",
            "grid_template_areas": null,
            "object_position": null,
            "object_fit": null,
            "grid_auto_columns": null,
            "margin": null,
            "display": null,
            "left": null
          }
        },
        "e3f9974cae824d7085ed1f77aab16b69": {
          "model_module": "@jupyter-widgets/controls",
          "model_name": "HBoxModel",
          "model_module_version": "1.5.0",
          "state": {
            "_view_name": "HBoxView",
            "_dom_classes": [],
            "_model_name": "HBoxModel",
            "_view_module": "@jupyter-widgets/controls",
            "_model_module_version": "1.5.0",
            "_view_count": null,
            "_view_module_version": "1.5.0",
            "box_style": "",
            "layout": "IPY_MODEL_9132aa004579452daa20b5b8da13794a",
            "_model_module": "@jupyter-widgets/controls",
            "children": [
              "IPY_MODEL_01ba690a7081403dbd99a6fc1e7b67db",
              "IPY_MODEL_218424dab3dd4bc6be1730de77dc2e66",
              "IPY_MODEL_69f707cd4d014937beb3e7219a208d34"
            ]
          }
        },
        "9132aa004579452daa20b5b8da13794a": {
          "model_module": "@jupyter-widgets/base",
          "model_name": "LayoutModel",
          "model_module_version": "1.2.0",
          "state": {
            "_view_name": "LayoutView",
            "grid_template_rows": null,
            "right": null,
            "justify_content": null,
            "_view_module": "@jupyter-widgets/base",
            "overflow": null,
            "_model_module_version": "1.2.0",
            "_view_count": null,
            "flex_flow": null,
            "width": null,
            "min_width": null,
            "border": null,
            "align_items": null,
            "bottom": null,
            "_model_module": "@jupyter-widgets/base",
            "top": null,
            "grid_column": null,
            "overflow_y": null,
            "overflow_x": null,
            "grid_auto_flow": null,
            "grid_area": null,
            "grid_template_columns": null,
            "flex": null,
            "_model_name": "LayoutModel",
            "justify_items": null,
            "grid_row": null,
            "max_height": null,
            "align_content": null,
            "visibility": null,
            "align_self": null,
            "height": null,
            "min_height": null,
            "padding": null,
            "grid_auto_rows": null,
            "grid_gap": null,
            "max_width": null,
            "order": null,
            "_view_module_version": "1.2.0",
            "grid_template_areas": null,
            "object_position": null,
            "object_fit": null,
            "grid_auto_columns": null,
            "margin": null,
            "display": null,
            "left": null
          }
        },
        "01ba690a7081403dbd99a6fc1e7b67db": {
          "model_module": "@jupyter-widgets/controls",
          "model_name": "HTMLModel",
          "model_module_version": "1.5.0",
          "state": {
            "_view_name": "HTMLView",
            "style": "IPY_MODEL_514f6e8f4c65442fa7651f277c97388c",
            "_dom_classes": [],
            "description": "",
            "_model_name": "HTMLModel",
            "placeholder": "​",
            "_view_module": "@jupyter-widgets/controls",
            "_model_module_version": "1.5.0",
            "value": "Downloading: 100%",
            "_view_count": null,
            "_view_module_version": "1.5.0",
            "description_tooltip": null,
            "_model_module": "@jupyter-widgets/controls",
            "layout": "IPY_MODEL_b1fddccef1394662905190361debf549"
          }
        },
        "218424dab3dd4bc6be1730de77dc2e66": {
          "model_module": "@jupyter-widgets/controls",
          "model_name": "FloatProgressModel",
          "model_module_version": "1.5.0",
          "state": {
            "_view_name": "ProgressView",
            "style": "IPY_MODEL_c5073b27bebb4f30a0726579d873eaa9",
            "_dom_classes": [],
            "description": "",
            "_model_name": "FloatProgressModel",
            "bar_style": "success",
            "max": 435797,
            "_view_module": "@jupyter-widgets/controls",
            "_model_module_version": "1.5.0",
            "value": 435797,
            "_view_count": null,
            "_view_module_version": "1.5.0",
            "orientation": "horizontal",
            "min": 0,
            "description_tooltip": null,
            "_model_module": "@jupyter-widgets/controls",
            "layout": "IPY_MODEL_5a92ee3ddd7f45bebb38ece3d257f835"
          }
        },
        "69f707cd4d014937beb3e7219a208d34": {
          "model_module": "@jupyter-widgets/controls",
          "model_name": "HTMLModel",
          "model_module_version": "1.5.0",
          "state": {
            "_view_name": "HTMLView",
            "style": "IPY_MODEL_d862057c087c446f9d413c434c3ed74f",
            "_dom_classes": [],
            "description": "",
            "_model_name": "HTMLModel",
            "placeholder": "​",
            "_view_module": "@jupyter-widgets/controls",
            "_model_module_version": "1.5.0",
            "value": " 426k/426k [00:00&lt;00:00, 725kB/s]",
            "_view_count": null,
            "_view_module_version": "1.5.0",
            "description_tooltip": null,
            "_model_module": "@jupyter-widgets/controls",
            "layout": "IPY_MODEL_ab94e4114fbb4370a0d53018feb32983"
          }
        },
        "514f6e8f4c65442fa7651f277c97388c": {
          "model_module": "@jupyter-widgets/controls",
          "model_name": "DescriptionStyleModel",
          "model_module_version": "1.5.0",
          "state": {
            "_view_name": "StyleView",
            "_model_name": "DescriptionStyleModel",
            "description_width": "",
            "_view_module": "@jupyter-widgets/base",
            "_model_module_version": "1.5.0",
            "_view_count": null,
            "_view_module_version": "1.2.0",
            "_model_module": "@jupyter-widgets/controls"
          }
        },
        "b1fddccef1394662905190361debf549": {
          "model_module": "@jupyter-widgets/base",
          "model_name": "LayoutModel",
          "model_module_version": "1.2.0",
          "state": {
            "_view_name": "LayoutView",
            "grid_template_rows": null,
            "right": null,
            "justify_content": null,
            "_view_module": "@jupyter-widgets/base",
            "overflow": null,
            "_model_module_version": "1.2.0",
            "_view_count": null,
            "flex_flow": null,
            "width": null,
            "min_width": null,
            "border": null,
            "align_items": null,
            "bottom": null,
            "_model_module": "@jupyter-widgets/base",
            "top": null,
            "grid_column": null,
            "overflow_y": null,
            "overflow_x": null,
            "grid_auto_flow": null,
            "grid_area": null,
            "grid_template_columns": null,
            "flex": null,
            "_model_name": "LayoutModel",
            "justify_items": null,
            "grid_row": null,
            "max_height": null,
            "align_content": null,
            "visibility": null,
            "align_self": null,
            "height": null,
            "min_height": null,
            "padding": null,
            "grid_auto_rows": null,
            "grid_gap": null,
            "max_width": null,
            "order": null,
            "_view_module_version": "1.2.0",
            "grid_template_areas": null,
            "object_position": null,
            "object_fit": null,
            "grid_auto_columns": null,
            "margin": null,
            "display": null,
            "left": null
          }
        },
        "c5073b27bebb4f30a0726579d873eaa9": {
          "model_module": "@jupyter-widgets/controls",
          "model_name": "ProgressStyleModel",
          "model_module_version": "1.5.0",
          "state": {
            "_view_name": "StyleView",
            "_model_name": "ProgressStyleModel",
            "description_width": "",
            "_view_module": "@jupyter-widgets/base",
            "_model_module_version": "1.5.0",
            "_view_count": null,
            "_view_module_version": "1.2.0",
            "bar_color": null,
            "_model_module": "@jupyter-widgets/controls"
          }
        },
        "5a92ee3ddd7f45bebb38ece3d257f835": {
          "model_module": "@jupyter-widgets/base",
          "model_name": "LayoutModel",
          "model_module_version": "1.2.0",
          "state": {
            "_view_name": "LayoutView",
            "grid_template_rows": null,
            "right": null,
            "justify_content": null,
            "_view_module": "@jupyter-widgets/base",
            "overflow": null,
            "_model_module_version": "1.2.0",
            "_view_count": null,
            "flex_flow": null,
            "width": null,
            "min_width": null,
            "border": null,
            "align_items": null,
            "bottom": null,
            "_model_module": "@jupyter-widgets/base",
            "top": null,
            "grid_column": null,
            "overflow_y": null,
            "overflow_x": null,
            "grid_auto_flow": null,
            "grid_area": null,
            "grid_template_columns": null,
            "flex": null,
            "_model_name": "LayoutModel",
            "justify_items": null,
            "grid_row": null,
            "max_height": null,
            "align_content": null,
            "visibility": null,
            "align_self": null,
            "height": null,
            "min_height": null,
            "padding": null,
            "grid_auto_rows": null,
            "grid_gap": null,
            "max_width": null,
            "order": null,
            "_view_module_version": "1.2.0",
            "grid_template_areas": null,
            "object_position": null,
            "object_fit": null,
            "grid_auto_columns": null,
            "margin": null,
            "display": null,
            "left": null
          }
        },
        "d862057c087c446f9d413c434c3ed74f": {
          "model_module": "@jupyter-widgets/controls",
          "model_name": "DescriptionStyleModel",
          "model_module_version": "1.5.0",
          "state": {
            "_view_name": "StyleView",
            "_model_name": "DescriptionStyleModel",
            "description_width": "",
            "_view_module": "@jupyter-widgets/base",
            "_model_module_version": "1.5.0",
            "_view_count": null,
            "_view_module_version": "1.2.0",
            "_model_module": "@jupyter-widgets/controls"
          }
        },
        "ab94e4114fbb4370a0d53018feb32983": {
          "model_module": "@jupyter-widgets/base",
          "model_name": "LayoutModel",
          "model_module_version": "1.2.0",
          "state": {
            "_view_name": "LayoutView",
            "grid_template_rows": null,
            "right": null,
            "justify_content": null,
            "_view_module": "@jupyter-widgets/base",
            "overflow": null,
            "_model_module_version": "1.2.0",
            "_view_count": null,
            "flex_flow": null,
            "width": null,
            "min_width": null,
            "border": null,
            "align_items": null,
            "bottom": null,
            "_model_module": "@jupyter-widgets/base",
            "top": null,
            "grid_column": null,
            "overflow_y": null,
            "overflow_x": null,
            "grid_auto_flow": null,
            "grid_area": null,
            "grid_template_columns": null,
            "flex": null,
            "_model_name": "LayoutModel",
            "justify_items": null,
            "grid_row": null,
            "max_height": null,
            "align_content": null,
            "visibility": null,
            "align_self": null,
            "height": null,
            "min_height": null,
            "padding": null,
            "grid_auto_rows": null,
            "grid_gap": null,
            "max_width": null,
            "order": null,
            "_view_module_version": "1.2.0",
            "grid_template_areas": null,
            "object_position": null,
            "object_fit": null,
            "grid_auto_columns": null,
            "margin": null,
            "display": null,
            "left": null
          }
        },
        "e09ecf43b8944dab8ce2ea99ff5a47cc": {
          "model_module": "@jupyter-widgets/controls",
          "model_name": "HBoxModel",
          "model_module_version": "1.5.0",
          "state": {
            "_view_name": "HBoxView",
            "_dom_classes": [],
            "_model_name": "HBoxModel",
            "_view_module": "@jupyter-widgets/controls",
            "_model_module_version": "1.5.0",
            "_view_count": null,
            "_view_module_version": "1.5.0",
            "box_style": "",
            "layout": "IPY_MODEL_b82db4a46bc04b6c865255ac0cf46f6f",
            "_model_module": "@jupyter-widgets/controls",
            "children": [
              "IPY_MODEL_59f5f3b296ba47f086cfd06f72c09439",
              "IPY_MODEL_f18af12a13d443d0919a055fc3ffdc9d",
              "IPY_MODEL_0e9b8df310764adf8e7fc71294b2ec33"
            ]
          }
        },
        "b82db4a46bc04b6c865255ac0cf46f6f": {
          "model_module": "@jupyter-widgets/base",
          "model_name": "LayoutModel",
          "model_module_version": "1.2.0",
          "state": {
            "_view_name": "LayoutView",
            "grid_template_rows": null,
            "right": null,
            "justify_content": null,
            "_view_module": "@jupyter-widgets/base",
            "overflow": null,
            "_model_module_version": "1.2.0",
            "_view_count": null,
            "flex_flow": null,
            "width": null,
            "min_width": null,
            "border": null,
            "align_items": null,
            "bottom": null,
            "_model_module": "@jupyter-widgets/base",
            "top": null,
            "grid_column": null,
            "overflow_y": null,
            "overflow_x": null,
            "grid_auto_flow": null,
            "grid_area": null,
            "grid_template_columns": null,
            "flex": null,
            "_model_name": "LayoutModel",
            "justify_items": null,
            "grid_row": null,
            "max_height": null,
            "align_content": null,
            "visibility": null,
            "align_self": null,
            "height": null,
            "min_height": null,
            "padding": null,
            "grid_auto_rows": null,
            "grid_gap": null,
            "max_width": null,
            "order": null,
            "_view_module_version": "1.2.0",
            "grid_template_areas": null,
            "object_position": null,
            "object_fit": null,
            "grid_auto_columns": null,
            "margin": null,
            "display": null,
            "left": null
          }
        },
        "59f5f3b296ba47f086cfd06f72c09439": {
          "model_module": "@jupyter-widgets/controls",
          "model_name": "HTMLModel",
          "model_module_version": "1.5.0",
          "state": {
            "_view_name": "HTMLView",
            "style": "IPY_MODEL_6dc6fd272fb7441d859b1892c7b05e57",
            "_dom_classes": [],
            "description": "",
            "_model_name": "HTMLModel",
            "placeholder": "​",
            "_view_module": "@jupyter-widgets/controls",
            "_model_module_version": "1.5.0",
            "value": "Downloading: 100%",
            "_view_count": null,
            "_view_module_version": "1.5.0",
            "description_tooltip": null,
            "_model_module": "@jupyter-widgets/controls",
            "layout": "IPY_MODEL_b38cbd25efd6435c867618601511fe28"
          }
        },
        "f18af12a13d443d0919a055fc3ffdc9d": {
          "model_module": "@jupyter-widgets/controls",
          "model_name": "FloatProgressModel",
          "model_module_version": "1.5.0",
          "state": {
            "_view_name": "ProgressView",
            "style": "IPY_MODEL_1bdbfd29d93f48889c5b1fccf13bd706",
            "_dom_classes": [],
            "description": "",
            "_model_name": "FloatProgressModel",
            "bar_style": "success",
            "max": 762,
            "_view_module": "@jupyter-widgets/controls",
            "_model_module_version": "1.5.0",
            "value": 762,
            "_view_count": null,
            "_view_module_version": "1.5.0",
            "orientation": "horizontal",
            "min": 0,
            "description_tooltip": null,
            "_model_module": "@jupyter-widgets/controls",
            "layout": "IPY_MODEL_e0e811108f8743e99507323d0b5aa9e1"
          }
        },
        "0e9b8df310764adf8e7fc71294b2ec33": {
          "model_module": "@jupyter-widgets/controls",
          "model_name": "HTMLModel",
          "model_module_version": "1.5.0",
          "state": {
            "_view_name": "HTMLView",
            "style": "IPY_MODEL_977b05e892e14314ae4ce0b5990c2ac7",
            "_dom_classes": [],
            "description": "",
            "_model_name": "HTMLModel",
            "placeholder": "​",
            "_view_module": "@jupyter-widgets/controls",
            "_model_module_version": "1.5.0",
            "value": " 762/762 [00:00&lt;00:00, 17.9kB/s]",
            "_view_count": null,
            "_view_module_version": "1.5.0",
            "description_tooltip": null,
            "_model_module": "@jupyter-widgets/controls",
            "layout": "IPY_MODEL_205dab75828f4c8b821f7e8a399d651d"
          }
        },
        "6dc6fd272fb7441d859b1892c7b05e57": {
          "model_module": "@jupyter-widgets/controls",
          "model_name": "DescriptionStyleModel",
          "model_module_version": "1.5.0",
          "state": {
            "_view_name": "StyleView",
            "_model_name": "DescriptionStyleModel",
            "description_width": "",
            "_view_module": "@jupyter-widgets/base",
            "_model_module_version": "1.5.0",
            "_view_count": null,
            "_view_module_version": "1.2.0",
            "_model_module": "@jupyter-widgets/controls"
          }
        },
        "b38cbd25efd6435c867618601511fe28": {
          "model_module": "@jupyter-widgets/base",
          "model_name": "LayoutModel",
          "model_module_version": "1.2.0",
          "state": {
            "_view_name": "LayoutView",
            "grid_template_rows": null,
            "right": null,
            "justify_content": null,
            "_view_module": "@jupyter-widgets/base",
            "overflow": null,
            "_model_module_version": "1.2.0",
            "_view_count": null,
            "flex_flow": null,
            "width": null,
            "min_width": null,
            "border": null,
            "align_items": null,
            "bottom": null,
            "_model_module": "@jupyter-widgets/base",
            "top": null,
            "grid_column": null,
            "overflow_y": null,
            "overflow_x": null,
            "grid_auto_flow": null,
            "grid_area": null,
            "grid_template_columns": null,
            "flex": null,
            "_model_name": "LayoutModel",
            "justify_items": null,
            "grid_row": null,
            "max_height": null,
            "align_content": null,
            "visibility": null,
            "align_self": null,
            "height": null,
            "min_height": null,
            "padding": null,
            "grid_auto_rows": null,
            "grid_gap": null,
            "max_width": null,
            "order": null,
            "_view_module_version": "1.2.0",
            "grid_template_areas": null,
            "object_position": null,
            "object_fit": null,
            "grid_auto_columns": null,
            "margin": null,
            "display": null,
            "left": null
          }
        },
        "1bdbfd29d93f48889c5b1fccf13bd706": {
          "model_module": "@jupyter-widgets/controls",
          "model_name": "ProgressStyleModel",
          "model_module_version": "1.5.0",
          "state": {
            "_view_name": "StyleView",
            "_model_name": "ProgressStyleModel",
            "description_width": "",
            "_view_module": "@jupyter-widgets/base",
            "_model_module_version": "1.5.0",
            "_view_count": null,
            "_view_module_version": "1.2.0",
            "bar_color": null,
            "_model_module": "@jupyter-widgets/controls"
          }
        },
        "e0e811108f8743e99507323d0b5aa9e1": {
          "model_module": "@jupyter-widgets/base",
          "model_name": "LayoutModel",
          "model_module_version": "1.2.0",
          "state": {
            "_view_name": "LayoutView",
            "grid_template_rows": null,
            "right": null,
            "justify_content": null,
            "_view_module": "@jupyter-widgets/base",
            "overflow": null,
            "_model_module_version": "1.2.0",
            "_view_count": null,
            "flex_flow": null,
            "width": null,
            "min_width": null,
            "border": null,
            "align_items": null,
            "bottom": null,
            "_model_module": "@jupyter-widgets/base",
            "top": null,
            "grid_column": null,
            "overflow_y": null,
            "overflow_x": null,
            "grid_auto_flow": null,
            "grid_area": null,
            "grid_template_columns": null,
            "flex": null,
            "_model_name": "LayoutModel",
            "justify_items": null,
            "grid_row": null,
            "max_height": null,
            "align_content": null,
            "visibility": null,
            "align_self": null,
            "height": null,
            "min_height": null,
            "padding": null,
            "grid_auto_rows": null,
            "grid_gap": null,
            "max_width": null,
            "order": null,
            "_view_module_version": "1.2.0",
            "grid_template_areas": null,
            "object_position": null,
            "object_fit": null,
            "grid_auto_columns": null,
            "margin": null,
            "display": null,
            "left": null
          }
        },
        "977b05e892e14314ae4ce0b5990c2ac7": {
          "model_module": "@jupyter-widgets/controls",
          "model_name": "DescriptionStyleModel",
          "model_module_version": "1.5.0",
          "state": {
            "_view_name": "StyleView",
            "_model_name": "DescriptionStyleModel",
            "description_width": "",
            "_view_module": "@jupyter-widgets/base",
            "_model_module_version": "1.5.0",
            "_view_count": null,
            "_view_module_version": "1.2.0",
            "_model_module": "@jupyter-widgets/controls"
          }
        },
        "205dab75828f4c8b821f7e8a399d651d": {
          "model_module": "@jupyter-widgets/base",
          "model_name": "LayoutModel",
          "model_module_version": "1.2.0",
          "state": {
            "_view_name": "LayoutView",
            "grid_template_rows": null,
            "right": null,
            "justify_content": null,
            "_view_module": "@jupyter-widgets/base",
            "overflow": null,
            "_model_module_version": "1.2.0",
            "_view_count": null,
            "flex_flow": null,
            "width": null,
            "min_width": null,
            "border": null,
            "align_items": null,
            "bottom": null,
            "_model_module": "@jupyter-widgets/base",
            "top": null,
            "grid_column": null,
            "overflow_y": null,
            "overflow_x": null,
            "grid_auto_flow": null,
            "grid_area": null,
            "grid_template_columns": null,
            "flex": null,
            "_model_name": "LayoutModel",
            "justify_items": null,
            "grid_row": null,
            "max_height": null,
            "align_content": null,
            "visibility": null,
            "align_self": null,
            "height": null,
            "min_height": null,
            "padding": null,
            "grid_auto_rows": null,
            "grid_gap": null,
            "max_width": null,
            "order": null,
            "_view_module_version": "1.2.0",
            "grid_template_areas": null,
            "object_position": null,
            "object_fit": null,
            "grid_auto_columns": null,
            "margin": null,
            "display": null,
            "left": null
          }
        },
        "3db98591c6784a208fcae7946dc65f5c": {
          "model_module": "@jupyter-widgets/controls",
          "model_name": "HBoxModel",
          "model_module_version": "1.5.0",
          "state": {
            "_view_name": "HBoxView",
            "_dom_classes": [],
            "_model_name": "HBoxModel",
            "_view_module": "@jupyter-widgets/controls",
            "_model_module_version": "1.5.0",
            "_view_count": null,
            "_view_module_version": "1.5.0",
            "box_style": "",
            "layout": "IPY_MODEL_0a01ffde23ca4a0c89b00ac30b163143",
            "_model_module": "@jupyter-widgets/controls",
            "children": [
              "IPY_MODEL_4a402fc4f36346ea86cd7554c1c16269",
              "IPY_MODEL_3586931d393d4417a8a9ef22349d6678",
              "IPY_MODEL_eb403a86fe0c4c5db28ebca955e18a35"
            ]
          }
        },
        "0a01ffde23ca4a0c89b00ac30b163143": {
          "model_module": "@jupyter-widgets/base",
          "model_name": "LayoutModel",
          "model_module_version": "1.2.0",
          "state": {
            "_view_name": "LayoutView",
            "grid_template_rows": null,
            "right": null,
            "justify_content": null,
            "_view_module": "@jupyter-widgets/base",
            "overflow": null,
            "_model_module_version": "1.2.0",
            "_view_count": null,
            "flex_flow": null,
            "width": null,
            "min_width": null,
            "border": null,
            "align_items": null,
            "bottom": null,
            "_model_module": "@jupyter-widgets/base",
            "top": null,
            "grid_column": null,
            "overflow_y": null,
            "overflow_x": null,
            "grid_auto_flow": null,
            "grid_area": null,
            "grid_template_columns": null,
            "flex": null,
            "_model_name": "LayoutModel",
            "justify_items": null,
            "grid_row": null,
            "max_height": null,
            "align_content": null,
            "visibility": null,
            "align_self": null,
            "height": null,
            "min_height": null,
            "padding": null,
            "grid_auto_rows": null,
            "grid_gap": null,
            "max_width": null,
            "order": null,
            "_view_module_version": "1.2.0",
            "grid_template_areas": null,
            "object_position": null,
            "object_fit": null,
            "grid_auto_columns": null,
            "margin": null,
            "display": null,
            "left": null
          }
        },
        "4a402fc4f36346ea86cd7554c1c16269": {
          "model_module": "@jupyter-widgets/controls",
          "model_name": "HTMLModel",
          "model_module_version": "1.5.0",
          "state": {
            "_view_name": "HTMLView",
            "style": "IPY_MODEL_0ecbfc63981b4554868568e622b11478",
            "_dom_classes": [],
            "description": "",
            "_model_name": "HTMLModel",
            "placeholder": "​",
            "_view_module": "@jupyter-widgets/controls",
            "_model_module_version": "1.5.0",
            "value": "Downloading: 100%",
            "_view_count": null,
            "_view_module_version": "1.5.0",
            "description_tooltip": null,
            "_model_module": "@jupyter-widgets/controls",
            "layout": "IPY_MODEL_47c3d19c81f04b6891e8443a29ac105d"
          }
        },
        "3586931d393d4417a8a9ef22349d6678": {
          "model_module": "@jupyter-widgets/controls",
          "model_name": "FloatProgressModel",
          "model_module_version": "1.5.0",
          "state": {
            "_view_name": "ProgressView",
            "style": "IPY_MODEL_c30763b7dc724048be7a0e77dce5e16e",
            "_dom_classes": [],
            "description": "",
            "_model_name": "FloatProgressModel",
            "bar_style": "success",
            "max": 1460062736,
            "_view_module": "@jupyter-widgets/controls",
            "_model_module_version": "1.5.0",
            "value": 1460062736,
            "_view_count": null,
            "_view_module_version": "1.5.0",
            "orientation": "horizontal",
            "min": 0,
            "description_tooltip": null,
            "_model_module": "@jupyter-widgets/controls",
            "layout": "IPY_MODEL_e13b89a91ba74278a6ba0865c15c11ae"
          }
        },
        "eb403a86fe0c4c5db28ebca955e18a35": {
          "model_module": "@jupyter-widgets/controls",
          "model_name": "HTMLModel",
          "model_module_version": "1.5.0",
          "state": {
            "_view_name": "HTMLView",
            "style": "IPY_MODEL_a1a2abbfbb0b4ae4947738f2def59a76",
            "_dom_classes": [],
            "description": "",
            "_model_name": "HTMLModel",
            "placeholder": "​",
            "_view_module": "@jupyter-widgets/controls",
            "_model_module_version": "1.5.0",
            "value": " 1.36G/1.36G [00:40&lt;00:00, 38.3MB/s]",
            "_view_count": null,
            "_view_module_version": "1.5.0",
            "description_tooltip": null,
            "_model_module": "@jupyter-widgets/controls",
            "layout": "IPY_MODEL_83c964437da149cab97bd423e846579f"
          }
        },
        "0ecbfc63981b4554868568e622b11478": {
          "model_module": "@jupyter-widgets/controls",
          "model_name": "DescriptionStyleModel",
          "model_module_version": "1.5.0",
          "state": {
            "_view_name": "StyleView",
            "_model_name": "DescriptionStyleModel",
            "description_width": "",
            "_view_module": "@jupyter-widgets/base",
            "_model_module_version": "1.5.0",
            "_view_count": null,
            "_view_module_version": "1.2.0",
            "_model_module": "@jupyter-widgets/controls"
          }
        },
        "47c3d19c81f04b6891e8443a29ac105d": {
          "model_module": "@jupyter-widgets/base",
          "model_name": "LayoutModel",
          "model_module_version": "1.2.0",
          "state": {
            "_view_name": "LayoutView",
            "grid_template_rows": null,
            "right": null,
            "justify_content": null,
            "_view_module": "@jupyter-widgets/base",
            "overflow": null,
            "_model_module_version": "1.2.0",
            "_view_count": null,
            "flex_flow": null,
            "width": null,
            "min_width": null,
            "border": null,
            "align_items": null,
            "bottom": null,
            "_model_module": "@jupyter-widgets/base",
            "top": null,
            "grid_column": null,
            "overflow_y": null,
            "overflow_x": null,
            "grid_auto_flow": null,
            "grid_area": null,
            "grid_template_columns": null,
            "flex": null,
            "_model_name": "LayoutModel",
            "justify_items": null,
            "grid_row": null,
            "max_height": null,
            "align_content": null,
            "visibility": null,
            "align_self": null,
            "height": null,
            "min_height": null,
            "padding": null,
            "grid_auto_rows": null,
            "grid_gap": null,
            "max_width": null,
            "order": null,
            "_view_module_version": "1.2.0",
            "grid_template_areas": null,
            "object_position": null,
            "object_fit": null,
            "grid_auto_columns": null,
            "margin": null,
            "display": null,
            "left": null
          }
        },
        "c30763b7dc724048be7a0e77dce5e16e": {
          "model_module": "@jupyter-widgets/controls",
          "model_name": "ProgressStyleModel",
          "model_module_version": "1.5.0",
          "state": {
            "_view_name": "StyleView",
            "_model_name": "ProgressStyleModel",
            "description_width": "",
            "_view_module": "@jupyter-widgets/base",
            "_model_module_version": "1.5.0",
            "_view_count": null,
            "_view_module_version": "1.2.0",
            "bar_color": null,
            "_model_module": "@jupyter-widgets/controls"
          }
        },
        "e13b89a91ba74278a6ba0865c15c11ae": {
          "model_module": "@jupyter-widgets/base",
          "model_name": "LayoutModel",
          "model_module_version": "1.2.0",
          "state": {
            "_view_name": "LayoutView",
            "grid_template_rows": null,
            "right": null,
            "justify_content": null,
            "_view_module": "@jupyter-widgets/base",
            "overflow": null,
            "_model_module_version": "1.2.0",
            "_view_count": null,
            "flex_flow": null,
            "width": null,
            "min_width": null,
            "border": null,
            "align_items": null,
            "bottom": null,
            "_model_module": "@jupyter-widgets/base",
            "top": null,
            "grid_column": null,
            "overflow_y": null,
            "overflow_x": null,
            "grid_auto_flow": null,
            "grid_area": null,
            "grid_template_columns": null,
            "flex": null,
            "_model_name": "LayoutModel",
            "justify_items": null,
            "grid_row": null,
            "max_height": null,
            "align_content": null,
            "visibility": null,
            "align_self": null,
            "height": null,
            "min_height": null,
            "padding": null,
            "grid_auto_rows": null,
            "grid_gap": null,
            "max_width": null,
            "order": null,
            "_view_module_version": "1.2.0",
            "grid_template_areas": null,
            "object_position": null,
            "object_fit": null,
            "grid_auto_columns": null,
            "margin": null,
            "display": null,
            "left": null
          }
        },
        "a1a2abbfbb0b4ae4947738f2def59a76": {
          "model_module": "@jupyter-widgets/controls",
          "model_name": "DescriptionStyleModel",
          "model_module_version": "1.5.0",
          "state": {
            "_view_name": "StyleView",
            "_model_name": "DescriptionStyleModel",
            "description_width": "",
            "_view_module": "@jupyter-widgets/base",
            "_model_module_version": "1.5.0",
            "_view_count": null,
            "_view_module_version": "1.2.0",
            "_model_module": "@jupyter-widgets/controls"
          }
        },
        "83c964437da149cab97bd423e846579f": {
          "model_module": "@jupyter-widgets/base",
          "model_name": "LayoutModel",
          "model_module_version": "1.2.0",
          "state": {
            "_view_name": "LayoutView",
            "grid_template_rows": null,
            "right": null,
            "justify_content": null,
            "_view_module": "@jupyter-widgets/base",
            "overflow": null,
            "_model_module_version": "1.2.0",
            "_view_count": null,
            "flex_flow": null,
            "width": null,
            "min_width": null,
            "border": null,
            "align_items": null,
            "bottom": null,
            "_model_module": "@jupyter-widgets/base",
            "top": null,
            "grid_column": null,
            "overflow_y": null,
            "overflow_x": null,
            "grid_auto_flow": null,
            "grid_area": null,
            "grid_template_columns": null,
            "flex": null,
            "_model_name": "LayoutModel",
            "justify_items": null,
            "grid_row": null,
            "max_height": null,
            "align_content": null,
            "visibility": null,
            "align_self": null,
            "height": null,
            "min_height": null,
            "padding": null,
            "grid_auto_rows": null,
            "grid_gap": null,
            "max_width": null,
            "order": null,
            "_view_module_version": "1.2.0",
            "grid_template_areas": null,
            "object_position": null,
            "object_fit": null,
            "grid_auto_columns": null,
            "margin": null,
            "display": null,
            "left": null
          }
        }
      }
    }
  },
  "cells": [
    {
      "cell_type": "markdown",
      "metadata": {
        "id": "qL8VFDfskkVH"
      },
      "source": [
        "# Introduction\n",
        "Currently, most educational texts are matched to readers using traditional readability methods or commercially available formulas. However, each has its issues. Tools like Flesch-Kincaid Grade Level are based on weak proxies of text decoding (i.e., characters or syllables per word) and syntactic complexity (i.e., number or words per sentence). As a result, they lack construct and theoretical validity. At the same time, commercially available formulas, such as Lexile, can be cost-prohibitive, lack suitable validation studies, and suffer from transparency issues when the formula's features aren't publicly available.\n",
        "\n",
        "https://arxiv.org/pdf/1907.11779.pdf"
      ]
    },
    {
      "cell_type": "markdown",
      "metadata": {
        "id": "F0n2KQBUM611"
      },
      "source": [
        "# Readability Metrics\n"
      ]
    },
    {
      "cell_type": "code",
      "metadata": {
        "id": "yzEt3vwiGahR"
      },
      "source": [
        "import pandas as pd\n",
        "import matplotlib.pyplot as plt"
      ],
      "execution_count": 2,
      "outputs": []
    },
    {
      "cell_type": "markdown",
      "metadata": {
        "id": "2uxnAIyKNYO6"
      },
      "source": [
        "https://pypi.org/project/py-readability-metrics/\n"
      ]
    },
    {
      "cell_type": "markdown",
      "metadata": {
        "id": "GTB2DCeanRDa"
      },
      "source": [
        "Dale–Chall readability formula\n",
        "https://en.wikipedia.org/wiki/Dale%E2%80%93Chall_readability_formula  \n",
        "Score\tNotes  \n",
        "4.9 or lower\teasily understood by an average 4th-grade student or lower  \n",
        "5.0–5.9\teasily understood by an average 5th or 6th-grade student  \n",
        "6.0–6.9\teasily understood by an average 7th or 8th-grade student  \n",
        "7.0–7.9\teasily understood by an average 9th or 10th-grade student  \n",
        "8.0–8.9\teasily understood by an average 11th or 12th-grade student  \n",
        "9.0–9.9\teasily understood by an average 13th to 15th-grade (college) student\n"
      ]
    },
    {
      "cell_type": "code",
      "metadata": {
        "id": "QJKcD_6bMqPf"
      },
      "source": [
        "import pandas as pd\n",
        "df = pd.read_csv(r\"https://raw.githubusercontent.com/jjschueder/SMUCaptsoneA/main/train.csv\")"
      ],
      "execution_count": 3,
      "outputs": []
    },
    {
      "cell_type": "code",
      "metadata": {
        "colab": {
          "base_uri": "https://localhost:8080/"
        },
        "id": "1xtUCQZHNPOK",
        "outputId": "4f31787c-5a17-452b-964b-a6618ae6adcb"
      },
      "source": [
        "test_doc = df.iloc[0,3]\n",
        "print(test_doc)"
      ],
      "execution_count": 4,
      "outputs": [
        {
          "output_type": "stream",
          "name": "stdout",
          "text": [
            "When the young people returned to the ballroom, it presented a decidedly changed appearance. Instead of an interior scene, it was a winter landscape.\n",
            "The floor was covered with snow-white canvas, not laid on smoothly, but rumpled over bumps and hillocks, like a real snow field. The numerous palms and evergreens that had decorated the room, were powdered with flour and strewn with tufts of cotton, like snow. Also diamond dust had been lightly sprinkled on them, and glittering crystal icicles hung from the branches.\n",
            "At each end of the room, on the wall, hung a beautiful bear-skin rug.\n",
            "These rugs were for prizes, one for the girls and one for the boys. And this was the game.\n",
            "The girls were gathered at one end of the room and the boys at the other, and one end was called the North Pole, and the other the South Pole. Each player was given a small flag which they were to plant on reaching the Pole.\n",
            "This would have been an easy matter, but each traveller was obliged to wear snowshoes.\n"
          ]
        }
      ]
    },
    {
      "cell_type": "code",
      "metadata": {
        "colab": {
          "base_uri": "https://localhost:8080/"
        },
        "id": "o3v_vbjIONFX",
        "outputId": "7981d1b8-20a8-4d7f-f59f-3204d75ebcac"
      },
      "source": [
        "!pip install py-readability-metrics\n",
        "import nltk\n",
        "nltk.download('punkt')"
      ],
      "execution_count": 5,
      "outputs": [
        {
          "output_type": "stream",
          "name": "stdout",
          "text": [
            "Collecting py-readability-metrics\n",
            "  Downloading py_readability_metrics-1.4.5-py3-none-any.whl (26 kB)\n",
            "Requirement already satisfied: nltk in /usr/local/lib/python3.7/dist-packages (from py-readability-metrics) (3.2.5)\n",
            "Requirement already satisfied: six in /usr/local/lib/python3.7/dist-packages (from nltk->py-readability-metrics) (1.15.0)\n",
            "Installing collected packages: py-readability-metrics\n",
            "Successfully installed py-readability-metrics-1.4.5\n",
            "[nltk_data] Downloading package punkt to /root/nltk_data...\n",
            "[nltk_data]   Unzipping tokenizers/punkt.zip.\n"
          ]
        },
        {
          "output_type": "execute_result",
          "data": {
            "text/plain": [
              "True"
            ]
          },
          "metadata": {},
          "execution_count": 5
        }
      ]
    },
    {
      "cell_type": "code",
      "metadata": {
        "id": "rj1QlbjxNUGU"
      },
      "source": [
        "from readability import Readability\n",
        "r = Readability(test_doc)\n",
        "fk = r.flesch_kincaid()"
      ],
      "execution_count": 6,
      "outputs": []
    },
    {
      "cell_type": "code",
      "metadata": {
        "colab": {
          "base_uri": "https://localhost:8080/"
        },
        "id": "M7cc6UTENduR",
        "outputId": "e5f8306b-bcfe-4601-bdd6-2c5dcbbfdbcc"
      },
      "source": [
        "# Other Metrics\n",
        "# This doesn't generate output, look at example above\n",
        "r.flesch_kincaid()\n",
        "r.flesch()\n",
        "r.gunning_fog()\n",
        "r.coleman_liau()\n",
        "r.dale_chall()\n",
        "r.ari()\n",
        "r.linsear_write()\n",
        "#r.smog()\n",
        "r.spache()"
      ],
      "execution_count": 7,
      "outputs": [
        {
          "output_type": "execute_result",
          "data": {
            "text/plain": [
              "<readability.scorers.spache.Result at 0x7f2ea5dfb290>"
            ]
          },
          "metadata": {},
          "execution_count": 7
        }
      ]
    },
    {
      "cell_type": "code",
      "metadata": {
        "id": "JrdJ5-Czk6mI"
      },
      "source": [
        "# apply Flesch-Kindcaid and Dale–Chall to dataframe\n",
        "for index, row in df.iterrows():\n",
        "    r = Readability(row['excerpt'])\n",
        "    fk = r.flesch_kincaid()\n",
        "    df.at[index, 'fkscore'] = fk.score\n",
        "    df.at[index, 'fkgrade_level'] = fk.grade_level\n",
        "    dc = r.dale_chall()\n",
        "    df.at[index, 'dcscore'] = dc.score\n",
        "    gf = r.gunning_fog()\n",
        "    df.at[index, 'gfscore'] = gf.score\n",
        "    cl = r.coleman_liau()\n",
        "    df.at[index, 'clscore'] = cl.score\n",
        "    ari = r.ari()\n",
        "    df.at[index, 'ariscore'] = ari.score\n",
        "    #df.at[index, 'dcgrade_level_low'] = dc.grade_levels[0]\n",
        "    #df.at[index, 'dcgrade_level_high'] = dc.grade_levels[1]\n",
        "\n"
      ],
      "execution_count": 8,
      "outputs": []
    },
    {
      "cell_type": "code",
      "metadata": {
        "colab": {
          "base_uri": "https://localhost:8080/",
          "height": 293
        },
        "id": "m2BMijzw19Vg",
        "outputId": "5ef9ffe3-29cb-4b85-b312-9c8683909d2e"
      },
      "source": [
        "df['words'] = [len(x.split()) for x in df['excerpt'].tolist()]\n",
        "\n",
        "df['wordset'] = [len(set(x.split())) for x in df['excerpt'].tolist()] \n",
        "df['lexicaldiversity'] = df['words'] / df['wordset']\n",
        "df.head(5)"
      ],
      "execution_count": 9,
      "outputs": [
        {
          "output_type": "execute_result",
          "data": {
            "text/html": [
              "<div>\n",
              "<style scoped>\n",
              "    .dataframe tbody tr th:only-of-type {\n",
              "        vertical-align: middle;\n",
              "    }\n",
              "\n",
              "    .dataframe tbody tr th {\n",
              "        vertical-align: top;\n",
              "    }\n",
              "\n",
              "    .dataframe thead th {\n",
              "        text-align: right;\n",
              "    }\n",
              "</style>\n",
              "<table border=\"1\" class=\"dataframe\">\n",
              "  <thead>\n",
              "    <tr style=\"text-align: right;\">\n",
              "      <th></th>\n",
              "      <th>id</th>\n",
              "      <th>url_legal</th>\n",
              "      <th>license</th>\n",
              "      <th>excerpt</th>\n",
              "      <th>target</th>\n",
              "      <th>standard_error</th>\n",
              "      <th>fkscore</th>\n",
              "      <th>fkgrade_level</th>\n",
              "      <th>dcscore</th>\n",
              "      <th>gfscore</th>\n",
              "      <th>clscore</th>\n",
              "      <th>ariscore</th>\n",
              "      <th>words</th>\n",
              "      <th>wordset</th>\n",
              "      <th>lexicaldiversity</th>\n",
              "    </tr>\n",
              "  </thead>\n",
              "  <tbody>\n",
              "    <tr>\n",
              "      <th>0</th>\n",
              "      <td>c12129c31</td>\n",
              "      <td>NaN</td>\n",
              "      <td>NaN</td>\n",
              "      <td>When the young people returned to the ballroom...</td>\n",
              "      <td>-0.340259</td>\n",
              "      <td>0.464009</td>\n",
              "      <td>6.744474</td>\n",
              "      <td>7</td>\n",
              "      <td>6.560722</td>\n",
              "      <td>10.084510</td>\n",
              "      <td>8.298994</td>\n",
              "      <td>7.467202</td>\n",
              "      <td>179</td>\n",
              "      <td>114</td>\n",
              "      <td>1.570175</td>\n",
              "    </tr>\n",
              "    <tr>\n",
              "      <th>1</th>\n",
              "      <td>85aa80a4c</td>\n",
              "      <td>NaN</td>\n",
              "      <td>NaN</td>\n",
              "      <td>All through dinner time, Mrs. Fayre was somewh...</td>\n",
              "      <td>-0.315372</td>\n",
              "      <td>0.480805</td>\n",
              "      <td>5.230699</td>\n",
              "      <td>5</td>\n",
              "      <td>7.606702</td>\n",
              "      <td>7.502951</td>\n",
              "      <td>5.229508</td>\n",
              "      <td>3.458525</td>\n",
              "      <td>169</td>\n",
              "      <td>127</td>\n",
              "      <td>1.330709</td>\n",
              "    </tr>\n",
              "    <tr>\n",
              "      <th>2</th>\n",
              "      <td>b69ac6792</td>\n",
              "      <td>NaN</td>\n",
              "      <td>NaN</td>\n",
              "      <td>As Roger had predicted, the snow departed as q...</td>\n",
              "      <td>-0.580118</td>\n",
              "      <td>0.476676</td>\n",
              "      <td>6.446818</td>\n",
              "      <td>6</td>\n",
              "      <td>8.108452</td>\n",
              "      <td>9.581818</td>\n",
              "      <td>6.137273</td>\n",
              "      <td>5.624091</td>\n",
              "      <td>166</td>\n",
              "      <td>128</td>\n",
              "      <td>1.296875</td>\n",
              "    </tr>\n",
              "    <tr>\n",
              "      <th>3</th>\n",
              "      <td>dd1000b26</td>\n",
              "      <td>NaN</td>\n",
              "      <td>NaN</td>\n",
              "      <td>And outside before the palace a great garden w...</td>\n",
              "      <td>-1.054013</td>\n",
              "      <td>0.450007</td>\n",
              "      <td>12.343512</td>\n",
              "      <td>12</td>\n",
              "      <td>6.996429</td>\n",
              "      <td>14.095610</td>\n",
              "      <td>8.968780</td>\n",
              "      <td>15.533171</td>\n",
              "      <td>164</td>\n",
              "      <td>118</td>\n",
              "      <td>1.389831</td>\n",
              "    </tr>\n",
              "    <tr>\n",
              "      <th>4</th>\n",
              "      <td>37c1b32fb</td>\n",
              "      <td>NaN</td>\n",
              "      <td>NaN</td>\n",
              "      <td>Once upon a time there were Three Bears who li...</td>\n",
              "      <td>0.247197</td>\n",
              "      <td>0.510845</td>\n",
              "      <td>9.629619</td>\n",
              "      <td>10</td>\n",
              "      <td>1.995315</td>\n",
              "      <td>12.032109</td>\n",
              "      <td>5.153197</td>\n",
              "      <td>10.860408</td>\n",
              "      <td>147</td>\n",
              "      <td>51</td>\n",
              "      <td>2.882353</td>\n",
              "    </tr>\n",
              "  </tbody>\n",
              "</table>\n",
              "</div>"
            ],
            "text/plain": [
              "          id url_legal license  ... words  wordset  lexicaldiversity\n",
              "0  c12129c31       NaN     NaN  ...   179      114          1.570175\n",
              "1  85aa80a4c       NaN     NaN  ...   169      127          1.330709\n",
              "2  b69ac6792       NaN     NaN  ...   166      128          1.296875\n",
              "3  dd1000b26       NaN     NaN  ...   164      118          1.389831\n",
              "4  37c1b32fb       NaN     NaN  ...   147       51          2.882353\n",
              "\n",
              "[5 rows x 15 columns]"
            ]
          },
          "metadata": {},
          "execution_count": 9
        }
      ]
    },
    {
      "cell_type": "markdown",
      "metadata": {
        "id": "ll0nXm3gNyuQ"
      },
      "source": [
        "## Document Statistics\n",
        "I want to count basic feautres to potentially add as features in our models"
      ]
    },
    {
      "cell_type": "code",
      "metadata": {
        "colab": {
          "base_uri": "https://localhost:8080/"
        },
        "id": "k041m-pvNvvi",
        "outputId": "1014ed8f-90ca-4638-de8d-e4ff7b9c63b7"
      },
      "source": [
        "# I would use this to count sentences\n",
        "import nltk\n",
        "sents = nltk.sent_tokenize(test_doc)\n",
        "print(\"Num Sents: \",len(sents))\n",
        "sents"
      ],
      "execution_count": 10,
      "outputs": [
        {
          "output_type": "stream",
          "name": "stdout",
          "text": [
            "Num Sents:  11\n"
          ]
        },
        {
          "output_type": "execute_result",
          "data": {
            "text/plain": [
              "['When the young people returned to the ballroom, it presented a decidedly changed appearance.',\n",
              " 'Instead of an interior scene, it was a winter landscape.',\n",
              " 'The floor was covered with snow-white canvas, not laid on smoothly, but rumpled over bumps and hillocks, like a real snow field.',\n",
              " 'The numerous palms and evergreens that had decorated the room, were powdered with flour and strewn with tufts of cotton, like snow.',\n",
              " 'Also diamond dust had been lightly sprinkled on them, and glittering crystal icicles hung from the branches.',\n",
              " 'At each end of the room, on the wall, hung a beautiful bear-skin rug.',\n",
              " 'These rugs were for prizes, one for the girls and one for the boys.',\n",
              " 'And this was the game.',\n",
              " 'The girls were gathered at one end of the room and the boys at the other, and one end was called the North Pole, and the other the South Pole.',\n",
              " 'Each player was given a small flag which they were to plant on reaching the Pole.',\n",
              " 'This would have been an easy matter, but each traveller was obliged to wear snowshoes.']"
            ]
          },
          "metadata": {},
          "execution_count": 10
        }
      ]
    },
    {
      "cell_type": "code",
      "metadata": {
        "colab": {
          "base_uri": "https://localhost:8080/"
        },
        "id": "f-tZPBqhPHwV",
        "outputId": "feb097b4-bf5d-4793-c532-4fa376441c0f"
      },
      "source": [
        "# Count Words and calc words per sentence\n",
        "words = 0\n",
        "for sent in sents:\n",
        "  get_words = sent.split(\" \")\n",
        "  num_words = len(get_words)\n",
        "  words += num_words\n",
        "\n",
        "print(\"Words in doc: \", words)\n",
        "print(\"Words per Sent: \", words/len(sents))"
      ],
      "execution_count": 11,
      "outputs": [
        {
          "output_type": "stream",
          "name": "stdout",
          "text": [
            "Words in doc:  179\n",
            "Words per Sent:  16.272727272727273\n"
          ]
        }
      ]
    },
    {
      "cell_type": "markdown",
      "metadata": {
        "id": "OxP1FfLjGahQ"
      },
      "source": [
        "# Discovery"
      ]
    },
    {
      "cell_type": "code",
      "metadata": {
        "colab": {
          "base_uri": "https://localhost:8080/",
          "height": 293
        },
        "id": "eRPno-jTGahU",
        "outputId": "f9a6793c-e74a-41c0-9047-b3d8b570427b"
      },
      "source": [
        "df.head()"
      ],
      "execution_count": 12,
      "outputs": [
        {
          "output_type": "execute_result",
          "data": {
            "text/html": [
              "<div>\n",
              "<style scoped>\n",
              "    .dataframe tbody tr th:only-of-type {\n",
              "        vertical-align: middle;\n",
              "    }\n",
              "\n",
              "    .dataframe tbody tr th {\n",
              "        vertical-align: top;\n",
              "    }\n",
              "\n",
              "    .dataframe thead th {\n",
              "        text-align: right;\n",
              "    }\n",
              "</style>\n",
              "<table border=\"1\" class=\"dataframe\">\n",
              "  <thead>\n",
              "    <tr style=\"text-align: right;\">\n",
              "      <th></th>\n",
              "      <th>id</th>\n",
              "      <th>url_legal</th>\n",
              "      <th>license</th>\n",
              "      <th>excerpt</th>\n",
              "      <th>target</th>\n",
              "      <th>standard_error</th>\n",
              "      <th>fkscore</th>\n",
              "      <th>fkgrade_level</th>\n",
              "      <th>dcscore</th>\n",
              "      <th>gfscore</th>\n",
              "      <th>clscore</th>\n",
              "      <th>ariscore</th>\n",
              "      <th>words</th>\n",
              "      <th>wordset</th>\n",
              "      <th>lexicaldiversity</th>\n",
              "    </tr>\n",
              "  </thead>\n",
              "  <tbody>\n",
              "    <tr>\n",
              "      <th>0</th>\n",
              "      <td>c12129c31</td>\n",
              "      <td>NaN</td>\n",
              "      <td>NaN</td>\n",
              "      <td>When the young people returned to the ballroom...</td>\n",
              "      <td>-0.340259</td>\n",
              "      <td>0.464009</td>\n",
              "      <td>6.744474</td>\n",
              "      <td>7</td>\n",
              "      <td>6.560722</td>\n",
              "      <td>10.084510</td>\n",
              "      <td>8.298994</td>\n",
              "      <td>7.467202</td>\n",
              "      <td>179</td>\n",
              "      <td>114</td>\n",
              "      <td>1.570175</td>\n",
              "    </tr>\n",
              "    <tr>\n",
              "      <th>1</th>\n",
              "      <td>85aa80a4c</td>\n",
              "      <td>NaN</td>\n",
              "      <td>NaN</td>\n",
              "      <td>All through dinner time, Mrs. Fayre was somewh...</td>\n",
              "      <td>-0.315372</td>\n",
              "      <td>0.480805</td>\n",
              "      <td>5.230699</td>\n",
              "      <td>5</td>\n",
              "      <td>7.606702</td>\n",
              "      <td>7.502951</td>\n",
              "      <td>5.229508</td>\n",
              "      <td>3.458525</td>\n",
              "      <td>169</td>\n",
              "      <td>127</td>\n",
              "      <td>1.330709</td>\n",
              "    </tr>\n",
              "    <tr>\n",
              "      <th>2</th>\n",
              "      <td>b69ac6792</td>\n",
              "      <td>NaN</td>\n",
              "      <td>NaN</td>\n",
              "      <td>As Roger had predicted, the snow departed as q...</td>\n",
              "      <td>-0.580118</td>\n",
              "      <td>0.476676</td>\n",
              "      <td>6.446818</td>\n",
              "      <td>6</td>\n",
              "      <td>8.108452</td>\n",
              "      <td>9.581818</td>\n",
              "      <td>6.137273</td>\n",
              "      <td>5.624091</td>\n",
              "      <td>166</td>\n",
              "      <td>128</td>\n",
              "      <td>1.296875</td>\n",
              "    </tr>\n",
              "    <tr>\n",
              "      <th>3</th>\n",
              "      <td>dd1000b26</td>\n",
              "      <td>NaN</td>\n",
              "      <td>NaN</td>\n",
              "      <td>And outside before the palace a great garden w...</td>\n",
              "      <td>-1.054013</td>\n",
              "      <td>0.450007</td>\n",
              "      <td>12.343512</td>\n",
              "      <td>12</td>\n",
              "      <td>6.996429</td>\n",
              "      <td>14.095610</td>\n",
              "      <td>8.968780</td>\n",
              "      <td>15.533171</td>\n",
              "      <td>164</td>\n",
              "      <td>118</td>\n",
              "      <td>1.389831</td>\n",
              "    </tr>\n",
              "    <tr>\n",
              "      <th>4</th>\n",
              "      <td>37c1b32fb</td>\n",
              "      <td>NaN</td>\n",
              "      <td>NaN</td>\n",
              "      <td>Once upon a time there were Three Bears who li...</td>\n",
              "      <td>0.247197</td>\n",
              "      <td>0.510845</td>\n",
              "      <td>9.629619</td>\n",
              "      <td>10</td>\n",
              "      <td>1.995315</td>\n",
              "      <td>12.032109</td>\n",
              "      <td>5.153197</td>\n",
              "      <td>10.860408</td>\n",
              "      <td>147</td>\n",
              "      <td>51</td>\n",
              "      <td>2.882353</td>\n",
              "    </tr>\n",
              "  </tbody>\n",
              "</table>\n",
              "</div>"
            ],
            "text/plain": [
              "          id url_legal license  ... words  wordset  lexicaldiversity\n",
              "0  c12129c31       NaN     NaN  ...   179      114          1.570175\n",
              "1  85aa80a4c       NaN     NaN  ...   169      127          1.330709\n",
              "2  b69ac6792       NaN     NaN  ...   166      128          1.296875\n",
              "3  dd1000b26       NaN     NaN  ...   164      118          1.389831\n",
              "4  37c1b32fb       NaN     NaN  ...   147       51          2.882353\n",
              "\n",
              "[5 rows x 15 columns]"
            ]
          },
          "metadata": {},
          "execution_count": 12
        }
      ]
    },
    {
      "cell_type": "code",
      "metadata": {
        "colab": {
          "base_uri": "https://localhost:8080/"
        },
        "id": "AGp1YZkMGahV",
        "outputId": "ef21692f-66b3-4d61-9030-0baa454a6e0c"
      },
      "source": [
        "df.info()"
      ],
      "execution_count": 13,
      "outputs": [
        {
          "output_type": "stream",
          "name": "stdout",
          "text": [
            "<class 'pandas.core.frame.DataFrame'>\n",
            "RangeIndex: 2834 entries, 0 to 2833\n",
            "Data columns (total 15 columns):\n",
            " #   Column            Non-Null Count  Dtype  \n",
            "---  ------            --------------  -----  \n",
            " 0   id                2834 non-null   object \n",
            " 1   url_legal         830 non-null    object \n",
            " 2   license           830 non-null    object \n",
            " 3   excerpt           2834 non-null   object \n",
            " 4   target            2834 non-null   float64\n",
            " 5   standard_error    2834 non-null   float64\n",
            " 6   fkscore           2834 non-null   float64\n",
            " 7   fkgrade_level     2834 non-null   object \n",
            " 8   dcscore           2834 non-null   float64\n",
            " 9   gfscore           2834 non-null   float64\n",
            " 10  clscore           2834 non-null   float64\n",
            " 11  ariscore          2834 non-null   float64\n",
            " 12  words             2834 non-null   int64  \n",
            " 13  wordset           2834 non-null   int64  \n",
            " 14  lexicaldiversity  2834 non-null   float64\n",
            "dtypes: float64(8), int64(2), object(5)\n",
            "memory usage: 332.2+ KB\n"
          ]
        }
      ]
    },
    {
      "cell_type": "code",
      "metadata": {
        "colab": {
          "base_uri": "https://localhost:8080/"
        },
        "id": "GBR-U_YEGahW",
        "outputId": "40cf2b8f-b215-41c7-c818-966aa89fc363"
      },
      "source": [
        "df.columns.values"
      ],
      "execution_count": 14,
      "outputs": [
        {
          "output_type": "execute_result",
          "data": {
            "text/plain": [
              "array(['id', 'url_legal', 'license', 'excerpt', 'target',\n",
              "       'standard_error', 'fkscore', 'fkgrade_level', 'dcscore', 'gfscore',\n",
              "       'clscore', 'ariscore', 'words', 'wordset', 'lexicaldiversity'],\n",
              "      dtype=object)"
            ]
          },
          "metadata": {},
          "execution_count": 14
        }
      ]
    },
    {
      "cell_type": "code",
      "metadata": {
        "colab": {
          "base_uri": "https://localhost:8080/"
        },
        "id": "z1dz0G_nGahX",
        "outputId": "b5b4ca2b-6300-4bff-db53-aa58e186b63d"
      },
      "source": [
        "df.dtypes"
      ],
      "execution_count": 15,
      "outputs": [
        {
          "output_type": "execute_result",
          "data": {
            "text/plain": [
              "id                   object\n",
              "url_legal            object\n",
              "license              object\n",
              "excerpt              object\n",
              "target              float64\n",
              "standard_error      float64\n",
              "fkscore             float64\n",
              "fkgrade_level        object\n",
              "dcscore             float64\n",
              "gfscore             float64\n",
              "clscore             float64\n",
              "ariscore            float64\n",
              "words                 int64\n",
              "wordset               int64\n",
              "lexicaldiversity    float64\n",
              "dtype: object"
            ]
          },
          "metadata": {},
          "execution_count": 15
        }
      ]
    },
    {
      "cell_type": "code",
      "metadata": {
        "colab": {
          "base_uri": "https://localhost:8080/",
          "height": 300
        },
        "id": "e1kOV1IqGahX",
        "outputId": "27430dd1-7049-4ce9-ac56-076482c7632e"
      },
      "source": [
        "# will get summary of continuous or the nominals\n",
        "dfstats = df.describe()\n",
        "dfstats"
      ],
      "execution_count": 16,
      "outputs": [
        {
          "output_type": "execute_result",
          "data": {
            "text/html": [
              "<div>\n",
              "<style scoped>\n",
              "    .dataframe tbody tr th:only-of-type {\n",
              "        vertical-align: middle;\n",
              "    }\n",
              "\n",
              "    .dataframe tbody tr th {\n",
              "        vertical-align: top;\n",
              "    }\n",
              "\n",
              "    .dataframe thead th {\n",
              "        text-align: right;\n",
              "    }\n",
              "</style>\n",
              "<table border=\"1\" class=\"dataframe\">\n",
              "  <thead>\n",
              "    <tr style=\"text-align: right;\">\n",
              "      <th></th>\n",
              "      <th>target</th>\n",
              "      <th>standard_error</th>\n",
              "      <th>fkscore</th>\n",
              "      <th>dcscore</th>\n",
              "      <th>gfscore</th>\n",
              "      <th>clscore</th>\n",
              "      <th>ariscore</th>\n",
              "      <th>words</th>\n",
              "      <th>wordset</th>\n",
              "      <th>lexicaldiversity</th>\n",
              "    </tr>\n",
              "  </thead>\n",
              "  <tbody>\n",
              "    <tr>\n",
              "      <th>count</th>\n",
              "      <td>2834.000000</td>\n",
              "      <td>2834.000000</td>\n",
              "      <td>2834.000000</td>\n",
              "      <td>2834.000000</td>\n",
              "      <td>2834.000000</td>\n",
              "      <td>2834.000000</td>\n",
              "      <td>2834.000000</td>\n",
              "      <td>2834.000000</td>\n",
              "      <td>2834.000000</td>\n",
              "      <td>2834.000000</td>\n",
              "    </tr>\n",
              "    <tr>\n",
              "      <th>mean</th>\n",
              "      <td>-0.959319</td>\n",
              "      <td>0.491435</td>\n",
              "      <td>9.917098</td>\n",
              "      <td>7.869464</td>\n",
              "      <td>12.509284</td>\n",
              "      <td>8.537462</td>\n",
              "      <td>10.402972</td>\n",
              "      <td>172.982004</td>\n",
              "      <td>114.690191</td>\n",
              "      <td>1.516672</td>\n",
              "    </tr>\n",
              "    <tr>\n",
              "      <th>std</th>\n",
              "      <td>1.033579</td>\n",
              "      <td>0.034818</td>\n",
              "      <td>4.376662</td>\n",
              "      <td>1.659349</td>\n",
              "      <td>4.787521</td>\n",
              "      <td>2.998040</td>\n",
              "      <td>5.548807</td>\n",
              "      <td>16.974390</td>\n",
              "      <td>12.964558</td>\n",
              "      <td>0.144166</td>\n",
              "    </tr>\n",
              "    <tr>\n",
              "      <th>min</th>\n",
              "      <td>-3.676268</td>\n",
              "      <td>0.000000</td>\n",
              "      <td>-0.274790</td>\n",
              "      <td>0.267840</td>\n",
              "      <td>2.160000</td>\n",
              "      <td>-2.378896</td>\n",
              "      <td>-3.695789</td>\n",
              "      <td>135.000000</td>\n",
              "      <td>41.000000</td>\n",
              "      <td>1.225806</td>\n",
              "    </tr>\n",
              "    <tr>\n",
              "      <th>25%</th>\n",
              "      <td>-1.690320</td>\n",
              "      <td>0.468543</td>\n",
              "      <td>7.044826</td>\n",
              "      <td>6.841195</td>\n",
              "      <td>9.264832</td>\n",
              "      <td>6.591707</td>\n",
              "      <td>6.839115</td>\n",
              "      <td>159.000000</td>\n",
              "      <td>106.000000</td>\n",
              "      <td>1.430685</td>\n",
              "    </tr>\n",
              "    <tr>\n",
              "      <th>50%</th>\n",
              "      <td>-0.912190</td>\n",
              "      <td>0.484721</td>\n",
              "      <td>9.719968</td>\n",
              "      <td>7.735808</td>\n",
              "      <td>12.241037</td>\n",
              "      <td>8.543974</td>\n",
              "      <td>10.224044</td>\n",
              "      <td>175.000000</td>\n",
              "      <td>115.000000</td>\n",
              "      <td>1.498092</td>\n",
              "    </tr>\n",
              "    <tr>\n",
              "      <th>75%</th>\n",
              "      <td>-0.202540</td>\n",
              "      <td>0.506268</td>\n",
              "      <td>12.357926</td>\n",
              "      <td>8.819964</td>\n",
              "      <td>15.238172</td>\n",
              "      <td>10.408252</td>\n",
              "      <td>13.393405</td>\n",
              "      <td>188.000000</td>\n",
              "      <td>124.000000</td>\n",
              "      <td>1.575221</td>\n",
              "    </tr>\n",
              "    <tr>\n",
              "      <th>max</th>\n",
              "      <td>1.711390</td>\n",
              "      <td>0.649671</td>\n",
              "      <td>41.327363</td>\n",
              "      <td>13.961639</td>\n",
              "      <td>45.772139</td>\n",
              "      <td>23.149419</td>\n",
              "      <td>50.823433</td>\n",
              "      <td>205.000000</td>\n",
              "      <td>155.000000</td>\n",
              "      <td>4.243902</td>\n",
              "    </tr>\n",
              "  </tbody>\n",
              "</table>\n",
              "</div>"
            ],
            "text/plain": [
              "            target  standard_error  ...      wordset  lexicaldiversity\n",
              "count  2834.000000     2834.000000  ...  2834.000000       2834.000000\n",
              "mean     -0.959319        0.491435  ...   114.690191          1.516672\n",
              "std       1.033579        0.034818  ...    12.964558          0.144166\n",
              "min      -3.676268        0.000000  ...    41.000000          1.225806\n",
              "25%      -1.690320        0.468543  ...   106.000000          1.430685\n",
              "50%      -0.912190        0.484721  ...   115.000000          1.498092\n",
              "75%      -0.202540        0.506268  ...   124.000000          1.575221\n",
              "max       1.711390        0.649671  ...   155.000000          4.243902\n",
              "\n",
              "[8 rows x 10 columns]"
            ]
          },
          "metadata": {},
          "execution_count": 16
        }
      ]
    },
    {
      "cell_type": "code",
      "metadata": {
        "colab": {
          "base_uri": "https://localhost:8080/"
        },
        "id": "aBEiOPstGahY",
        "outputId": "09ab2b0a-84f7-4216-89f2-11daf4f09ae6"
      },
      "source": [
        "df.sum(numeric_only = True)"
      ],
      "execution_count": 17,
      "outputs": [
        {
          "output_type": "execute_result",
          "data": {
            "text/plain": [
              "target               -2718.709394\n",
              "standard_error        1392.727048\n",
              "fkscore              28105.056234\n",
              "dcscore              22302.059900\n",
              "gfscore              35451.311390\n",
              "clscore              24195.166716\n",
              "ariscore             29482.022151\n",
              "words               490231.000000\n",
              "wordset             325032.000000\n",
              "lexicaldiversity      4298.247918\n",
              "dtype: float64"
            ]
          },
          "metadata": {},
          "execution_count": 17
        }
      ]
    },
    {
      "cell_type": "code",
      "metadata": {
        "colab": {
          "base_uri": "https://localhost:8080/",
          "height": 348
        },
        "id": "XO7-A6BmGahZ",
        "outputId": "cac1b549-97fe-4131-a577-cd7917079c04"
      },
      "source": [
        "df.sum(numeric_only = True).plot.bar()"
      ],
      "execution_count": 18,
      "outputs": [
        {
          "output_type": "execute_result",
          "data": {
            "text/plain": [
              "<matplotlib.axes._subplots.AxesSubplot at 0x7f2ea5bd4b50>"
            ]
          },
          "metadata": {},
          "execution_count": 18
        },
        {
          "output_type": "display_data",
          "data": {
            "image/png": "[encoded data removed]",
            "text/plain": [
              "<Figure size 432x288 with 1 Axes>"
            ]
          },
          "metadata": {
            "needs_background": "light"
          }
        }
      ]
    },
    {
      "cell_type": "code",
      "metadata": {
        "colab": {
          "base_uri": "https://localhost:8080/",
          "height": 496
        },
        "id": "p5BCFF8EGaha",
        "outputId": "61a27463-0163-4982-a09e-ec96c9e2090f"
      },
      "source": [
        "# display boxplot of sale_dollars grouped by liquor_category\n",
        "plt.style.use('ggplot')\n",
        "ax = df.boxplot(column = ['target', 'standard_error', 'fkscore', 'dcscore','gfscore',\n",
        "       'clscore', 'ariscore', 'lexicaldiversity'], figsize=(14,7))\n",
        "plt.xticks(rotation=45)\n",
        "ax"
      ],
      "execution_count": 19,
      "outputs": [
        {
          "output_type": "execute_result",
          "data": {
            "text/plain": [
              "<matplotlib.axes._subplots.AxesSubplot at 0x7f2ea5e3e6d0>"
            ]
          },
          "metadata": {},
          "execution_count": 19
        },
        {
          "output_type": "display_data",
          "data": {
            "image/png": "[encoded data removed]",
            "text/plain": [
              "<Figure size 1008x504 with 1 Axes>"
            ]
          },
          "metadata": {}
        }
      ]
    },
    {
      "cell_type": "code",
      "metadata": {
        "colab": {
          "base_uri": "https://localhost:8080/",
          "height": 66
        },
        "id": "yQM7JyXSGahb",
        "outputId": "dc4d603c-b798-4e47-cf77-11af4e6acf94"
      },
      "source": [
        "duplicateRowsDF = df[df.duplicated()]\n",
        " \n",
        "print(\"Duplicate Rows except first occurrence based on all columns are :\")\n",
        "duplicateRowsDF"
      ],
      "execution_count": 20,
      "outputs": [
        {
          "output_type": "stream",
          "name": "stdout",
          "text": [
            "Duplicate Rows except first occurrence based on all columns are :\n"
          ]
        },
        {
          "output_type": "execute_result",
          "data": {
            "text/html": [
              "<div>\n",
              "<style scoped>\n",
              "    .dataframe tbody tr th:only-of-type {\n",
              "        vertical-align: middle;\n",
              "    }\n",
              "\n",
              "    .dataframe tbody tr th {\n",
              "        vertical-align: top;\n",
              "    }\n",
              "\n",
              "    .dataframe thead th {\n",
              "        text-align: right;\n",
              "    }\n",
              "</style>\n",
              "<table border=\"1\" class=\"dataframe\">\n",
              "  <thead>\n",
              "    <tr style=\"text-align: right;\">\n",
              "      <th></th>\n",
              "      <th>id</th>\n",
              "      <th>url_legal</th>\n",
              "      <th>license</th>\n",
              "      <th>excerpt</th>\n",
              "      <th>target</th>\n",
              "      <th>standard_error</th>\n",
              "      <th>fkscore</th>\n",
              "      <th>fkgrade_level</th>\n",
              "      <th>dcscore</th>\n",
              "      <th>gfscore</th>\n",
              "      <th>clscore</th>\n",
              "      <th>ariscore</th>\n",
              "      <th>words</th>\n",
              "      <th>wordset</th>\n",
              "      <th>lexicaldiversity</th>\n",
              "    </tr>\n",
              "  </thead>\n",
              "  <tbody>\n",
              "  </tbody>\n",
              "</table>\n",
              "</div>"
            ],
            "text/plain": [
              "Empty DataFrame\n",
              "Columns: [id, url_legal, license, excerpt, target, standard_error, fkscore, fkgrade_level, dcscore, gfscore, clscore, ariscore, words, wordset, lexicaldiversity]\n",
              "Index: []"
            ]
          },
          "metadata": {},
          "execution_count": 20
        }
      ]
    },
    {
      "cell_type": "code",
      "metadata": {
        "colab": {
          "base_uri": "https://localhost:8080/",
          "height": 653
        },
        "id": "Oa4_gfSSGahb",
        "outputId": "878d29a9-b842-4395-dd07-17752f2b513c"
      },
      "source": [
        "# plot the correlation matrix using seaborn\n",
        "# https://towardsdatascience.com/visualizing-data-with-pair-plots-in-python-f228cf529166\n",
        "import seaborn as sns\n",
        "cmap = sns.diverging_palette(220, 10, as_cmap=True) # one of the many color mappings\n",
        "\n",
        "# drop the counter attribute as that was used above when dealing with missing values\n",
        "#del df['counter']\n",
        "\n",
        "# show the heatmap\n",
        "sns.set(style=\"darkgrid\") # one of the many styles to plot using\n",
        "f, ax = plt.subplots(figsize=(18, 9))\n",
        "chart=sns.heatmap(df.corr(), cmap=cmap, annot=True)\n",
        "chart.set_xticklabels(ax.get_xticklabels(), rotation=45, horizontalalignment='right')\n",
        "f.tight_layout()"
      ],
      "execution_count": 21,
      "outputs": [
        {
          "output_type": "display_data",
          "data": {
            "image/png": "[encoded data removed]",
            "text/plain": [
              "<Figure size 1296x648 with 2 Axes>"
            ]
          },
          "metadata": {}
        }
      ]
    },
    {
      "cell_type": "markdown",
      "metadata": {
        "id": "-d2ShgAEP9Mk"
      },
      "source": [
        "# Model Building"
      ]
    },
    {
      "cell_type": "markdown",
      "metadata": {
        "id": "S61PKTEAlZaf"
      },
      "source": [
        "## Bert Transformer Model"
      ]
    },
    {
      "cell_type": "code",
      "metadata": {
        "colab": {
          "base_uri": "https://localhost:8080/"
        },
        "id": "IJ0jQEG7NBEy",
        "outputId": "b0b28867-faef-4c4d-c6f7-9e462dba17b9"
      },
      "source": [
        "!pip install transformers\n",
        "#https://www.kaggle.com/dagnelies/kiss-roberta"
      ],
      "execution_count": 22,
      "outputs": [
        {
          "output_type": "stream",
          "name": "stdout",
          "text": [
            "Collecting transformers\n",
            "  Downloading transformers-4.11.0-py3-none-any.whl (2.9 MB)\n",
            "\u001b[K     |████████████████████████████████| 2.9 MB 12.7 MB/s \n",
            "\u001b[?25hCollecting tokenizers<0.11,>=0.10.1\n",
            "  Downloading tokenizers-0.10.3-cp37-cp37m-manylinux_2_5_x86_64.manylinux1_x86_64.manylinux_2_12_x86_64.manylinux2010_x86_64.whl (3.3 MB)\n",
            "\u001b[K     |████████████████████████████████| 3.3 MB 43.6 MB/s \n",
            "\u001b[?25hRequirement already satisfied: filelock in /usr/local/lib/python3.7/dist-packages (from transformers) (3.0.12)\n",
            "Requirement already satisfied: tqdm>=4.27 in /usr/local/lib/python3.7/dist-packages (from transformers) (4.62.3)\n",
            "Requirement already satisfied: importlib-metadata in /usr/local/lib/python3.7/dist-packages (from transformers) (4.8.1)\n",
            "Requirement already satisfied: packaging>=20.0 in /usr/local/lib/python3.7/dist-packages (from transformers) (21.0)\n",
            "Requirement already satisfied: requests in /usr/local/lib/python3.7/dist-packages (from transformers) (2.23.0)\n",
            "Collecting sacremoses\n",
            "  Downloading sacremoses-0.0.46-py3-none-any.whl (895 kB)\n",
            "\u001b[K     |████████████████████████████████| 895 kB 49.2 MB/s \n",
            "\u001b[?25hCollecting huggingface-hub>=0.0.17\n",
            "  Downloading huggingface_hub-0.0.17-py3-none-any.whl (52 kB)\n",
            "\u001b[K     |████████████████████████████████| 52 kB 1.6 MB/s \n",
            "\u001b[?25hRequirement already satisfied: numpy>=1.17 in /usr/local/lib/python3.7/dist-packages (from transformers) (1.19.5)\n",
            "Requirement already satisfied: regex!=2019.12.17 in /usr/local/lib/python3.7/dist-packages (from transformers) (2019.12.20)\n",
            "Collecting pyyaml>=5.1\n",
            "  Downloading PyYAML-5.4.1-cp37-cp37m-manylinux1_x86_64.whl (636 kB)\n",
            "\u001b[K     |████████████████████████████████| 636 kB 49.6 MB/s \n",
            "\u001b[?25hRequirement already satisfied: typing-extensions in /usr/local/lib/python3.7/dist-packages (from huggingface-hub>=0.0.17->transformers) (3.7.4.3)\n",
            "Requirement already satisfied: pyparsing>=2.0.2 in /usr/local/lib/python3.7/dist-packages (from packaging>=20.0->transformers) (2.4.7)\n",
            "Requirement already satisfied: zipp>=0.5 in /usr/local/lib/python3.7/dist-packages (from importlib-metadata->transformers) (3.5.0)\n",
            "Requirement already satisfied: chardet<4,>=3.0.2 in /usr/local/lib/python3.7/dist-packages (from requests->transformers) (3.0.4)\n",
            "Requirement already satisfied: urllib3!=1.25.0,!=1.25.1,<1.26,>=1.21.1 in /usr/local/lib/python3.7/dist-packages (from requests->transformers) (1.24.3)\n",
            "Requirement already satisfied: certifi>=2017.4.17 in /usr/local/lib/python3.7/dist-packages (from requests->transformers) (2021.5.30)\n",
            "Requirement already satisfied: idna<3,>=2.5 in /usr/local/lib/python3.7/dist-packages (from requests->transformers) (2.10)\n",
            "Requirement already satisfied: click in /usr/local/lib/python3.7/dist-packages (from sacremoses->transformers) (7.1.2)\n",
            "Requirement already satisfied: joblib in /usr/local/lib/python3.7/dist-packages (from sacremoses->transformers) (1.0.1)\n",
            "Requirement already satisfied: six in /usr/local/lib/python3.7/dist-packages (from sacremoses->transformers) (1.15.0)\n",
            "Installing collected packages: tokenizers, sacremoses, pyyaml, huggingface-hub, transformers\n",
            "  Attempting uninstall: pyyaml\n",
            "    Found existing installation: PyYAML 3.13\n",
            "    Uninstalling PyYAML-3.13:\n",
            "      Successfully uninstalled PyYAML-3.13\n",
            "Successfully installed huggingface-hub-0.0.17 pyyaml-5.4.1 sacremoses-0.0.46 tokenizers-0.10.3 transformers-4.11.0\n"
          ]
        }
      ]
    },
    {
      "cell_type": "code",
      "metadata": {
        "colab": {
          "base_uri": "https://localhost:8080/",
          "height": 200,
          "referenced_widgets": [
            "86993879149c456fb4be0ede471dc466",
            "f8e3674cf870494484b05d09bf59d53e",
            "8d7f267f8e024054892a1e9c01ea72ab",
            "c1a5cde0ef1e433ba66ef72fc6767a0a",
            "bd04eaee27ed4fcd9b4271d6a8c3fc1d",
            "3a594a81f04841f5b358e367bff90eca",
            "7935ef533ce84ae5921f68d378ba65f0",
            "b196cb4d0bd44b5c92e92d1bbc62ac37",
            "b521cf08605344bf9698b6a6ad1b4119",
            "45fe1026336b40c0a71531d6d39685af",
            "5a556b7555544a4db3691b3ed9fa8e40",
            "12cc3ccc161b4bb8a3502204af2bc171",
            "b7f44e8af75b4c5ab67c115a077edced",
            "fdaeab53febf4605a2ad808da25e4944",
            "2ae61124f35d41b288adc5d7152fc71d",
            "df864801aa5f4d57a6a4cf8b262fcb57",
            "f2ebc3f1f02e4d25881499e3061cabbb",
            "35fb3b433d8f455197ef5611797c5685",
            "3278f92dfc2d42cda2df3576b7bf976c",
            "a679bf62e978476cb4e10f9f6a1aaeda",
            "512e9c516dea47d6a4d2981aae7b7bcf",
            "4ea6832a2065460c9e86661db250f38e",
            "3cd57919f130408cb11e0afd8d8f6ead",
            "cd031512143f48e996206031141899d0",
            "db4d6b29011349dfb31446fa3cc63fb0",
            "6fd9520d17b5425b9b9ee0ed221231bd",
            "7c7a6100468b477baea609bc6e1f3d4e",
            "d81fd7f577f448e7ba1b31fb20772dd0",
            "4ea776b59c1d49e29f349d4f490eeae9",
            "ad6796228c84472bafd419378de25b4a",
            "4682eb83602c4a25be2c198eece97517",
            "8c2524f7bea44d899f95905367aaeed0",
            "9a8798f28c1d4033891ac012990e140b",
            "e3f9974cae824d7085ed1f77aab16b69",
            "9132aa004579452daa20b5b8da13794a",
            "01ba690a7081403dbd99a6fc1e7b67db",
            "218424dab3dd4bc6be1730de77dc2e66",
            "69f707cd4d014937beb3e7219a208d34",
            "514f6e8f4c65442fa7651f277c97388c",
            "b1fddccef1394662905190361debf549",
            "c5073b27bebb4f30a0726579d873eaa9",
            "5a92ee3ddd7f45bebb38ece3d257f835",
            "d862057c087c446f9d413c434c3ed74f",
            "ab94e4114fbb4370a0d53018feb32983"
          ]
        },
        "id": "ev-I8dkSGahd",
        "outputId": "e833e3ca-48ce-4215-a824-d6ab7906cbe9"
      },
      "source": [
        "from transformers import AutoTokenizer\n",
        "tokenizer = AutoTokenizer.from_pretrained('bert-base-cased')"
      ],
      "execution_count": 23,
      "outputs": [
        {
          "output_type": "display_data",
          "data": {
            "application/vnd.jupyter.widget-view+json": {
              "model_id": "86993879149c456fb4be0ede471dc466",
              "version_minor": 0,
              "version_major": 2
            },
            "text/plain": [
              "Downloading:   0%|          | 0.00/29.0 [00:00<?, ?B/s]"
            ]
          },
          "metadata": {}
        },
        {
          "output_type": "display_data",
          "data": {
            "application/vnd.jupyter.widget-view+json": {
              "model_id": "12cc3ccc161b4bb8a3502204af2bc171",
              "version_minor": 0,
              "version_major": 2
            },
            "text/plain": [
              "Downloading:   0%|          | 0.00/570 [00:00<?, ?B/s]"
            ]
          },
          "metadata": {}
        },
        {
          "output_type": "stream",
          "name": "stderr",
          "text": [
            "/usr/local/lib/python3.7/dist-packages/transformers/configuration_utils.py:337: UserWarning: Passing `gradient_checkpointing` to a config initialization is deprecated and will be removed in v5 Transformers. Using `model.gradient_checkpointing_enable()` instead, or if you are using the `Trainer` API, pass `gradient_checkpointing=True` in your `TrainingArguments`.\n",
            "  \"Passing `gradient_checkpointing` to a config initialization is deprecated and will be removed in v5 \"\n"
          ]
        },
        {
          "output_type": "display_data",
          "data": {
            "application/vnd.jupyter.widget-view+json": {
              "model_id": "3cd57919f130408cb11e0afd8d8f6ead",
              "version_minor": 0,
              "version_major": 2
            },
            "text/plain": [
              "Downloading:   0%|          | 0.00/208k [00:00<?, ?B/s]"
            ]
          },
          "metadata": {}
        },
        {
          "output_type": "display_data",
          "data": {
            "application/vnd.jupyter.widget-view+json": {
              "model_id": "e3f9974cae824d7085ed1f77aab16b69",
              "version_minor": 0,
              "version_major": 2
            },
            "text/plain": [
              "Downloading:   0%|          | 0.00/426k [00:00<?, ?B/s]"
            ]
          },
          "metadata": {}
        }
      ]
    },
    {
      "cell_type": "code",
      "metadata": {
        "colab": {
          "base_uri": "https://localhost:8080/"
        },
        "id": "bAxyrNZSN14b",
        "outputId": "8137213e-9801-4d10-b23c-0fa714bb7d99"
      },
      "source": [
        "tokenizer = AutoTokenizer.from_pretrained('bert-base-cased')"
      ],
      "execution_count": 24,
      "outputs": [
        {
          "output_type": "stream",
          "name": "stderr",
          "text": [
            "/usr/local/lib/python3.7/dist-packages/transformers/configuration_utils.py:337: UserWarning: Passing `gradient_checkpointing` to a config initialization is deprecated and will be removed in v5 Transformers. Using `model.gradient_checkpointing_enable()` instead, or if you are using the `Trainer` API, pass `gradient_checkpointing=True` in your `TrainingArguments`.\n",
            "  \"Passing `gradient_checkpointing` to a config initialization is deprecated and will be removed in v5 \"\n"
          ]
        }
      ]
    },
    {
      "cell_type": "code",
      "metadata": {
        "id": "u_w9pxoZvfhJ"
      },
      "source": [
        "from sklearn.model_selection import train_test_split, RandomizedSearchCV, KFold, cross_val_score\n",
        "from sklearn.model_selection import train_test_split\n",
        "\n",
        "train, test = train_test_split(df, test_size=0.2)"
      ],
      "execution_count": 25,
      "outputs": []
    },
    {
      "cell_type": "code",
      "metadata": {
        "colab": {
          "base_uri": "https://localhost:8080/"
        },
        "id": "KW20x9B2Gahh",
        "outputId": "ca2eeb2a-ba6b-45d6-f7fd-5b8dcc44b9c3"
      },
      "source": [
        "def get_data(df):\n",
        "    # These 2 lines took me days to figure out!!! 😖😖😖\n",
        "    tokenized = tokenizer(df['excerpt'].tolist(), padding=True, return_tensors=\"np\") # the \"np\" means it will return numpy arrays\n",
        "    return {feat: tokenized[feat] for feat in tokenizer.model_input_names}\n",
        "    \n",
        "X = get_data(train)\n",
        "X"
      ],
      "execution_count": 26,
      "outputs": [
        {
          "output_type": "execute_result",
          "data": {
            "text/plain": [
              "{'attention_mask': array([[1, 1, 1, ..., 0, 0, 0],\n",
              "        [1, 1, 1, ..., 0, 0, 0],\n",
              "        [1, 1, 1, ..., 0, 0, 0],\n",
              "        ...,\n",
              "        [1, 1, 1, ..., 0, 0, 0],\n",
              "        [1, 1, 1, ..., 0, 0, 0],\n",
              "        [1, 1, 1, ..., 0, 0, 0]]),\n",
              " 'input_ids': array([[ 101, 1109, 1231, ...,    0,    0,    0],\n",
              "        [ 101, 2397, 4697, ...,    0,    0,    0],\n",
              "        [ 101, 1135, 3258, ...,    0,    0,    0],\n",
              "        ...,\n",
              "        [ 101, 1327,  170, ...,    0,    0,    0],\n",
              "        [ 101, 1966, 1879, ...,    0,    0,    0],\n",
              "        [ 101, 1109, 2226, ...,    0,    0,    0]]),\n",
              " 'token_type_ids': array([[0, 0, 0, ..., 0, 0, 0],\n",
              "        [0, 0, 0, ..., 0, 0, 0],\n",
              "        [0, 0, 0, ..., 0, 0, 0],\n",
              "        ...,\n",
              "        [0, 0, 0, ..., 0, 0, 0],\n",
              "        [0, 0, 0, ..., 0, 0, 0],\n",
              "        [0, 0, 0, ..., 0, 0, 0]])}"
            ]
          },
          "metadata": {},
          "execution_count": 26
        }
      ]
    },
    {
      "cell_type": "code",
      "metadata": {
        "colab": {
          "base_uri": "https://localhost:8080/"
        },
        "id": "GrgK7H_1deMt",
        "outputId": "81983d8c-b1da-4f54-f91a-305d4f876093"
      },
      "source": [
        "X['attention_mask'].shape"
      ],
      "execution_count": 27,
      "outputs": [
        {
          "output_type": "execute_result",
          "data": {
            "text/plain": [
              "(2267, 328)"
            ]
          },
          "metadata": {},
          "execution_count": 27
        }
      ]
    },
    {
      "cell_type": "code",
      "metadata": {
        "colab": {
          "base_uri": "https://localhost:8080/"
        },
        "id": "Rx0dBEv6Ncbs",
        "outputId": "80e944a7-80d9-4289-cea3-026d375e28d4"
      },
      "source": [
        "y = train[[\"target\"]].values # note that this is a list of single value lists\n",
        "y"
      ],
      "execution_count": 28,
      "outputs": [
        {
          "output_type": "execute_result",
          "data": {
            "text/plain": [
              "array([[-1.29256968],\n",
              "       [-0.55614372],\n",
              "       [-1.02187721],\n",
              "       ...,\n",
              "       [-1.96313605],\n",
              "       [-1.48837258],\n",
              "       [-0.71400876]])"
            ]
          },
          "metadata": {},
          "execution_count": 28
        }
      ]
    },
    {
      "cell_type": "markdown",
      "metadata": {
        "id": "sOeMLuK0d9SU"
      },
      "source": [
        "https://towardsdatascience.com/how-to-combine-textual-and-numerical-features-for-machine-learning-in-python-dc1526ca94d9"
      ]
    },
    {
      "cell_type": "code",
      "metadata": {
        "id": "-lvDA63fZEkq"
      },
      "source": [
        "import tensorflow as tf\n",
        "numeric_input = tf.convert_to_tensor(df[['fkscore', 'fkgrade_level', 'dcscore', 'gfscore',\n",
        "       'clscore', 'ariscore', 'words', 'wordset', 'lexicaldiversity']], dtype=tf.float32)"
      ],
      "execution_count": 29,
      "outputs": []
    },
    {
      "cell_type": "code",
      "metadata": {
        "colab": {
          "base_uri": "https://localhost:8080/"
        },
        "id": "R6h71YvcdZ3B",
        "outputId": "9d66915c-2636-4ed8-8b7f-f1d4f6dde11c"
      },
      "source": [
        "numeric_input"
      ],
      "execution_count": 30,
      "outputs": [
        {
          "output_type": "execute_result",
          "data": {
            "text/plain": [
              "<tf.Tensor: shape=(2834, 9), dtype=float32, numpy=\n",
              "array([[  6.7444744,   7.       ,   6.5607224, ..., 179.       ,\n",
              "        114.       ,   1.5701754],\n",
              "       [  5.2306995,   5.       ,   7.606702 , ..., 169.       ,\n",
              "        127.       ,   1.3307086],\n",
              "       [  6.4468184,   6.       ,   8.108452 , ..., 166.       ,\n",
              "        128.       ,   1.296875 ],\n",
              "       ...,\n",
              "       [  4.000878 ,   4.       ,   6.4258647, ..., 190.       ,\n",
              "        100.       ,   1.9      ],\n",
              "       [  6.457544 ,   6.       ,   7.4850955, ..., 150.       ,\n",
              "        104.       ,   1.4423077],\n",
              "       [  6.8626237,   7.       ,   6.6810117, ..., 146.       ,\n",
              "        100.       ,   1.46     ]], dtype=float32)>"
            ]
          },
          "metadata": {},
          "execution_count": 30
        }
      ]
    },
    {
      "cell_type": "code",
      "metadata": {
        "id": "GeGMX_RzNl8x"
      },
      "source": [
        "import matplotlib.pyplot as plt\n",
        "\n",
        "import keras\n",
        "import tensorflow.keras.backend as K\n",
        "\n",
        "\n",
        "early_stop = keras.callbacks.EarlyStopping(\n",
        "    monitor=\"val_loss\",\n",
        "    patience=2,\n",
        "    verbose=1,\n",
        "    restore_best_weights=True,\n",
        ")\n",
        "\n",
        "\n",
        "# to define 'rmse' as loss instead of 'mse'\n",
        "def rmse(y_true, y_pred):\n",
        "    return K.sqrt(K.mean(K.square(y_pred - y_true))) \n",
        "\n",
        "\n",
        "def plot_hist(history):\n",
        "    plt.plot(history['loss'])\n",
        "    plt.plot(history['val_loss'])\n",
        "    best_val_loss = min(history['val_loss'])\n",
        "    print(f'Best validation loss: {best_val_loss:.3f}')"
      ],
      "execution_count": 31,
      "outputs": []
    },
    {
      "cell_type": "code",
      "metadata": {
        "id": "IgLLAhU2N9MW"
      },
      "source": [
        "BASE_MODEL = 'bert-large-cased'"
      ],
      "execution_count": 32,
      "outputs": []
    },
    {
      "cell_type": "code",
      "metadata": {
        "id": "9gO1SNz17xjp"
      },
      "source": [
        "from tensorflow.keras.optimizers import Adam"
      ],
      "execution_count": 33,
      "outputs": []
    },
    {
      "cell_type": "code",
      "metadata": {
        "id": "YIROQia8Npl7"
      },
      "source": [
        "from transformers import TFAutoModelForSequenceClassification\n",
        "#from tensorflow.keras import optimizers\n",
        "\n",
        "#tf.keras.optimizers.Adam(learning_rate=5e-5)"
      ],
      "execution_count": 34,
      "outputs": []
    },
    {
      "cell_type": "code",
      "metadata": {
        "colab": {
          "base_uri": "https://localhost:8080/",
          "height": 448,
          "referenced_widgets": [
            "e09ecf43b8944dab8ce2ea99ff5a47cc",
            "b82db4a46bc04b6c865255ac0cf46f6f",
            "59f5f3b296ba47f086cfd06f72c09439",
            "f18af12a13d443d0919a055fc3ffdc9d",
            "0e9b8df310764adf8e7fc71294b2ec33",
            "6dc6fd272fb7441d859b1892c7b05e57",
            "b38cbd25efd6435c867618601511fe28",
            "1bdbfd29d93f48889c5b1fccf13bd706",
            "e0e811108f8743e99507323d0b5aa9e1",
            "977b05e892e14314ae4ce0b5990c2ac7",
            "205dab75828f4c8b821f7e8a399d651d",
            "3db98591c6784a208fcae7946dc65f5c",
            "0a01ffde23ca4a0c89b00ac30b163143",
            "4a402fc4f36346ea86cd7554c1c16269",
            "3586931d393d4417a8a9ef22349d6678",
            "eb403a86fe0c4c5db28ebca955e18a35",
            "0ecbfc63981b4554868568e622b11478",
            "47c3d19c81f04b6891e8443a29ac105d",
            "c30763b7dc724048be7a0e77dce5e16e",
            "e13b89a91ba74278a6ba0865c15c11ae",
            "a1a2abbfbb0b4ae4947738f2def59a76",
            "83c964437da149cab97bd423e846579f"
          ]
        },
        "id": "31HTMET6iNN6",
        "outputId": "5b6f5698-575a-486b-f790-9f698d2e9ae9"
      },
      "source": [
        "model = TFAutoModelForSequenceClassification.from_pretrained(BASE_MODEL, num_labels=1) # num_labels=1 results in a regression\n",
        "\n",
        "model.compile(optimizer=Adam(learning_rate=1e-5), loss=rmse, metrics=[keras.metrics.RootMeanSquaredError()]) # small training rates are necessary!\n",
        "model.summary()"
      ],
      "execution_count": 35,
      "outputs": [
        {
          "output_type": "display_data",
          "data": {
            "application/vnd.jupyter.widget-view+json": {
              "model_id": "e09ecf43b8944dab8ce2ea99ff5a47cc",
              "version_minor": 0,
              "version_major": 2
            },
            "text/plain": [
              "Downloading:   0%|          | 0.00/762 [00:00<?, ?B/s]"
            ]
          },
          "metadata": {}
        },
        {
          "output_type": "stream",
          "name": "stderr",
          "text": [
            "/usr/local/lib/python3.7/dist-packages/transformers/configuration_utils.py:337: UserWarning: Passing `gradient_checkpointing` to a config initialization is deprecated and will be removed in v5 Transformers. Using `model.gradient_checkpointing_enable()` instead, or if you are using the `Trainer` API, pass `gradient_checkpointing=True` in your `TrainingArguments`.\n",
            "  \"Passing `gradient_checkpointing` to a config initialization is deprecated and will be removed in v5 \"\n"
          ]
        },
        {
          "output_type": "display_data",
          "data": {
            "application/vnd.jupyter.widget-view+json": {
              "model_id": "3db98591c6784a208fcae7946dc65f5c",
              "version_minor": 0,
              "version_major": 2
            },
            "text/plain": [
              "Downloading:   0%|          | 0.00/1.36G [00:00<?, ?B/s]"
            ]
          },
          "metadata": {}
        },
        {
          "output_type": "stream",
          "name": "stderr",
          "text": [
            "All model checkpoint layers were used when initializing TFBertForSequenceClassification.\n",
            "\n",
            "Some layers of TFBertForSequenceClassification were not initialized from the model checkpoint at bert-large-cased and are newly initialized: ['classifier']\n",
            "You should probably TRAIN this model on a down-stream task to be able to use it for predictions and inference.\n"
          ]
        },
        {
          "output_type": "stream",
          "name": "stdout",
          "text": [
            "Model: \"tf_bert_for_sequence_classification\"\n",
            "_________________________________________________________________\n",
            "Layer (type)                 Output Shape              Param #   \n",
            "=================================================================\n",
            "bert (TFBertMainLayer)       multiple                  333579264 \n",
            "_________________________________________________________________\n",
            "dropout_73 (Dropout)         multiple                  0         \n",
            "_________________________________________________________________\n",
            "classifier (Dense)           multiple                  1025      \n",
            "=================================================================\n",
            "Total params: 333,580,289\n",
            "Trainable params: 333,580,289\n",
            "Non-trainable params: 0\n",
            "_________________________________________________________________\n"
          ]
        }
      ]
    },
    {
      "cell_type": "code",
      "metadata": {
        "id": "Fv-9IhD4PSHd",
        "colab": {
          "base_uri": "https://localhost:8080/",
          "height": 459
        },
        "outputId": "f3c4cf42-efc0-40c9-cd08-81035af274df"
      },
      "source": [
        "hist = model.fit(X, y, validation_split=0.2, epochs=5, batch_size=2, callbacks=[early_stop], verbose=2) # Mini-batches seem to overfit less\n",
        "\n",
        "plot_hist(hist.history)"
      ],
      "execution_count": 36,
      "outputs": [
        {
          "output_type": "stream",
          "name": "stdout",
          "text": [
            "Epoch 1/5\n",
            "907/907 - 1049s - loss: 0.6632 - root_mean_squared_error: 0.7564 - val_loss: 0.6055 - val_root_mean_squared_error: 0.6737\n",
            "Epoch 2/5\n",
            "907/907 - 992s - loss: 0.5086 - root_mean_squared_error: 0.5763 - val_loss: 0.6327 - val_root_mean_squared_error: 0.6967\n",
            "Epoch 3/5\n",
            "907/907 - 1006s - loss: 0.4166 - root_mean_squared_error: 0.4748 - val_loss: 0.4554 - val_root_mean_squared_error: 0.5192\n",
            "Epoch 4/5\n",
            "907/907 - 991s - loss: 0.3686 - root_mean_squared_error: 0.4199 - val_loss: 0.4542 - val_root_mean_squared_error: 0.5215\n",
            "Epoch 5/5\n",
            "907/907 - 995s - loss: 0.3425 - root_mean_squared_error: 0.3924 - val_loss: 0.5517 - val_root_mean_squared_error: 0.6142\n",
            "Best validation loss: 0.454\n"
          ]
        },
        {
          "output_type": "display_data",
          "data": {
            "image/png": "[encoded data removed]",
            "text/plain": [
              "<Figure size 432x288 with 1 Axes>"
            ]
          },
          "metadata": {}
        }
      ]
    },
    {
      "cell_type": "markdown",
      "metadata": {
        "id": "eEt2z2nFBv4g"
      },
      "source": [
        "Take this model and merge it with other metrics like readability and sentence count etc. to train a new bert dense model.\n",
        "* install py-readability-metrics\n",
        "* Author for readability metrics package: https://www.linkedin.com/in/carmine/\n",
        "* add a large amount of dropout\n",
        "* large batch sizes\n",
        "* gradient clipping\n",
        "\n",
        "* Winning models will be sure to incorporate text cohesion and semantics.\n",
        "\n",
        "\n",
        "\n"
      ]
    },
    {
      "cell_type": "markdown",
      "metadata": {
        "id": "esII6q7n1p7R"
      },
      "source": [
        ""
      ]
    },
    {
      "cell_type": "code",
      "metadata": {
        "colab": {
          "base_uri": "https://localhost:8080/"
        },
        "id": "qqUZ2usxXnq3",
        "outputId": "438771f7-1dc2-4dad-9487-28780f4929b7"
      },
      "source": [
        "print(hist.history.keys())"
      ],
      "execution_count": 37,
      "outputs": [
        {
          "output_type": "stream",
          "name": "stdout",
          "text": [
            "dict_keys(['loss', 'root_mean_squared_error', 'val_loss', 'val_root_mean_squared_error'])\n"
          ]
        }
      ]
    },
    {
      "cell_type": "code",
      "metadata": {
        "colab": {
          "base_uri": "https://localhost:8080/"
        },
        "id": "i31E6QrvfLww",
        "outputId": "b7da0ab8-9035-42e7-dcb8-391a60fef540"
      },
      "source": [
        "hist.history['val_root_mean_squared_error']"
      ],
      "execution_count": 38,
      "outputs": [
        {
          "output_type": "execute_result",
          "data": {
            "text/plain": [
              "[0.6736653447151184,\n",
              " 0.6966567039489746,\n",
              " 0.5191614627838135,\n",
              " 0.5214706659317017,\n",
              " 0.614248514175415]"
            ]
          },
          "metadata": {},
          "execution_count": 38
        }
      ]
    },
    {
      "cell_type": "code",
      "metadata": {
        "id": "JvOrEXHUnFwU"
      },
      "source": [
        "X_test = get_data(test)\n",
        "y_test = model.predict(X_test)"
      ],
      "execution_count": 42,
      "outputs": []
    },
    {
      "cell_type": "code",
      "metadata": {
        "colab": {
          "base_uri": "https://localhost:8080/"
        },
        "id": "Z0-10ihAnqXw",
        "outputId": "bed29769-0c96-4d33-aa65-4c370b46efe6"
      },
      "source": [
        "y_test['logits']"
      ],
      "execution_count": 43,
      "outputs": [
        {
          "output_type": "execute_result",
          "data": {
            "text/plain": [
              "array([[-6.32164598e-01],\n",
              "       [-1.18582630e+00],\n",
              "       [ 5.45555890e-01],\n",
              "       [-1.30183363e+00],\n",
              "       [-1.94119847e+00],\n",
              "       [ 2.98473388e-02],\n",
              "       [-1.13152958e-01],\n",
              "       [-1.09126151e+00],\n",
              "       [ 3.61493453e-02],\n",
              "       [ 1.00162864e-01],\n",
              "       [-1.48343289e+00],\n",
              "       [-7.25022331e-02],\n",
              "       [-2.62513256e+00],\n",
              "       [-1.42053649e-01],\n",
              "       [-1.90116191e+00],\n",
              "       [-2.71405801e-02],\n",
              "       [ 3.97172511e-01],\n",
              "       [-2.06976843e+00],\n",
              "       [-7.28727400e-01],\n",
              "       [-9.74816084e-03],\n",
              "       [ 5.11360288e-01],\n",
              "       [-2.14378977e+00],\n",
              "       [-1.19004428e+00],\n",
              "       [ 2.52393842e-01],\n",
              "       [-1.64878106e+00],\n",
              "       [-1.33929360e+00],\n",
              "       [ 5.22984028e-01],\n",
              "       [-1.83232629e+00],\n",
              "       [-1.87531936e+00],\n",
              "       [-1.21446979e+00],\n",
              "       [ 5.34920871e-01],\n",
              "       [-8.89423430e-01],\n",
              "       [-1.38308775e+00],\n",
              "       [-2.28972840e+00],\n",
              "       [-1.29247904e+00],\n",
              "       [-7.68681228e-01],\n",
              "       [ 5.35912752e-01],\n",
              "       [-4.70349550e-01],\n",
              "       [-1.93928540e+00],\n",
              "       [-8.13871324e-01],\n",
              "       [ 3.80287051e-01],\n",
              "       [-5.80674171e-01],\n",
              "       [ 1.12839632e-01],\n",
              "       [-1.38179690e-01],\n",
              "       [-1.42140955e-01],\n",
              "       [-8.88338149e-01],\n",
              "       [-1.05060470e+00],\n",
              "       [-1.06302786e+00],\n",
              "       [-1.38714826e+00],\n",
              "       [-4.60439995e-02],\n",
              "       [-1.36584079e+00],\n",
              "       [ 5.38891017e-01],\n",
              "       [ 6.73236744e-03],\n",
              "       [ 2.97369242e-01],\n",
              "       [-2.64030862e+00],\n",
              "       [-9.84428346e-01],\n",
              "       [-3.27177227e-01],\n",
              "       [ 3.06074500e-01],\n",
              "       [-1.30839682e+00],\n",
              "       [-5.05333126e-01],\n",
              "       [-1.90575838e-01],\n",
              "       [-3.59218493e-02],\n",
              "       [-4.33064774e-02],\n",
              "       [ 5.34434855e-01],\n",
              "       [ 6.05173707e-02],\n",
              "       [-7.49281168e-01],\n",
              "       [ 4.98829067e-01],\n",
              "       [-8.15868318e-01],\n",
              "       [ 1.55543566e-01],\n",
              "       [-9.35234785e-01],\n",
              "       [-1.67294490e+00],\n",
              "       [-1.24498272e+00],\n",
              "       [-1.33732513e-01],\n",
              "       [ 1.19046293e-01],\n",
              "       [-5.56797609e-02],\n",
              "       [ 1.19095922e-01],\n",
              "       [ 2.03723460e-02],\n",
              "       [ 7.80275837e-02],\n",
              "       [-5.91260314e-01],\n",
              "       [-2.13551708e-02],\n",
              "       [-2.79250085e-01],\n",
              "       [-3.99919480e-01],\n",
              "       [-2.11991787e+00],\n",
              "       [ 6.65379539e-02],\n",
              "       [-9.70871150e-01],\n",
              "       [-3.66239905e-01],\n",
              "       [ 3.57095078e-02],\n",
              "       [-7.77424812e-01],\n",
              "       [ 5.44500411e-01],\n",
              "       [-2.75472909e-01],\n",
              "       [ 1.99392915e-01],\n",
              "       [ 2.29485691e-01],\n",
              "       [-1.38964939e+00],\n",
              "       [-9.58225667e-01],\n",
              "       [-1.90583742e+00],\n",
              "       [-8.02317202e-01],\n",
              "       [-1.12150025e+00],\n",
              "       [-1.18293941e-01],\n",
              "       [-2.95494497e-01],\n",
              "       [ 5.21973550e-01],\n",
              "       [ 3.50693703e-01],\n",
              "       [-3.22993129e-01],\n",
              "       [ 4.19214785e-01],\n",
              "       [-1.70627940e+00],\n",
              "       [-9.33044702e-02],\n",
              "       [-4.95793521e-01],\n",
              "       [ 5.51772833e-01],\n",
              "       [-1.88345090e-01],\n",
              "       [-1.50416970e+00],\n",
              "       [ 3.06931555e-01],\n",
              "       [-1.13344967e+00],\n",
              "       [-2.09666109e+00],\n",
              "       [-2.33787417e+00],\n",
              "       [-1.90234327e+00],\n",
              "       [ 3.36884856e-01],\n",
              "       [ 1.47606120e-01],\n",
              "       [ 5.36087096e-01],\n",
              "       [-6.38025820e-01],\n",
              "       [-1.93085659e+00],\n",
              "       [-7.69763291e-01],\n",
              "       [ 5.40518463e-01],\n",
              "       [-1.91871077e-02],\n",
              "       [ 2.80590385e-01],\n",
              "       [ 3.87094617e-01],\n",
              "       [-7.64362276e-01],\n",
              "       [-1.78891075e+00],\n",
              "       [ 3.18242237e-02],\n",
              "       [-8.23031485e-01],\n",
              "       [-1.70415866e+00],\n",
              "       [ 1.76097840e-01],\n",
              "       [-1.42013061e+00],\n",
              "       [ 2.24632144e-01],\n",
              "       [-1.66028833e+00],\n",
              "       [ 5.41952550e-01],\n",
              "       [-1.83900571e+00],\n",
              "       [-2.28882074e-01],\n",
              "       [-1.63954645e-01],\n",
              "       [ 1.03014745e-01],\n",
              "       [ 7.15383068e-02],\n",
              "       [ 1.12907812e-02],\n",
              "       [-3.94339174e-01],\n",
              "       [ 3.73188742e-02],\n",
              "       [ 5.27180552e-01],\n",
              "       [-4.20036167e-01],\n",
              "       [-8.97544086e-01],\n",
              "       [ 5.52808285e-01],\n",
              "       [ 1.22609071e-01],\n",
              "       [-2.45125937e+00],\n",
              "       [-1.98164076e-01],\n",
              "       [-2.03101826e+00],\n",
              "       [ 5.39723217e-01],\n",
              "       [-1.08185184e+00],\n",
              "       [-1.43305659e+00],\n",
              "       [-4.45418239e-01],\n",
              "       [-8.22133362e-01],\n",
              "       [-7.17965290e-02],\n",
              "       [-1.33484328e+00],\n",
              "       [-1.07073116e+00],\n",
              "       [-1.34624207e+00],\n",
              "       [-9.27889466e-01],\n",
              "       [ 5.31297743e-01],\n",
              "       [-3.48441541e-01],\n",
              "       [-2.05601543e-01],\n",
              "       [-3.55768353e-01],\n",
              "       [-2.70165384e-01],\n",
              "       [-3.60204995e-01],\n",
              "       [-3.88706982e-01],\n",
              "       [-7.50889957e-01],\n",
              "       [ 5.29111207e-01],\n",
              "       [ 2.57087648e-01],\n",
              "       [-6.84728205e-01],\n",
              "       [ 5.28447151e-01],\n",
              "       [-9.70584750e-01],\n",
              "       [-4.36028063e-01],\n",
              "       [-1.37087905e+00],\n",
              "       [-4.21384051e-02],\n",
              "       [ 2.89642096e-01],\n",
              "       [ 4.36017424e-01],\n",
              "       [-1.71080422e+00],\n",
              "       [-3.83556277e-01],\n",
              "       [-6.97746396e-01],\n",
              "       [-1.00704277e+00],\n",
              "       [-7.85578310e-01],\n",
              "       [-2.77171850e-01],\n",
              "       [ 1.60060674e-02],\n",
              "       [ 2.47970849e-01],\n",
              "       [ 9.70191434e-02],\n",
              "       [ 3.30860555e-01],\n",
              "       [-9.78709638e-01],\n",
              "       [-1.39580297e+00],\n",
              "       [-1.38839394e-01],\n",
              "       [ 8.03670660e-02],\n",
              "       [-4.09442276e-01],\n",
              "       [ 3.60986948e-01],\n",
              "       [-6.76745534e-01],\n",
              "       [-1.95728028e+00],\n",
              "       [ 1.79045573e-02],\n",
              "       [-1.64210856e+00],\n",
              "       [-1.67491007e+00],\n",
              "       [-2.28569210e-01],\n",
              "       [-1.59230816e+00],\n",
              "       [-1.54863966e+00],\n",
              "       [-1.15951264e+00],\n",
              "       [-8.06722701e-01],\n",
              "       [-2.52213049e+00],\n",
              "       [-6.85222328e-01],\n",
              "       [-1.28192174e+00],\n",
              "       [-8.44514787e-01],\n",
              "       [ 2.80217171e-01],\n",
              "       [-1.06903851e+00],\n",
              "       [-1.21955359e+00],\n",
              "       [ 2.83722609e-01],\n",
              "       [ 3.79885912e-01],\n",
              "       [ 3.06216896e-01],\n",
              "       [ 5.41314423e-01],\n",
              "       [-1.52677274e+00],\n",
              "       [-8.96986127e-02],\n",
              "       [ 1.32998824e-02],\n",
              "       [ 5.69006503e-01],\n",
              "       [ 5.32246411e-01],\n",
              "       [-9.60238278e-01],\n",
              "       [-1.52492917e+00],\n",
              "       [-2.48185563e+00],\n",
              "       [ 3.11093211e-01],\n",
              "       [ 3.24708790e-01],\n",
              "       [-1.47355831e+00],\n",
              "       [-2.65643930e+00],\n",
              "       [ 2.97344267e-01],\n",
              "       [-1.93135530e-01],\n",
              "       [-1.20923549e-01],\n",
              "       [-1.79909682e+00],\n",
              "       [-5.06521523e-01],\n",
              "       [-8.38861823e-01],\n",
              "       [-9.34817255e-01],\n",
              "       [-7.82516599e-01],\n",
              "       [ 2.77108073e-01],\n",
              "       [-2.03713179e+00],\n",
              "       [-2.75839543e+00],\n",
              "       [-1.99128139e+00],\n",
              "       [ 2.50173926e-01],\n",
              "       [-9.84852493e-01],\n",
              "       [-1.09237325e+00],\n",
              "       [-1.49151528e+00],\n",
              "       [-8.86327267e-01],\n",
              "       [-1.52680981e+00],\n",
              "       [-1.12939191e+00],\n",
              "       [-1.49345130e-01],\n",
              "       [-6.85031593e-01],\n",
              "       [-2.80045414e+00],\n",
              "       [ 2.62328908e-02],\n",
              "       [-8.94839466e-01],\n",
              "       [-8.58306587e-01],\n",
              "       [ 5.20162642e-01],\n",
              "       [-1.04572904e+00],\n",
              "       [ 4.55450326e-01],\n",
              "       [ 5.28850138e-01],\n",
              "       [-1.53705966e+00],\n",
              "       [-4.02664423e-01],\n",
              "       [ 5.66441238e-01],\n",
              "       [ 3.34963113e-01],\n",
              "       [-1.43139517e+00],\n",
              "       [ 9.02479142e-03],\n",
              "       [-9.99618053e-01],\n",
              "       [-1.17285633e+00],\n",
              "       [-1.36510611e+00],\n",
              "       [-5.31776845e-01],\n",
              "       [-1.69041538e+00],\n",
              "       [ 3.86253372e-02],\n",
              "       [-2.97160089e-01],\n",
              "       [ 1.42042711e-02],\n",
              "       [-1.58859408e+00],\n",
              "       [-1.84974301e+00],\n",
              "       [-1.22848535e+00],\n",
              "       [-1.40544549e-01],\n",
              "       [-1.30363500e+00],\n",
              "       [ 5.30218959e-01],\n",
              "       [-5.61902896e-02],\n",
              "       [ 2.92988807e-01],\n",
              "       [ 5.45481265e-01],\n",
              "       [-1.30225456e+00],\n",
              "       [-1.62255251e+00],\n",
              "       [-5.36643684e-01],\n",
              "       [ 1.90088153e-01],\n",
              "       [-1.22880113e+00],\n",
              "       [ 5.12233377e-01],\n",
              "       [-1.33827078e+00],\n",
              "       [ 2.10664853e-01],\n",
              "       [-7.47720897e-01],\n",
              "       [ 5.20544529e-01],\n",
              "       [-2.01707816e+00],\n",
              "       [-3.57413664e-02],\n",
              "       [-1.10301244e+00],\n",
              "       [ 5.32641053e-01],\n",
              "       [-3.26225996e-01],\n",
              "       [-7.91359782e-01],\n",
              "       [-1.61127484e+00],\n",
              "       [-1.31704843e+00],\n",
              "       [-7.06161737e-01],\n",
              "       [-3.37995827e-01],\n",
              "       [ 5.33871531e-01],\n",
              "       [-1.24211681e+00],\n",
              "       [-1.49764633e+00],\n",
              "       [-2.07336378e+00],\n",
              "       [-1.00513566e+00],\n",
              "       [ 3.71542633e-01],\n",
              "       [-3.12312436e+00],\n",
              "       [-1.76320696e+00],\n",
              "       [-5.95567673e-02],\n",
              "       [ 4.34026808e-01],\n",
              "       [-6.84862673e-01],\n",
              "       [-2.64147902e+00],\n",
              "       [-2.62670231e+00],\n",
              "       [-1.93750894e+00],\n",
              "       [-2.41223693e+00],\n",
              "       [ 4.51325923e-01],\n",
              "       [-1.73402011e+00],\n",
              "       [-3.27461153e-01],\n",
              "       [-1.27571952e+00],\n",
              "       [ 1.97240785e-01],\n",
              "       [ 1.56796008e-01],\n",
              "       [-3.83528262e-01],\n",
              "       [ 5.54682851e-01],\n",
              "       [-8.52469385e-01],\n",
              "       [-1.09406993e-01],\n",
              "       [-7.46232450e-01],\n",
              "       [ 3.47579420e-01],\n",
              "       [ 5.37103057e-01],\n",
              "       [-5.79000235e-01],\n",
              "       [-1.39950120e+00],\n",
              "       [ 4.13694859e-01],\n",
              "       [-1.58126071e-01],\n",
              "       [-1.33940980e-01],\n",
              "       [-1.14026225e+00],\n",
              "       [-1.09468736e-01],\n",
              "       [-1.17136371e+00],\n",
              "       [-8.90753686e-01],\n",
              "       [-7.32438965e-03],\n",
              "       [-9.97331560e-01],\n",
              "       [ 4.62487280e-01],\n",
              "       [-1.55508727e-01],\n",
              "       [ 5.44879973e-01],\n",
              "       [-1.93591702e+00],\n",
              "       [-1.72530425e+00],\n",
              "       [ 3.20465207e-01],\n",
              "       [ 1.94720283e-01],\n",
              "       [ 3.37484002e-01],\n",
              "       [-1.92864382e+00],\n",
              "       [ 5.29853642e-01],\n",
              "       [-4.69142273e-02],\n",
              "       [-1.15523493e+00],\n",
              "       [-9.97791469e-01],\n",
              "       [-8.87801468e-01],\n",
              "       [ 1.25360370e-01],\n",
              "       [-1.45968902e+00],\n",
              "       [-4.46884423e-01],\n",
              "       [-2.58255839e+00],\n",
              "       [ 2.31391564e-01],\n",
              "       [-1.24357355e+00],\n",
              "       [-1.53629005e+00],\n",
              "       [-1.43339324e+00],\n",
              "       [ 2.78656363e-01],\n",
              "       [-1.81608152e+00],\n",
              "       [-1.59697711e+00],\n",
              "       [-9.03597176e-01],\n",
              "       [-9.05974567e-01],\n",
              "       [-1.09331310e+00],\n",
              "       [-1.75400698e+00],\n",
              "       [-5.06411612e-01],\n",
              "       [ 1.30143210e-01],\n",
              "       [-7.13876307e-01],\n",
              "       [-1.31766045e+00],\n",
              "       [-6.73195899e-01],\n",
              "       [-1.24154603e+00],\n",
              "       [-5.12847185e-01],\n",
              "       [-6.31874204e-01],\n",
              "       [-7.81051934e-01],\n",
              "       [-1.43306160e+00],\n",
              "       [-2.60042834e+00],\n",
              "       [-2.10955679e-01],\n",
              "       [-3.71731222e-01],\n",
              "       [-1.78610206e+00],\n",
              "       [ 2.99044549e-01],\n",
              "       [ 8.17179158e-02],\n",
              "       [-1.56648886e+00],\n",
              "       [-1.20099664e+00],\n",
              "       [-2.39041829e+00],\n",
              "       [-1.62258380e-04],\n",
              "       [-8.50339472e-01],\n",
              "       [-1.05124429e-01],\n",
              "       [ 5.04167557e-01],\n",
              "       [-2.77802730e+00],\n",
              "       [-3.49127561e-01],\n",
              "       [ 4.30471376e-02],\n",
              "       [-1.12292290e+00],\n",
              "       [-2.50574160e+00],\n",
              "       [-2.28137040e+00],\n",
              "       [ 1.25005916e-01],\n",
              "       [ 6.66956231e-02],\n",
              "       [-8.04927573e-02],\n",
              "       [-1.97327286e-02],\n",
              "       [ 5.45339227e-01],\n",
              "       [-4.93427515e-02],\n",
              "       [-1.37875867e+00],\n",
              "       [ 2.32989550e-01],\n",
              "       [ 3.44167769e-01],\n",
              "       [ 3.35728079e-01],\n",
              "       [-9.46478844e-01],\n",
              "       [ 4.73141044e-01],\n",
              "       [ 2.92733312e-01],\n",
              "       [-1.11428678e+00],\n",
              "       [-8.20909023e-01],\n",
              "       [ 1.18117802e-01],\n",
              "       [-2.16885233e+00],\n",
              "       [-9.62481380e-01],\n",
              "       [ 2.93667495e-01],\n",
              "       [-1.83195806e+00],\n",
              "       [-8.43871683e-02],\n",
              "       [-1.66316724e+00],\n",
              "       [ 5.31807721e-01],\n",
              "       [ 3.17483038e-01],\n",
              "       [-3.64238722e-03],\n",
              "       [-1.32740960e-02],\n",
              "       [-1.88891625e+00],\n",
              "       [-8.72119009e-01],\n",
              "       [ 9.11669210e-02],\n",
              "       [-3.10143518e+00],\n",
              "       [-2.47032833e+00],\n",
              "       [ 3.43898892e-01],\n",
              "       [-1.60284713e-01],\n",
              "       [-7.48003960e-01],\n",
              "       [ 1.41327605e-01],\n",
              "       [ 3.38598281e-01],\n",
              "       [-8.50162804e-01],\n",
              "       [-9.10012484e-01],\n",
              "       [-1.94458354e+00],\n",
              "       [-1.13382988e-01],\n",
              "       [-1.82020888e-02],\n",
              "       [ 4.56379205e-01],\n",
              "       [-1.34555960e+00],\n",
              "       [-1.44214559e+00],\n",
              "       [-1.26485914e-01],\n",
              "       [-1.16798401e+00],\n",
              "       [-6.55506551e-01],\n",
              "       [-1.27602291e+00],\n",
              "       [-2.64988446e+00],\n",
              "       [-2.10410404e+00],\n",
              "       [-1.81886399e+00],\n",
              "       [ 1.96733251e-01],\n",
              "       [ 4.85145986e-01],\n",
              "       [-1.32709730e+00],\n",
              "       [-5.79428017e-01],\n",
              "       [-1.90593708e+00],\n",
              "       [ 5.12858212e-01],\n",
              "       [ 1.39883533e-02],\n",
              "       [ 5.41894853e-01],\n",
              "       [-2.54837728e+00],\n",
              "       [-1.49982798e+00],\n",
              "       [-9.00555313e-01],\n",
              "       [-9.99041200e-01],\n",
              "       [ 5.34772694e-01],\n",
              "       [-1.07839966e+00],\n",
              "       [ 3.16375643e-02],\n",
              "       [-1.36890125e+00],\n",
              "       [-2.24566364e+00],\n",
              "       [ 2.03179300e-01],\n",
              "       [-6.70173824e-01],\n",
              "       [-4.48831618e-02],\n",
              "       [ 5.14998436e-01],\n",
              "       [-1.77429426e+00],\n",
              "       [ 5.50488651e-01],\n",
              "       [-1.01621354e+00],\n",
              "       [-1.83666956e+00],\n",
              "       [ 2.24025249e-01],\n",
              "       [-1.61764562e+00],\n",
              "       [-7.45948493e-01],\n",
              "       [-1.38902223e+00],\n",
              "       [-7.54606783e-01],\n",
              "       [-3.91674787e-01],\n",
              "       [ 1.92909122e-01],\n",
              "       [-9.88563955e-01],\n",
              "       [-1.27626443e+00],\n",
              "       [-1.08281839e+00],\n",
              "       [-1.44895971e+00],\n",
              "       [ 2.17332259e-01],\n",
              "       [-2.48571157e+00],\n",
              "       [ 2.90597379e-01],\n",
              "       [ 1.19522281e-01],\n",
              "       [-2.67103642e-01],\n",
              "       [-9.75895286e-01],\n",
              "       [-3.64970714e-01],\n",
              "       [-2.24481010e+00],\n",
              "       [-1.46062446e+00],\n",
              "       [-1.43117988e+00],\n",
              "       [ 1.41800985e-01],\n",
              "       [-2.72225833e+00],\n",
              "       [ 1.26099676e-01],\n",
              "       [-1.25679386e+00],\n",
              "       [-3.02992342e-03],\n",
              "       [ 4.64451551e-01],\n",
              "       [-1.38505268e+00],\n",
              "       [ 5.31748712e-01],\n",
              "       [-8.69760215e-01],\n",
              "       [ 4.94140238e-01],\n",
              "       [ 5.09289563e-01],\n",
              "       [-1.09870958e+00],\n",
              "       [ 5.50353765e-01],\n",
              "       [-3.86942863e-01],\n",
              "       [ 4.22049314e-01],\n",
              "       [-1.52378333e+00],\n",
              "       [ 1.04229979e-01],\n",
              "       [-9.98437107e-01],\n",
              "       [ 6.89482614e-02],\n",
              "       [-2.49353933e+00],\n",
              "       [-2.53971964e-01],\n",
              "       [ 3.31337094e-01],\n",
              "       [-8.44188273e-01],\n",
              "       [-7.19711557e-02],\n",
              "       [-1.52770519e-01],\n",
              "       [-1.68938327e+00],\n",
              "       [-1.55667114e+00],\n",
              "       [ 1.05355106e-01],\n",
              "       [-1.31697071e+00],\n",
              "       [-8.11094880e-01],\n",
              "       [-1.73704708e+00],\n",
              "       [-2.54762650e+00],\n",
              "       [ 7.42219314e-02],\n",
              "       [-2.15641767e-01],\n",
              "       [-1.40046120e+00],\n",
              "       [-3.55515182e-02],\n",
              "       [-5.63726425e-01],\n",
              "       [-1.92135727e+00],\n",
              "       [-1.32300866e+00],\n",
              "       [-9.39144313e-01],\n",
              "       [-7.45968759e-01],\n",
              "       [-1.79725754e+00],\n",
              "       [-2.12715730e-01],\n",
              "       [-1.10063791e+00],\n",
              "       [ 5.59893191e-01],\n",
              "       [ 1.53704658e-02],\n",
              "       [-1.39731562e+00],\n",
              "       [-1.04863858e+00],\n",
              "       [-6.71287358e-01],\n",
              "       [-1.54537511e+00],\n",
              "       [-2.26151538e+00],\n",
              "       [-1.65292740e+00],\n",
              "       [ 5.77827170e-02],\n",
              "       [-1.37845838e+00],\n",
              "       [-1.41957617e+00],\n",
              "       [-1.10552764e+00],\n",
              "       [-1.15846121e+00],\n",
              "       [-5.60656130e-01],\n",
              "       [ 1.39925420e-01],\n",
              "       [-2.00246543e-01],\n",
              "       [-2.12642384e+00],\n",
              "       [-1.83131665e-01],\n",
              "       [-9.18569863e-01],\n",
              "       [ 2.88707614e-01],\n",
              "       [ 5.37806869e-01],\n",
              "       [ 1.59198269e-02],\n",
              "       [ 1.41489059e-01],\n",
              "       [-1.58104146e+00],\n",
              "       [ 1.42919421e-01],\n",
              "       [-1.93342292e+00],\n",
              "       [-9.48793352e-01],\n",
              "       [-9.09235954e-01],\n",
              "       [-9.05563235e-01],\n",
              "       [-1.98630250e+00]], dtype=float32)"
            ]
          },
          "metadata": {},
          "execution_count": 43
        }
      ]
    },
    {
      "cell_type": "code",
      "metadata": {
        "colab": {
          "base_uri": "https://localhost:8080/"
        },
        "id": "OtCS7j0MoSYh",
        "outputId": "27e9336e-9545-4e1f-8936-cc727fe026a1"
      },
      "source": [
        "len(y_test['logits'])"
      ],
      "execution_count": 44,
      "outputs": [
        {
          "output_type": "execute_result",
          "data": {
            "text/plain": [
              "567"
            ]
          },
          "metadata": {},
          "execution_count": 44
        }
      ]
    },
    {
      "cell_type": "code",
      "metadata": {
        "colab": {
          "base_uri": "https://localhost:8080/"
        },
        "id": "nTrN_vvNopPj",
        "outputId": "b298ddf5-9c21-4e25-8cd8-f6ff89cf8fdb"
      },
      "source": [
        "y"
      ],
      "execution_count": 45,
      "outputs": [
        {
          "output_type": "execute_result",
          "data": {
            "text/plain": [
              "array([[-1.29256968],\n",
              "       [-0.55614372],\n",
              "       [-1.02187721],\n",
              "       ...,\n",
              "       [-1.96313605],\n",
              "       [-1.48837258],\n",
              "       [-0.71400876]])"
            ]
          },
          "metadata": {},
          "execution_count": 45
        }
      ]
    },
    {
      "cell_type": "code",
      "metadata": {
        "id": "7ChcVGFrn_-T"
      },
      "source": [
        "from sklearn.metrics import mean_squared_error"
      ],
      "execution_count": 46,
      "outputs": []
    },
    {
      "cell_type": "code",
      "metadata": {
        "colab": {
          "base_uri": "https://localhost:8080/"
        },
        "id": "jthJXC06tWVn",
        "outputId": "bc1e45f1-811d-4f13-b20e-4502b65b66a8"
      },
      "source": [
        "y_test['logits']"
      ],
      "execution_count": 47,
      "outputs": [
        {
          "output_type": "execute_result",
          "data": {
            "text/plain": [
              "array([[-6.32164598e-01],\n",
              "       [-1.18582630e+00],\n",
              "       [ 5.45555890e-01],\n",
              "       [-1.30183363e+00],\n",
              "       [-1.94119847e+00],\n",
              "       [ 2.98473388e-02],\n",
              "       [-1.13152958e-01],\n",
              "       [-1.09126151e+00],\n",
              "       [ 3.61493453e-02],\n",
              "       [ 1.00162864e-01],\n",
              "       [-1.48343289e+00],\n",
              "       [-7.25022331e-02],\n",
              "       [-2.62513256e+00],\n",
              "       [-1.42053649e-01],\n",
              "       [-1.90116191e+00],\n",
              "       [-2.71405801e-02],\n",
              "       [ 3.97172511e-01],\n",
              "       [-2.06976843e+00],\n",
              "       [-7.28727400e-01],\n",
              "       [-9.74816084e-03],\n",
              "       [ 5.11360288e-01],\n",
              "       [-2.14378977e+00],\n",
              "       [-1.19004428e+00],\n",
              "       [ 2.52393842e-01],\n",
              "       [-1.64878106e+00],\n",
              "       [-1.33929360e+00],\n",
              "       [ 5.22984028e-01],\n",
              "       [-1.83232629e+00],\n",
              "       [-1.87531936e+00],\n",
              "       [-1.21446979e+00],\n",
              "       [ 5.34920871e-01],\n",
              "       [-8.89423430e-01],\n",
              "       [-1.38308775e+00],\n",
              "       [-2.28972840e+00],\n",
              "       [-1.29247904e+00],\n",
              "       [-7.68681228e-01],\n",
              "       [ 5.35912752e-01],\n",
              "       [-4.70349550e-01],\n",
              "       [-1.93928540e+00],\n",
              "       [-8.13871324e-01],\n",
              "       [ 3.80287051e-01],\n",
              "       [-5.80674171e-01],\n",
              "       [ 1.12839632e-01],\n",
              "       [-1.38179690e-01],\n",
              "       [-1.42140955e-01],\n",
              "       [-8.88338149e-01],\n",
              "       [-1.05060470e+00],\n",
              "       [-1.06302786e+00],\n",
              "       [-1.38714826e+00],\n",
              "       [-4.60439995e-02],\n",
              "       [-1.36584079e+00],\n",
              "       [ 5.38891017e-01],\n",
              "       [ 6.73236744e-03],\n",
              "       [ 2.97369242e-01],\n",
              "       [-2.64030862e+00],\n",
              "       [-9.84428346e-01],\n",
              "       [-3.27177227e-01],\n",
              "       [ 3.06074500e-01],\n",
              "       [-1.30839682e+00],\n",
              "       [-5.05333126e-01],\n",
              "       [-1.90575838e-01],\n",
              "       [-3.59218493e-02],\n",
              "       [-4.33064774e-02],\n",
              "       [ 5.34434855e-01],\n",
              "       [ 6.05173707e-02],\n",
              "       [-7.49281168e-01],\n",
              "       [ 4.98829067e-01],\n",
              "       [-8.15868318e-01],\n",
              "       [ 1.55543566e-01],\n",
              "       [-9.35234785e-01],\n",
              "       [-1.67294490e+00],\n",
              "       [-1.24498272e+00],\n",
              "       [-1.33732513e-01],\n",
              "       [ 1.19046293e-01],\n",
              "       [-5.56797609e-02],\n",
              "       [ 1.19095922e-01],\n",
              "       [ 2.03723460e-02],\n",
              "       [ 7.80275837e-02],\n",
              "       [-5.91260314e-01],\n",
              "       [-2.13551708e-02],\n",
              "       [-2.79250085e-01],\n",
              "       [-3.99919480e-01],\n",
              "       [-2.11991787e+00],\n",
              "       [ 6.65379539e-02],\n",
              "       [-9.70871150e-01],\n",
              "       [-3.66239905e-01],\n",
              "       [ 3.57095078e-02],\n",
              "       [-7.77424812e-01],\n",
              "       [ 5.44500411e-01],\n",
              "       [-2.75472909e-01],\n",
              "       [ 1.99392915e-01],\n",
              "       [ 2.29485691e-01],\n",
              "       [-1.38964939e+00],\n",
              "       [-9.58225667e-01],\n",
              "       [-1.90583742e+00],\n",
              "       [-8.02317202e-01],\n",
              "       [-1.12150025e+00],\n",
              "       [-1.18293941e-01],\n",
              "       [-2.95494497e-01],\n",
              "       [ 5.21973550e-01],\n",
              "       [ 3.50693703e-01],\n",
              "       [-3.22993129e-01],\n",
              "       [ 4.19214785e-01],\n",
              "       [-1.70627940e+00],\n",
              "       [-9.33044702e-02],\n",
              "       [-4.95793521e-01],\n",
              "       [ 5.51772833e-01],\n",
              "       [-1.88345090e-01],\n",
              "       [-1.50416970e+00],\n",
              "       [ 3.06931555e-01],\n",
              "       [-1.13344967e+00],\n",
              "       [-2.09666109e+00],\n",
              "       [-2.33787417e+00],\n",
              "       [-1.90234327e+00],\n",
              "       [ 3.36884856e-01],\n",
              "       [ 1.47606120e-01],\n",
              "       [ 5.36087096e-01],\n",
              "       [-6.38025820e-01],\n",
              "       [-1.93085659e+00],\n",
              "       [-7.69763291e-01],\n",
              "       [ 5.40518463e-01],\n",
              "       [-1.91871077e-02],\n",
              "       [ 2.80590385e-01],\n",
              "       [ 3.87094617e-01],\n",
              "       [-7.64362276e-01],\n",
              "       [-1.78891075e+00],\n",
              "       [ 3.18242237e-02],\n",
              "       [-8.23031485e-01],\n",
              "       [-1.70415866e+00],\n",
              "       [ 1.76097840e-01],\n",
              "       [-1.42013061e+00],\n",
              "       [ 2.24632144e-01],\n",
              "       [-1.66028833e+00],\n",
              "       [ 5.41952550e-01],\n",
              "       [-1.83900571e+00],\n",
              "       [-2.28882074e-01],\n",
              "       [-1.63954645e-01],\n",
              "       [ 1.03014745e-01],\n",
              "       [ 7.15383068e-02],\n",
              "       [ 1.12907812e-02],\n",
              "       [-3.94339174e-01],\n",
              "       [ 3.73188742e-02],\n",
              "       [ 5.27180552e-01],\n",
              "       [-4.20036167e-01],\n",
              "       [-8.97544086e-01],\n",
              "       [ 5.52808285e-01],\n",
              "       [ 1.22609071e-01],\n",
              "       [-2.45125937e+00],\n",
              "       [-1.98164076e-01],\n",
              "       [-2.03101826e+00],\n",
              "       [ 5.39723217e-01],\n",
              "       [-1.08185184e+00],\n",
              "       [-1.43305659e+00],\n",
              "       [-4.45418239e-01],\n",
              "       [-8.22133362e-01],\n",
              "       [-7.17965290e-02],\n",
              "       [-1.33484328e+00],\n",
              "       [-1.07073116e+00],\n",
              "       [-1.34624207e+00],\n",
              "       [-9.27889466e-01],\n",
              "       [ 5.31297743e-01],\n",
              "       [-3.48441541e-01],\n",
              "       [-2.05601543e-01],\n",
              "       [-3.55768353e-01],\n",
              "       [-2.70165384e-01],\n",
              "       [-3.60204995e-01],\n",
              "       [-3.88706982e-01],\n",
              "       [-7.50889957e-01],\n",
              "       [ 5.29111207e-01],\n",
              "       [ 2.57087648e-01],\n",
              "       [-6.84728205e-01],\n",
              "       [ 5.28447151e-01],\n",
              "       [-9.70584750e-01],\n",
              "       [-4.36028063e-01],\n",
              "       [-1.37087905e+00],\n",
              "       [-4.21384051e-02],\n",
              "       [ 2.89642096e-01],\n",
              "       [ 4.36017424e-01],\n",
              "       [-1.71080422e+00],\n",
              "       [-3.83556277e-01],\n",
              "       [-6.97746396e-01],\n",
              "       [-1.00704277e+00],\n",
              "       [-7.85578310e-01],\n",
              "       [-2.77171850e-01],\n",
              "       [ 1.60060674e-02],\n",
              "       [ 2.47970849e-01],\n",
              "       [ 9.70191434e-02],\n",
              "       [ 3.30860555e-01],\n",
              "       [-9.78709638e-01],\n",
              "       [-1.39580297e+00],\n",
              "       [-1.38839394e-01],\n",
              "       [ 8.03670660e-02],\n",
              "       [-4.09442276e-01],\n",
              "       [ 3.60986948e-01],\n",
              "       [-6.76745534e-01],\n",
              "       [-1.95728028e+00],\n",
              "       [ 1.79045573e-02],\n",
              "       [-1.64210856e+00],\n",
              "       [-1.67491007e+00],\n",
              "       [-2.28569210e-01],\n",
              "       [-1.59230816e+00],\n",
              "       [-1.54863966e+00],\n",
              "       [-1.15951264e+00],\n",
              "       [-8.06722701e-01],\n",
              "       [-2.52213049e+00],\n",
              "       [-6.85222328e-01],\n",
              "       [-1.28192174e+00],\n",
              "       [-8.44514787e-01],\n",
              "       [ 2.80217171e-01],\n",
              "       [-1.06903851e+00],\n",
              "       [-1.21955359e+00],\n",
              "       [ 2.83722609e-01],\n",
              "       [ 3.79885912e-01],\n",
              "       [ 3.06216896e-01],\n",
              "       [ 5.41314423e-01],\n",
              "       [-1.52677274e+00],\n",
              "       [-8.96986127e-02],\n",
              "       [ 1.32998824e-02],\n",
              "       [ 5.69006503e-01],\n",
              "       [ 5.32246411e-01],\n",
              "       [-9.60238278e-01],\n",
              "       [-1.52492917e+00],\n",
              "       [-2.48185563e+00],\n",
              "       [ 3.11093211e-01],\n",
              "       [ 3.24708790e-01],\n",
              "       [-1.47355831e+00],\n",
              "       [-2.65643930e+00],\n",
              "       [ 2.97344267e-01],\n",
              "       [-1.93135530e-01],\n",
              "       [-1.20923549e-01],\n",
              "       [-1.79909682e+00],\n",
              "       [-5.06521523e-01],\n",
              "       [-8.38861823e-01],\n",
              "       [-9.34817255e-01],\n",
              "       [-7.82516599e-01],\n",
              "       [ 2.77108073e-01],\n",
              "       [-2.03713179e+00],\n",
              "       [-2.75839543e+00],\n",
              "       [-1.99128139e+00],\n",
              "       [ 2.50173926e-01],\n",
              "       [-9.84852493e-01],\n",
              "       [-1.09237325e+00],\n",
              "       [-1.49151528e+00],\n",
              "       [-8.86327267e-01],\n",
              "       [-1.52680981e+00],\n",
              "       [-1.12939191e+00],\n",
              "       [-1.49345130e-01],\n",
              "       [-6.85031593e-01],\n",
              "       [-2.80045414e+00],\n",
              "       [ 2.62328908e-02],\n",
              "       [-8.94839466e-01],\n",
              "       [-8.58306587e-01],\n",
              "       [ 5.20162642e-01],\n",
              "       [-1.04572904e+00],\n",
              "       [ 4.55450326e-01],\n",
              "       [ 5.28850138e-01],\n",
              "       [-1.53705966e+00],\n",
              "       [-4.02664423e-01],\n",
              "       [ 5.66441238e-01],\n",
              "       [ 3.34963113e-01],\n",
              "       [-1.43139517e+00],\n",
              "       [ 9.02479142e-03],\n",
              "       [-9.99618053e-01],\n",
              "       [-1.17285633e+00],\n",
              "       [-1.36510611e+00],\n",
              "       [-5.31776845e-01],\n",
              "       [-1.69041538e+00],\n",
              "       [ 3.86253372e-02],\n",
              "       [-2.97160089e-01],\n",
              "       [ 1.42042711e-02],\n",
              "       [-1.58859408e+00],\n",
              "       [-1.84974301e+00],\n",
              "       [-1.22848535e+00],\n",
              "       [-1.40544549e-01],\n",
              "       [-1.30363500e+00],\n",
              "       [ 5.30218959e-01],\n",
              "       [-5.61902896e-02],\n",
              "       [ 2.92988807e-01],\n",
              "       [ 5.45481265e-01],\n",
              "       [-1.30225456e+00],\n",
              "       [-1.62255251e+00],\n",
              "       [-5.36643684e-01],\n",
              "       [ 1.90088153e-01],\n",
              "       [-1.22880113e+00],\n",
              "       [ 5.12233377e-01],\n",
              "       [-1.33827078e+00],\n",
              "       [ 2.10664853e-01],\n",
              "       [-7.47720897e-01],\n",
              "       [ 5.20544529e-01],\n",
              "       [-2.01707816e+00],\n",
              "       [-3.57413664e-02],\n",
              "       [-1.10301244e+00],\n",
              "       [ 5.32641053e-01],\n",
              "       [-3.26225996e-01],\n",
              "       [-7.91359782e-01],\n",
              "       [-1.61127484e+00],\n",
              "       [-1.31704843e+00],\n",
              "       [-7.06161737e-01],\n",
              "       [-3.37995827e-01],\n",
              "       [ 5.33871531e-01],\n",
              "       [-1.24211681e+00],\n",
              "       [-1.49764633e+00],\n",
              "       [-2.07336378e+00],\n",
              "       [-1.00513566e+00],\n",
              "       [ 3.71542633e-01],\n",
              "       [-3.12312436e+00],\n",
              "       [-1.76320696e+00],\n",
              "       [-5.95567673e-02],\n",
              "       [ 4.34026808e-01],\n",
              "       [-6.84862673e-01],\n",
              "       [-2.64147902e+00],\n",
              "       [-2.62670231e+00],\n",
              "       [-1.93750894e+00],\n",
              "       [-2.41223693e+00],\n",
              "       [ 4.51325923e-01],\n",
              "       [-1.73402011e+00],\n",
              "       [-3.27461153e-01],\n",
              "       [-1.27571952e+00],\n",
              "       [ 1.97240785e-01],\n",
              "       [ 1.56796008e-01],\n",
              "       [-3.83528262e-01],\n",
              "       [ 5.54682851e-01],\n",
              "       [-8.52469385e-01],\n",
              "       [-1.09406993e-01],\n",
              "       [-7.46232450e-01],\n",
              "       [ 3.47579420e-01],\n",
              "       [ 5.37103057e-01],\n",
              "       [-5.79000235e-01],\n",
              "       [-1.39950120e+00],\n",
              "       [ 4.13694859e-01],\n",
              "       [-1.58126071e-01],\n",
              "       [-1.33940980e-01],\n",
              "       [-1.14026225e+00],\n",
              "       [-1.09468736e-01],\n",
              "       [-1.17136371e+00],\n",
              "       [-8.90753686e-01],\n",
              "       [-7.32438965e-03],\n",
              "       [-9.97331560e-01],\n",
              "       [ 4.62487280e-01],\n",
              "       [-1.55508727e-01],\n",
              "       [ 5.44879973e-01],\n",
              "       [-1.93591702e+00],\n",
              "       [-1.72530425e+00],\n",
              "       [ 3.20465207e-01],\n",
              "       [ 1.94720283e-01],\n",
              "       [ 3.37484002e-01],\n",
              "       [-1.92864382e+00],\n",
              "       [ 5.29853642e-01],\n",
              "       [-4.69142273e-02],\n",
              "       [-1.15523493e+00],\n",
              "       [-9.97791469e-01],\n",
              "       [-8.87801468e-01],\n",
              "       [ 1.25360370e-01],\n",
              "       [-1.45968902e+00],\n",
              "       [-4.46884423e-01],\n",
              "       [-2.58255839e+00],\n",
              "       [ 2.31391564e-01],\n",
              "       [-1.24357355e+00],\n",
              "       [-1.53629005e+00],\n",
              "       [-1.43339324e+00],\n",
              "       [ 2.78656363e-01],\n",
              "       [-1.81608152e+00],\n",
              "       [-1.59697711e+00],\n",
              "       [-9.03597176e-01],\n",
              "       [-9.05974567e-01],\n",
              "       [-1.09331310e+00],\n",
              "       [-1.75400698e+00],\n",
              "       [-5.06411612e-01],\n",
              "       [ 1.30143210e-01],\n",
              "       [-7.13876307e-01],\n",
              "       [-1.31766045e+00],\n",
              "       [-6.73195899e-01],\n",
              "       [-1.24154603e+00],\n",
              "       [-5.12847185e-01],\n",
              "       [-6.31874204e-01],\n",
              "       [-7.81051934e-01],\n",
              "       [-1.43306160e+00],\n",
              "       [-2.60042834e+00],\n",
              "       [-2.10955679e-01],\n",
              "       [-3.71731222e-01],\n",
              "       [-1.78610206e+00],\n",
              "       [ 2.99044549e-01],\n",
              "       [ 8.17179158e-02],\n",
              "       [-1.56648886e+00],\n",
              "       [-1.20099664e+00],\n",
              "       [-2.39041829e+00],\n",
              "       [-1.62258380e-04],\n",
              "       [-8.50339472e-01],\n",
              "       [-1.05124429e-01],\n",
              "       [ 5.04167557e-01],\n",
              "       [-2.77802730e+00],\n",
              "       [-3.49127561e-01],\n",
              "       [ 4.30471376e-02],\n",
              "       [-1.12292290e+00],\n",
              "       [-2.50574160e+00],\n",
              "       [-2.28137040e+00],\n",
              "       [ 1.25005916e-01],\n",
              "       [ 6.66956231e-02],\n",
              "       [-8.04927573e-02],\n",
              "       [-1.97327286e-02],\n",
              "       [ 5.45339227e-01],\n",
              "       [-4.93427515e-02],\n",
              "       [-1.37875867e+00],\n",
              "       [ 2.32989550e-01],\n",
              "       [ 3.44167769e-01],\n",
              "       [ 3.35728079e-01],\n",
              "       [-9.46478844e-01],\n",
              "       [ 4.73141044e-01],\n",
              "       [ 2.92733312e-01],\n",
              "       [-1.11428678e+00],\n",
              "       [-8.20909023e-01],\n",
              "       [ 1.18117802e-01],\n",
              "       [-2.16885233e+00],\n",
              "       [-9.62481380e-01],\n",
              "       [ 2.93667495e-01],\n",
              "       [-1.83195806e+00],\n",
              "       [-8.43871683e-02],\n",
              "       [-1.66316724e+00],\n",
              "       [ 5.31807721e-01],\n",
              "       [ 3.17483038e-01],\n",
              "       [-3.64238722e-03],\n",
              "       [-1.32740960e-02],\n",
              "       [-1.88891625e+00],\n",
              "       [-8.72119009e-01],\n",
              "       [ 9.11669210e-02],\n",
              "       [-3.10143518e+00],\n",
              "       [-2.47032833e+00],\n",
              "       [ 3.43898892e-01],\n",
              "       [-1.60284713e-01],\n",
              "       [-7.48003960e-01],\n",
              "       [ 1.41327605e-01],\n",
              "       [ 3.38598281e-01],\n",
              "       [-8.50162804e-01],\n",
              "       [-9.10012484e-01],\n",
              "       [-1.94458354e+00],\n",
              "       [-1.13382988e-01],\n",
              "       [-1.82020888e-02],\n",
              "       [ 4.56379205e-01],\n",
              "       [-1.34555960e+00],\n",
              "       [-1.44214559e+00],\n",
              "       [-1.26485914e-01],\n",
              "       [-1.16798401e+00],\n",
              "       [-6.55506551e-01],\n",
              "       [-1.27602291e+00],\n",
              "       [-2.64988446e+00],\n",
              "       [-2.10410404e+00],\n",
              "       [-1.81886399e+00],\n",
              "       [ 1.96733251e-01],\n",
              "       [ 4.85145986e-01],\n",
              "       [-1.32709730e+00],\n",
              "       [-5.79428017e-01],\n",
              "       [-1.90593708e+00],\n",
              "       [ 5.12858212e-01],\n",
              "       [ 1.39883533e-02],\n",
              "       [ 5.41894853e-01],\n",
              "       [-2.54837728e+00],\n",
              "       [-1.49982798e+00],\n",
              "       [-9.00555313e-01],\n",
              "       [-9.99041200e-01],\n",
              "       [ 5.34772694e-01],\n",
              "       [-1.07839966e+00],\n",
              "       [ 3.16375643e-02],\n",
              "       [-1.36890125e+00],\n",
              "       [-2.24566364e+00],\n",
              "       [ 2.03179300e-01],\n",
              "       [-6.70173824e-01],\n",
              "       [-4.48831618e-02],\n",
              "       [ 5.14998436e-01],\n",
              "       [-1.77429426e+00],\n",
              "       [ 5.50488651e-01],\n",
              "       [-1.01621354e+00],\n",
              "       [-1.83666956e+00],\n",
              "       [ 2.24025249e-01],\n",
              "       [-1.61764562e+00],\n",
              "       [-7.45948493e-01],\n",
              "       [-1.38902223e+00],\n",
              "       [-7.54606783e-01],\n",
              "       [-3.91674787e-01],\n",
              "       [ 1.92909122e-01],\n",
              "       [-9.88563955e-01],\n",
              "       [-1.27626443e+00],\n",
              "       [-1.08281839e+00],\n",
              "       [-1.44895971e+00],\n",
              "       [ 2.17332259e-01],\n",
              "       [-2.48571157e+00],\n",
              "       [ 2.90597379e-01],\n",
              "       [ 1.19522281e-01],\n",
              "       [-2.67103642e-01],\n",
              "       [-9.75895286e-01],\n",
              "       [-3.64970714e-01],\n",
              "       [-2.24481010e+00],\n",
              "       [-1.46062446e+00],\n",
              "       [-1.43117988e+00],\n",
              "       [ 1.41800985e-01],\n",
              "       [-2.72225833e+00],\n",
              "       [ 1.26099676e-01],\n",
              "       [-1.25679386e+00],\n",
              "       [-3.02992342e-03],\n",
              "       [ 4.64451551e-01],\n",
              "       [-1.38505268e+00],\n",
              "       [ 5.31748712e-01],\n",
              "       [-8.69760215e-01],\n",
              "       [ 4.94140238e-01],\n",
              "       [ 5.09289563e-01],\n",
              "       [-1.09870958e+00],\n",
              "       [ 5.50353765e-01],\n",
              "       [-3.86942863e-01],\n",
              "       [ 4.22049314e-01],\n",
              "       [-1.52378333e+00],\n",
              "       [ 1.04229979e-01],\n",
              "       [-9.98437107e-01],\n",
              "       [ 6.89482614e-02],\n",
              "       [-2.49353933e+00],\n",
              "       [-2.53971964e-01],\n",
              "       [ 3.31337094e-01],\n",
              "       [-8.44188273e-01],\n",
              "       [-7.19711557e-02],\n",
              "       [-1.52770519e-01],\n",
              "       [-1.68938327e+00],\n",
              "       [-1.55667114e+00],\n",
              "       [ 1.05355106e-01],\n",
              "       [-1.31697071e+00],\n",
              "       [-8.11094880e-01],\n",
              "       [-1.73704708e+00],\n",
              "       [-2.54762650e+00],\n",
              "       [ 7.42219314e-02],\n",
              "       [-2.15641767e-01],\n",
              "       [-1.40046120e+00],\n",
              "       [-3.55515182e-02],\n",
              "       [-5.63726425e-01],\n",
              "       [-1.92135727e+00],\n",
              "       [-1.32300866e+00],\n",
              "       [-9.39144313e-01],\n",
              "       [-7.45968759e-01],\n",
              "       [-1.79725754e+00],\n",
              "       [-2.12715730e-01],\n",
              "       [-1.10063791e+00],\n",
              "       [ 5.59893191e-01],\n",
              "       [ 1.53704658e-02],\n",
              "       [-1.39731562e+00],\n",
              "       [-1.04863858e+00],\n",
              "       [-6.71287358e-01],\n",
              "       [-1.54537511e+00],\n",
              "       [-2.26151538e+00],\n",
              "       [-1.65292740e+00],\n",
              "       [ 5.77827170e-02],\n",
              "       [-1.37845838e+00],\n",
              "       [-1.41957617e+00],\n",
              "       [-1.10552764e+00],\n",
              "       [-1.15846121e+00],\n",
              "       [-5.60656130e-01],\n",
              "       [ 1.39925420e-01],\n",
              "       [-2.00246543e-01],\n",
              "       [-2.12642384e+00],\n",
              "       [-1.83131665e-01],\n",
              "       [-9.18569863e-01],\n",
              "       [ 2.88707614e-01],\n",
              "       [ 5.37806869e-01],\n",
              "       [ 1.59198269e-02],\n",
              "       [ 1.41489059e-01],\n",
              "       [-1.58104146e+00],\n",
              "       [ 1.42919421e-01],\n",
              "       [-1.93342292e+00],\n",
              "       [-9.48793352e-01],\n",
              "       [-9.09235954e-01],\n",
              "       [-9.05563235e-01],\n",
              "       [-1.98630250e+00]], dtype=float32)"
            ]
          },
          "metadata": {},
          "execution_count": 47
        }
      ]
    },
    {
      "cell_type": "code",
      "metadata": {
        "colab": {
          "base_uri": "https://localhost:8080/",
          "height": 423
        },
        "id": "CmkXFOG_5eri",
        "outputId": "69792c50-f811-4609-cd06-3a255921aa4c"
      },
      "source": [
        "dfpreds = pd.DataFrame(y_test['logits'], columns=['bertpred'])\n",
        "dfpreds"
      ],
      "execution_count": 48,
      "outputs": [
        {
          "output_type": "execute_result",
          "data": {
            "text/html": [
              "<div>\n",
              "<style scoped>\n",
              "    .dataframe tbody tr th:only-of-type {\n",
              "        vertical-align: middle;\n",
              "    }\n",
              "\n",
              "    .dataframe tbody tr th {\n",
              "        vertical-align: top;\n",
              "    }\n",
              "\n",
              "    .dataframe thead th {\n",
              "        text-align: right;\n",
              "    }\n",
              "</style>\n",
              "<table border=\"1\" class=\"dataframe\">\n",
              "  <thead>\n",
              "    <tr style=\"text-align: right;\">\n",
              "      <th></th>\n",
              "      <th>bertpred</th>\n",
              "    </tr>\n",
              "  </thead>\n",
              "  <tbody>\n",
              "    <tr>\n",
              "      <th>0</th>\n",
              "      <td>-0.632165</td>\n",
              "    </tr>\n",
              "    <tr>\n",
              "      <th>1</th>\n",
              "      <td>-1.185826</td>\n",
              "    </tr>\n",
              "    <tr>\n",
              "      <th>2</th>\n",
              "      <td>0.545556</td>\n",
              "    </tr>\n",
              "    <tr>\n",
              "      <th>3</th>\n",
              "      <td>-1.301834</td>\n",
              "    </tr>\n",
              "    <tr>\n",
              "      <th>4</th>\n",
              "      <td>-1.941198</td>\n",
              "    </tr>\n",
              "    <tr>\n",
              "      <th>...</th>\n",
              "      <td>...</td>\n",
              "    </tr>\n",
              "    <tr>\n",
              "      <th>562</th>\n",
              "      <td>-1.933423</td>\n",
              "    </tr>\n",
              "    <tr>\n",
              "      <th>563</th>\n",
              "      <td>-0.948793</td>\n",
              "    </tr>\n",
              "    <tr>\n",
              "      <th>564</th>\n",
              "      <td>-0.909236</td>\n",
              "    </tr>\n",
              "    <tr>\n",
              "      <th>565</th>\n",
              "      <td>-0.905563</td>\n",
              "    </tr>\n",
              "    <tr>\n",
              "      <th>566</th>\n",
              "      <td>-1.986302</td>\n",
              "    </tr>\n",
              "  </tbody>\n",
              "</table>\n",
              "<p>567 rows × 1 columns</p>\n",
              "</div>"
            ],
            "text/plain": [
              "     bertpred\n",
              "0   -0.632165\n",
              "1   -1.185826\n",
              "2    0.545556\n",
              "3   -1.301834\n",
              "4   -1.941198\n",
              "..        ...\n",
              "562 -1.933423\n",
              "563 -0.948793\n",
              "564 -0.909236\n",
              "565 -0.905563\n",
              "566 -1.986302\n",
              "\n",
              "[567 rows x 1 columns]"
            ]
          },
          "metadata": {},
          "execution_count": 48
        }
      ]
    },
    {
      "cell_type": "code",
      "metadata": {
        "colab": {
          "base_uri": "https://localhost:8080/"
        },
        "id": "CgsGBwwjwpLm",
        "outputId": "59893e4b-6aec-4af7-c817-fc9cd71c17d8"
      },
      "source": [
        "#rmse of average of bert and rf\n",
        "from math import sqrt\n",
        "sqrt(mean_squared_error(test['target'], y_test['logits']))"
      ],
      "execution_count": 49,
      "outputs": [
        {
          "output_type": "execute_result",
          "data": {
            "text/plain": [
              "0.6021140215700418"
            ]
          },
          "metadata": {},
          "execution_count": 49
        }
      ]
    },
    {
      "cell_type": "markdown",
      "metadata": {
        "id": "p_LWs2TslOK5"
      },
      "source": [
        "## Simple numeric model using sklearn on traditional scoring metrics"
      ]
    },
    {
      "cell_type": "code",
      "metadata": {
        "id": "bb3JlIR524sV",
        "colab": {
          "base_uri": "https://localhost:8080/",
          "height": 234
        },
        "outputId": "4f6aae64-d127-4892-ed01-5a772b9f7151"
      },
      "source": [
        "from sklearn.model_selection import train_test_split, RandomizedSearchCV, KFold, cross_val_score\n",
        "X = df[['fkscore', 'dcscore', 'gfscore',\n",
        "       'clscore', 'ariscore', 'lexicaldiversity']].copy()\n",
        "y = df.target\n",
        "\n",
        "\n",
        "# We split the data but use the stratify option to ensure a \n",
        "# balanced split of the outcome \"y\" across the test and train data sets\n",
        "X_train, X_test, y_train, y_test = train_test_split(X, y, test_size=0.20, random_state=10)"
      ],
      "execution_count": 1,
      "outputs": [
        {
          "output_type": "error",
          "ename": "NameError",
          "evalue": "ignored",
          "traceback": [
            "\u001b[0;31m---------------------------------------------------------------------------\u001b[0m",
            "\u001b[0;31mNameError\u001b[0m                                 Traceback (most recent call last)",
            "\u001b[0;32m<ipython-input-1-e7bf18d50609>\u001b[0m in \u001b[0;36m<module>\u001b[0;34m()\u001b[0m\n\u001b[1;32m      1\u001b[0m \u001b[0;32mfrom\u001b[0m \u001b[0msklearn\u001b[0m\u001b[0;34m.\u001b[0m\u001b[0mmodel_selection\u001b[0m \u001b[0;32mimport\u001b[0m \u001b[0mtrain_test_split\u001b[0m\u001b[0;34m,\u001b[0m \u001b[0mRandomizedSearchCV\u001b[0m\u001b[0;34m,\u001b[0m \u001b[0mKFold\u001b[0m\u001b[0;34m,\u001b[0m \u001b[0mcross_val_score\u001b[0m\u001b[0;34m\u001b[0m\u001b[0;34m\u001b[0m\u001b[0m\n\u001b[0;32m----> 2\u001b[0;31m X = df[['fkscore', 'dcscore', 'gfscore',\n\u001b[0m\u001b[1;32m      3\u001b[0m        'clscore', 'ariscore', 'lexicaldiversity']].copy()\n\u001b[1;32m      4\u001b[0m \u001b[0my\u001b[0m \u001b[0;34m=\u001b[0m \u001b[0mdf\u001b[0m\u001b[0;34m.\u001b[0m\u001b[0mtarget\u001b[0m\u001b[0;34m\u001b[0m\u001b[0;34m\u001b[0m\u001b[0m\n\u001b[1;32m      5\u001b[0m \u001b[0;34m\u001b[0m\u001b[0m\n",
            "\u001b[0;31mNameError\u001b[0m: name 'df' is not defined"
          ]
        }
      ]
    },
    {
      "cell_type": "code",
      "metadata": {
        "id": "-m1sNuYOvAfc"
      },
      "source": [
        "#setup scaler\n",
        "from sklearn import preprocessing\n",
        "scaler = preprocessing.StandardScaler()"
      ],
      "execution_count": 51,
      "outputs": []
    },
    {
      "cell_type": "code",
      "metadata": {
        "id": "7Z3bfhHf8GCI"
      },
      "source": [
        "import sklearn.metrics as metrics\n",
        "#sorted(metrics.SCORERS.keys())"
      ],
      "execution_count": 52,
      "outputs": []
    },
    {
      "cell_type": "code",
      "metadata": {
        "colab": {
          "base_uri": "https://localhost:8080/"
        },
        "id": "7xZMgWsXkxxJ",
        "outputId": "a143ff4d-6a03-4e01-852f-210438da04ef"
      },
      "source": [
        "# Establish the default parameters for the models to be used below\n",
        "rand_state = 101\n",
        "n_iterations = 5\n",
        "\n",
        "# Establish the cross validation parameters to be used in the models\n",
        "cv = KFold(n_splits=n_iterations, random_state=rand_state)\n",
        "\n",
        "#Create a Linear Regression object and perform a grid search to find the best parameters\n",
        "from sklearn.ensemble import RandomForestRegressor\n",
        "\n",
        "linreg = RandomForestRegressor()\n",
        "parameters = { 'min_samples_split':[2,3,4,5]\n",
        "              ,'n_estimators' : [500]\n",
        "              ,'min_samples_leaf': [10, 25, 50]\n",
        "              ,'criterion': ['mae']\n",
        "              ,'n_jobs':[8] \n",
        "              ,'random_state': [0]\n",
        "             }\n",
        "\n",
        "#Create a grid search object using the  \n",
        "from sklearn.model_selection import GridSearchCV\n",
        "regGridSearch = GridSearchCV(estimator=linreg\n",
        "                   , n_jobs=8 \n",
        "                   , verbose=1 # low verbosity\n",
        "                   , param_grid=parameters\n",
        "                   , cv=cv # KFolds = 10\n",
        "                   , scoring= 'neg_mean_squared_error')\n",
        "\n",
        "\n",
        "#Perform hyperparameter search to find the best combination of parameters for our data\n",
        "regGridSearch.fit(scaler.fit_transform(X_train), y_train)"
      ],
      "execution_count": 53,
      "outputs": [
        {
          "output_type": "stream",
          "name": "stdout",
          "text": [
            "Fitting 5 folds for each of 12 candidates, totalling 60 fits\n"
          ]
        },
        {
          "output_type": "stream",
          "name": "stderr",
          "text": [
            "/usr/local/lib/python3.7/dist-packages/sklearn/model_selection/_split.py:296: FutureWarning: Setting a random_state has no effect since shuffle is False. This will raise an error in 0.24. You should leave random_state to its default (None), or set shuffle=True.\n",
            "  FutureWarning\n",
            "[Parallel(n_jobs=8)]: Using backend LokyBackend with 8 concurrent workers.\n",
            "[Parallel(n_jobs=8)]: Done  34 tasks      | elapsed: 15.0min\n",
            "[Parallel(n_jobs=8)]: Done  60 out of  60 | elapsed: 22.8min finished\n"
          ]
        },
        {
          "output_type": "execute_result",
          "data": {
            "text/plain": [
              "GridSearchCV(cv=KFold(n_splits=5, random_state=101, shuffle=False),\n",
              "             error_score=nan,\n",
              "             estimator=RandomForestRegressor(bootstrap=True, ccp_alpha=0.0,\n",
              "                                             criterion='mse', max_depth=None,\n",
              "                                             max_features='auto',\n",
              "                                             max_leaf_nodes=None,\n",
              "                                             max_samples=None,\n",
              "                                             min_impurity_decrease=0.0,\n",
              "                                             min_impurity_split=None,\n",
              "                                             min_samples_leaf=1,\n",
              "                                             min_samples_split=2,\n",
              "                                             min_weight_fraction_leaf=0.0,\n",
              "                                             n_..., n_jobs=None,\n",
              "                                             oob_score=False, random_state=None,\n",
              "                                             verbose=0, warm_start=False),\n",
              "             iid='deprecated', n_jobs=8,\n",
              "             param_grid={'criterion': ['mae'], 'min_samples_leaf': [10, 25, 50],\n",
              "                         'min_samples_split': [2, 3, 4, 5],\n",
              "                         'n_estimators': [500], 'n_jobs': [8],\n",
              "                         'random_state': [0]},\n",
              "             pre_dispatch='2*n_jobs', refit=True, return_train_score=False,\n",
              "             scoring='neg_mean_squared_error', verbose=1)"
            ]
          },
          "metadata": {},
          "execution_count": 53
        }
      ]
    },
    {
      "cell_type": "code",
      "metadata": {
        "colab": {
          "base_uri": "https://localhost:8080/"
        },
        "id": "Dudbl381kX-I",
        "outputId": "7ec8c25d-adcc-4a89-a24c-b5c19ea80ef3"
      },
      "source": [
        "regGridSearch.best_estimator_"
      ],
      "execution_count": 54,
      "outputs": [
        {
          "output_type": "execute_result",
          "data": {
            "text/plain": [
              "RandomForestRegressor(bootstrap=True, ccp_alpha=0.0, criterion='mae',\n",
              "                      max_depth=None, max_features='auto', max_leaf_nodes=None,\n",
              "                      max_samples=None, min_impurity_decrease=0.0,\n",
              "                      min_impurity_split=None, min_samples_leaf=10,\n",
              "                      min_samples_split=2, min_weight_fraction_leaf=0.0,\n",
              "                      n_estimators=500, n_jobs=8, oob_score=False,\n",
              "                      random_state=0, verbose=0, warm_start=False)"
            ]
          },
          "metadata": {},
          "execution_count": 54
        }
      ]
    },
    {
      "cell_type": "markdown",
      "metadata": {
        "id": "ZCmMefcbQCWY"
      },
      "source": [
        "RandomForestRegressor(bootstrap=True, ccp_alpha=0.0, criterion='mae',\n",
        "                      max_depth=None, max_features='auto', max_leaf_nodes=None,\n",
        "                      max_samples=None, min_impurity_decrease=0.0,\n",
        "                      min_impurity_split=None, min_samples_leaf=10,\n",
        "                      min_samples_split=2, min_weight_fraction_leaf=0.0,\n",
        "                      n_estimators=500, n_jobs=8, oob_score=False,\n",
        "                      random_state=0, verbose=0, warm_start=False)\n",
        "\n"
      ]
    },
    {
      "cell_type": "code",
      "metadata": {
        "colab": {
          "base_uri": "https://localhost:8080/"
        },
        "id": "DA1t5mL1vr3R",
        "outputId": "236a649e-9c3d-473c-b751-fc270f0adc7e"
      },
      "source": [
        "regGridSearch.cv_results_"
      ],
      "execution_count": 55,
      "outputs": [
        {
          "output_type": "execute_result",
          "data": {
            "text/plain": [
              "{'mean_fit_time': array([127.9394475 , 201.00618896, 200.96793985, 203.60752792,\n",
              "        182.47479987, 180.53759241, 180.17097511, 177.06425557,\n",
              "        161.31796498, 158.50511789, 151.61322727, 137.11278186]),\n",
              " 'mean_score_time': array([0.38113532, 1.05814695, 0.87951851, 0.89145436, 0.96266804,\n",
              "        0.97521009, 0.82501836, 1.0554882 , 1.06902771, 1.12173519,\n",
              "        0.91288581, 0.38038373]),\n",
              " 'mean_test_score': array([-0.62966163, -0.62966163, -0.62966163, -0.62966163, -0.6317908 ,\n",
              "        -0.6317908 , -0.6317908 , -0.6317908 , -0.63726468, -0.63726468,\n",
              "        -0.63726468, -0.63726468]),\n",
              " 'param_criterion': masked_array(data=['mae', 'mae', 'mae', 'mae', 'mae', 'mae', 'mae', 'mae',\n",
              "                    'mae', 'mae', 'mae', 'mae'],\n",
              "              mask=[False, False, False, False, False, False, False, False,\n",
              "                    False, False, False, False],\n",
              "        fill_value='?',\n",
              "             dtype=object),\n",
              " 'param_min_samples_leaf': masked_array(data=[10, 10, 10, 10, 25, 25, 25, 25, 50, 50, 50, 50],\n",
              "              mask=[False, False, False, False, False, False, False, False,\n",
              "                    False, False, False, False],\n",
              "        fill_value='?',\n",
              "             dtype=object),\n",
              " 'param_min_samples_split': masked_array(data=[2, 3, 4, 5, 2, 3, 4, 5, 2, 3, 4, 5],\n",
              "              mask=[False, False, False, False, False, False, False, False,\n",
              "                    False, False, False, False],\n",
              "        fill_value='?',\n",
              "             dtype=object),\n",
              " 'param_n_estimators': masked_array(data=[500, 500, 500, 500, 500, 500, 500, 500, 500, 500, 500,\n",
              "                    500],\n",
              "              mask=[False, False, False, False, False, False, False, False,\n",
              "                    False, False, False, False],\n",
              "        fill_value='?',\n",
              "             dtype=object),\n",
              " 'param_n_jobs': masked_array(data=[8, 8, 8, 8, 8, 8, 8, 8, 8, 8, 8, 8],\n",
              "              mask=[False, False, False, False, False, False, False, False,\n",
              "                    False, False, False, False],\n",
              "        fill_value='?',\n",
              "             dtype=object),\n",
              " 'param_random_state': masked_array(data=[0, 0, 0, 0, 0, 0, 0, 0, 0, 0, 0, 0],\n",
              "              mask=[False, False, False, False, False, False, False, False,\n",
              "                    False, False, False, False],\n",
              "        fill_value='?',\n",
              "             dtype=object),\n",
              " 'params': [{'criterion': 'mae',\n",
              "   'min_samples_leaf': 10,\n",
              "   'min_samples_split': 2,\n",
              "   'n_estimators': 500,\n",
              "   'n_jobs': 8,\n",
              "   'random_state': 0},\n",
              "  {'criterion': 'mae',\n",
              "   'min_samples_leaf': 10,\n",
              "   'min_samples_split': 3,\n",
              "   'n_estimators': 500,\n",
              "   'n_jobs': 8,\n",
              "   'random_state': 0},\n",
              "  {'criterion': 'mae',\n",
              "   'min_samples_leaf': 10,\n",
              "   'min_samples_split': 4,\n",
              "   'n_estimators': 500,\n",
              "   'n_jobs': 8,\n",
              "   'random_state': 0},\n",
              "  {'criterion': 'mae',\n",
              "   'min_samples_leaf': 10,\n",
              "   'min_samples_split': 5,\n",
              "   'n_estimators': 500,\n",
              "   'n_jobs': 8,\n",
              "   'random_state': 0},\n",
              "  {'criterion': 'mae',\n",
              "   'min_samples_leaf': 25,\n",
              "   'min_samples_split': 2,\n",
              "   'n_estimators': 500,\n",
              "   'n_jobs': 8,\n",
              "   'random_state': 0},\n",
              "  {'criterion': 'mae',\n",
              "   'min_samples_leaf': 25,\n",
              "   'min_samples_split': 3,\n",
              "   'n_estimators': 500,\n",
              "   'n_jobs': 8,\n",
              "   'random_state': 0},\n",
              "  {'criterion': 'mae',\n",
              "   'min_samples_leaf': 25,\n",
              "   'min_samples_split': 4,\n",
              "   'n_estimators': 500,\n",
              "   'n_jobs': 8,\n",
              "   'random_state': 0},\n",
              "  {'criterion': 'mae',\n",
              "   'min_samples_leaf': 25,\n",
              "   'min_samples_split': 5,\n",
              "   'n_estimators': 500,\n",
              "   'n_jobs': 8,\n",
              "   'random_state': 0},\n",
              "  {'criterion': 'mae',\n",
              "   'min_samples_leaf': 50,\n",
              "   'min_samples_split': 2,\n",
              "   'n_estimators': 500,\n",
              "   'n_jobs': 8,\n",
              "   'random_state': 0},\n",
              "  {'criterion': 'mae',\n",
              "   'min_samples_leaf': 50,\n",
              "   'min_samples_split': 3,\n",
              "   'n_estimators': 500,\n",
              "   'n_jobs': 8,\n",
              "   'random_state': 0},\n",
              "  {'criterion': 'mae',\n",
              "   'min_samples_leaf': 50,\n",
              "   'min_samples_split': 4,\n",
              "   'n_estimators': 500,\n",
              "   'n_jobs': 8,\n",
              "   'random_state': 0},\n",
              "  {'criterion': 'mae',\n",
              "   'min_samples_leaf': 50,\n",
              "   'min_samples_split': 5,\n",
              "   'n_estimators': 500,\n",
              "   'n_jobs': 8,\n",
              "   'random_state': 0}],\n",
              " 'rank_test_score': array([1, 1, 1, 1, 5, 5, 5, 5, 9, 9, 9, 9], dtype=int32),\n",
              " 'split0_test_score': array([-0.69671387, -0.69671387, -0.69671387, -0.69671387, -0.69710861,\n",
              "        -0.69710861, -0.69710861, -0.69710861, -0.70333695, -0.70333695,\n",
              "        -0.70333695, -0.70333695]),\n",
              " 'split1_test_score': array([-0.62696291, -0.62696291, -0.62696291, -0.62696291, -0.63778883,\n",
              "        -0.63778883, -0.63778883, -0.63778883, -0.64501346, -0.64501346,\n",
              "        -0.64501346, -0.64501346]),\n",
              " 'split2_test_score': array([-0.6122179 , -0.6122179 , -0.6122179 , -0.6122179 , -0.60161504,\n",
              "        -0.60161504, -0.60161504, -0.60161504, -0.60486831, -0.60486831,\n",
              "        -0.60486831, -0.60486831]),\n",
              " 'split3_test_score': array([-0.64999338, -0.64999338, -0.64999338, -0.64999338, -0.64490691,\n",
              "        -0.64490691, -0.64490691, -0.64490691, -0.64063471, -0.64063471,\n",
              "        -0.64063471, -0.64063471]),\n",
              " 'split4_test_score': array([-0.56242012, -0.56242012, -0.56242012, -0.56242012, -0.57753463,\n",
              "        -0.57753463, -0.57753463, -0.57753463, -0.59246994, -0.59246994,\n",
              "        -0.59246994, -0.59246994]),\n",
              " 'std_fit_time': array([0.23416701, 2.67770419, 2.56268039, 1.0413558 , 3.71786212,\n",
              "        1.18222563, 0.4706707 , 2.65992129, 1.73239323, 0.93730375,\n",
              "        9.01748917, 2.0255457 ]),\n",
              " 'std_score_time': array([0.06336121, 0.15973705, 0.08054555, 0.32475851, 0.19755157,\n",
              "        0.32090013, 0.1865355 , 0.23530148, 0.06512038, 0.15664355,\n",
              "        0.16794434, 0.27886829]),\n",
              " 'std_test_score': array([0.04414152, 0.04414152, 0.04414152, 0.04414152, 0.04081356,\n",
              "        0.04081356, 0.04081356, 0.04081356, 0.03871186, 0.03871186,\n",
              "        0.03871186, 0.03871186])}"
            ]
          },
          "metadata": {},
          "execution_count": 55
        }
      ]
    },
    {
      "cell_type": "code",
      "metadata": {
        "id": "DfS7WI6Zj5AF"
      },
      "source": [
        "rf = RandomForestRegressor(bootstrap=True, ccp_alpha=0.0, criterion='mae', max_depth=None, \n",
        "                      max_features='auto', max_leaf_nodes=None, max_samples=None, \n",
        "                      min_impurity_decrease=0.0, min_impurity_split=None, min_samples_leaf=10, \n",
        "                      min_samples_split=2,\n",
        "                      min_weight_fraction_leaf=0.0, n_estimators=500, n_jobs=8, oob_score=False, \n",
        "                      random_state=0, verbose=0, warm_start=False)"
      ],
      "execution_count": 56,
      "outputs": []
    },
    {
      "cell_type": "code",
      "metadata": {
        "colab": {
          "base_uri": "https://localhost:8080/"
        },
        "id": "HNIbPGnrkBAs",
        "outputId": "d95603ab-5f20-4f81-8d56-f24b22b15cef"
      },
      "source": [
        "rf.fit(scaler.fit_transform(X_train), y_train)"
      ],
      "execution_count": 57,
      "outputs": [
        {
          "output_type": "execute_result",
          "data": {
            "text/plain": [
              "RandomForestRegressor(bootstrap=True, ccp_alpha=0.0, criterion='mae',\n",
              "                      max_depth=None, max_features='auto', max_leaf_nodes=None,\n",
              "                      max_samples=None, min_impurity_decrease=0.0,\n",
              "                      min_impurity_split=None, min_samples_leaf=10,\n",
              "                      min_samples_split=2, min_weight_fraction_leaf=0.0,\n",
              "                      n_estimators=500, n_jobs=8, oob_score=False,\n",
              "                      random_state=0, verbose=0, warm_start=False)"
            ]
          },
          "metadata": {},
          "execution_count": 57
        }
      ]
    },
    {
      "cell_type": "code",
      "metadata": {
        "id": "eGcmSyj9fHNA"
      },
      "source": [
        "from sklearn.model_selection import train_test_split, GridSearchCV, KFold, TimeSeriesSplit, StratifiedShuffleSplit\n",
        "from sklearn import metrics as mt\n",
        "import numpy as np"
      ],
      "execution_count": 58,
      "outputs": []
    },
    {
      "cell_type": "markdown",
      "metadata": {
        "id": "U17C5c67ssII"
      },
      "source": [
        "At this point we could do ensemble methods for combining the two models...\n",
        "https://scikit-learn.org/stable/modules/ensemble.html#voting-regressor\n"
      ]
    },
    {
      "cell_type": "markdown",
      "metadata": {
        "id": "7WDb8Yw9Qqg4"
      },
      "source": [
        "#Produce Predictions"
      ]
    },
    {
      "cell_type": "code",
      "metadata": {
        "colab": {
          "base_uri": "https://localhost:8080/"
        },
        "id": "R_hLKY7FbPTB",
        "outputId": "a9da3c8d-1c6b-407f-b532-fa841784d868"
      },
      "source": [
        "yhat = rf.predict(scaler.fit_transform(X_test))\n",
        "yhat"
      ],
      "execution_count": 59,
      "outputs": [
        {
          "output_type": "execute_result",
          "data": {
            "text/plain": [
              "array([-7.69557815e-01, -1.86565863e+00, -7.66828984e-01,  2.16992098e-01,\n",
              "       -1.71114720e+00, -2.62105245e-01, -1.91112889e+00, -7.61281446e-01,\n",
              "       -1.32589851e-01, -1.84709582e+00, -1.59223217e+00, -1.46756099e+00,\n",
              "       -3.08627724e-01,  3.67444397e-01, -2.16280984e+00, -1.06942604e+00,\n",
              "       -1.74828668e+00, -9.24682642e-01, -3.44783102e-01, -1.56615152e+00,\n",
              "       -1.50841258e+00, -1.15883715e+00, -2.05662490e+00, -7.33348833e-01,\n",
              "       -1.10801251e+00, -5.14058057e-01, -5.71860086e-01, -3.15391164e-02,\n",
              "       -1.81995064e+00, -1.13783959e+00, -6.59168621e-01, -1.15417122e+00,\n",
              "       -1.51257561e+00, -1.69907795e+00, -3.65371820e-01,  3.13126093e-01,\n",
              "       -4.17638740e-01, -9.52144586e-01, -1.20343638e+00, -7.46627429e-01,\n",
              "       -1.58490175e+00, -1.02589503e+00, -9.42868079e-01, -8.36331791e-01,\n",
              "       -6.45422287e-02, -5.16772284e-02, -1.29087931e+00, -1.97222531e-01,\n",
              "       -1.46526787e+00, -1.52148451e+00, -2.16603754e+00, -7.89543922e-01,\n",
              "       -1.99155957e+00, -1.34454481e+00, -8.64420260e-01, -8.53985894e-02,\n",
              "       -1.46470531e-01, -1.79702309e-01, -1.35263090e+00,  8.12580696e-02,\n",
              "       -3.31403793e-01, -7.65914390e-03, -1.25787765e+00, -1.62306421e+00,\n",
              "       -7.45119504e-01, -1.59667563e+00, -1.19357522e+00, -1.15477975e+00,\n",
              "       -8.90527605e-02, -1.29830242e-01, -2.01788080e+00, -1.41089028e+00,\n",
              "       -2.02331804e+00, -6.47794146e-01, -6.51765997e-01, -1.49562566e+00,\n",
              "       -1.33156117e+00, -2.22540410e+00, -6.25775599e-01, -7.76239026e-01,\n",
              "       -1.02106659e+00, -1.22932154e+00, -8.24753528e-01, -8.70090163e-01,\n",
              "       -6.48951826e-01,  3.64475784e-01, -1.04366946e+00, -1.50537635e+00,\n",
              "       -1.12978079e+00, -7.97443437e-01, -8.06298229e-01, -9.54203321e-01,\n",
              "       -1.07977505e+00, -6.60634886e-01, -7.56392044e-01, -1.65761938e+00,\n",
              "       -1.01160729e-01, -8.42053461e-01, -4.91334230e-01, -8.96274706e-01,\n",
              "       -4.47328307e-01, -6.53040713e-01, -1.16409159e-01, -8.38988020e-01,\n",
              "       -1.40049654e+00, -1.38877895e-01, -8.55738560e-01, -1.20204501e+00,\n",
              "       -1.78096624e+00, -8.71009308e-01, -1.59758186e-01, -1.17356368e+00,\n",
              "       -6.76784388e-01, -2.08514598e+00, -4.58684721e-01, -1.47999880e+00,\n",
              "       -2.06014933e+00, -5.92627526e-01, -1.07534670e+00, -2.10065379e+00,\n",
              "       -5.53604006e-01, -1.95432888e+00, -8.33815065e-01, -1.47287432e+00,\n",
              "       -1.90653794e+00, -6.79790814e-01, -5.55656111e-01, -1.96609501e+00,\n",
              "       -6.87030580e-01, -9.29306803e-01, -8.18270416e-01, -1.54903323e+00,\n",
              "       -6.22955542e-01, -1.67302245e+00, -1.44625562e-02,  3.58441367e-01,\n",
              "       -1.59012977e+00, -1.68278580e+00, -6.48874267e-01, -9.13196946e-01,\n",
              "       -2.01698426e+00, -1.68913299e+00, -2.86188878e-01, -1.03124351e+00,\n",
              "       -5.92953508e-01, -2.17261695e+00, -1.74939646e+00, -1.13257509e+00,\n",
              "       -6.00758515e-01, -7.65345836e-01, -1.81698718e+00, -4.22743965e-01,\n",
              "       -1.25091169e+00, -6.04881432e-01,  3.32668475e-01, -8.69144651e-01,\n",
              "       -1.51042282e+00,  1.61886243e-01, -1.78482415e+00,  9.50640544e-02,\n",
              "       -1.18247854e+00, -3.63364984e-01, -6.90644173e-01, -1.21488150e+00,\n",
              "       -1.13494300e+00, -6.62835147e-01,  1.12681645e-01,  3.88694939e-01,\n",
              "       -3.17739618e-01, -1.11504002e+00, -1.84411907e+00, -1.64420464e+00,\n",
              "       -1.49232644e+00, -5.84323884e-02, -2.19641517e+00, -5.87875044e-01,\n",
              "       -8.05033592e-01, -1.28562994e+00, -1.42896224e+00, -1.38623455e+00,\n",
              "       -9.21505703e-01,  1.83750974e-01, -1.30340747e+00, -1.32973483e+00,\n",
              "       -1.25724257e+00,  3.04526637e-01, -1.67828080e+00, -4.73683244e-01,\n",
              "       -1.62477726e+00, -1.39234613e+00, -1.57348753e+00, -1.30800719e+00,\n",
              "       -2.05599836e-01, -1.09224335e+00,  1.86186513e-01, -1.55184467e-01,\n",
              "       -1.37707842e+00, -9.71845179e-01, -1.57588734e+00, -6.62682734e-01,\n",
              "       -5.33183821e-01, -1.44175822e-01, -1.69481099e+00, -1.86819111e+00,\n",
              "       -7.30023159e-01, -1.23544264e+00, -2.03431554e+00, -1.72963183e+00,\n",
              "       -9.59862981e-01, -2.91813964e-01,  2.29661026e-01,  2.04838500e-01,\n",
              "       -8.54853783e-01, -1.34233180e+00, -1.70092758e+00, -1.74241723e+00,\n",
              "       -2.08577229e+00, -1.36467157e-01, -1.16819578e+00, -1.92039938e-01,\n",
              "       -1.62083634e+00, -1.34984878e+00, -1.12297589e+00, -5.84009731e-01,\n",
              "       -9.75642800e-01, -7.72159262e-01,  9.12358587e-02, -1.34650172e-01,\n",
              "        3.49612136e-01, -1.50291642e+00, -1.17231853e+00,  2.43774557e-01,\n",
              "        3.76860414e-01, -1.57293458e+00, -4.74450341e-01, -1.15986512e+00,\n",
              "       -1.90413040e+00, -1.65416545e+00, -6.80442200e-01, -1.37948780e+00,\n",
              "       -2.10677110e+00,  2.20748518e-03,  2.94459460e-01, -1.08497367e+00,\n",
              "       -1.01649622e+00, -1.90201177e+00, -6.40542621e-01,  6.07730937e-03,\n",
              "       -9.82400911e-01, -1.07969498e+00, -3.91764702e-01, -1.05046727e+00,\n",
              "       -7.84451027e-01,  3.10423129e-01, -8.48601041e-01, -2.01998989e+00,\n",
              "       -5.19199418e-01, -1.57319436e+00, -1.13783611e+00, -9.60746186e-01,\n",
              "       -9.34050145e-01, -1.67364035e-03, -1.68387028e+00, -9.50988894e-02,\n",
              "       -3.59595330e-01, -1.87105302e+00, -1.82552123e+00, -7.53460939e-01,\n",
              "       -1.92430139e+00, -5.91998460e-01, -6.41075325e-01, -1.62869123e+00,\n",
              "        1.70886987e-01, -1.00847495e+00, -2.59065607e-02, -2.04643346e+00,\n",
              "       -7.24948644e-01, -1.98663579e+00,  3.95833328e-01, -1.08880131e+00,\n",
              "       -1.66855988e+00,  1.00305947e-01, -1.32778390e+00, -1.91301496e+00,\n",
              "       -1.17305004e+00, -1.74072397e+00, -1.91740358e+00, -9.81593153e-01,\n",
              "       -7.14704945e-02, -1.47353414e+00, -3.55498657e-01, -1.99063328e+00,\n",
              "       -1.56561080e+00, -1.82914179e+00, -1.60170166e+00, -2.00484508e+00,\n",
              "       -1.55471585e+00, -1.69908927e+00, -8.15450472e-01, -8.08040863e-01,\n",
              "       -1.70301760e+00, -1.74383848e+00, -2.22916091e+00,  1.38348978e-01,\n",
              "       -2.31230571e-01, -2.23905079e+00, -1.19726405e+00, -4.79827899e-01,\n",
              "       -1.12654047e+00, -1.36930136e+00, -8.42034523e-01, -2.81172287e-01,\n",
              "        3.78652662e-01, -1.19818063e-01, -1.28295222e+00, -1.50459801e+00,\n",
              "       -2.03585008e+00, -4.79366002e-01, -1.35047975e+00, -6.20458130e-01,\n",
              "       -1.99315166e+00, -3.11722837e-01, -1.93084587e+00, -3.15218652e-01,\n",
              "       -3.65024322e-01, -1.67391684e+00,  1.98059977e-01, -4.25026335e-01,\n",
              "       -2.00818652e+00, -4.20298014e-01, -7.22555789e-01, -8.80823997e-01,\n",
              "       -7.16250394e-01, -1.50848550e+00, -5.50894194e-01, -1.13180276e+00,\n",
              "       -1.69431453e+00, -5.23240935e-01, -1.29967260e-01,  1.06127009e-01,\n",
              "       -7.86993019e-01, -1.77515194e+00,  3.99137535e-01, -1.06737310e+00,\n",
              "       -6.41916032e-02, -4.34134582e-01, -6.02939676e-01, -5.85343073e-01,\n",
              "       -1.83074420e+00,  3.05598229e-01,  1.92852657e-01, -5.59110899e-01,\n",
              "        4.78009754e-02, -7.91097564e-01, -2.18465155e+00, -4.35712895e-01,\n",
              "       -1.90241599e+00, -1.26860307e+00, -3.95114343e-01,  1.48647497e-01,\n",
              "       -6.32687501e-01, -1.89114950e+00, -1.05240621e+00, -1.87223494e+00,\n",
              "       -1.91401582e+00, -1.66170663e+00,  1.12520132e-01, -1.32043496e+00,\n",
              "       -2.06614137e+00, -7.41997192e-01, -1.60228448e+00,  3.93237842e-02,\n",
              "       -1.24285196e+00,  4.49587441e-01, -7.47587573e-01, -7.27851308e-02,\n",
              "        1.84323318e-01, -8.32633215e-01, -1.71523425e+00, -6.14383313e-01,\n",
              "       -5.61147240e-01,  3.53119242e-01, -1.67428654e+00, -1.27342652e+00,\n",
              "        8.26121525e-02, -2.07878522e+00, -1.96982312e+00, -4.93447743e-02,\n",
              "       -1.33697878e+00, -1.35004143e+00, -1.80690954e+00, -1.63842611e+00,\n",
              "        1.62758689e-01, -8.25536295e-01, -4.47104869e-01, -2.21192129e+00,\n",
              "       -2.20869435e+00, -1.89755838e+00, -9.05335593e-01,  1.56700030e-01,\n",
              "       -4.46275916e-01, -9.30012824e-01, -1.14443767e-01, -1.72791953e+00,\n",
              "       -7.12070250e-01, -6.39576512e-01, -5.72117619e-01, -1.32508244e+00,\n",
              "       -1.15792517e+00, -1.07193298e+00, -1.89223438e+00, -1.35751759e+00,\n",
              "       -8.44707695e-01, -1.31181528e+00,  2.77361712e-01, -1.77684663e+00,\n",
              "        3.02624643e-01, -6.62144284e-01, -1.46058707e+00, -1.16158509e+00,\n",
              "       -7.79128534e-01, -1.03208981e+00, -4.65556327e-01, -2.19753853e+00,\n",
              "        2.95931953e-01, -2.14506716e+00, -7.44603814e-01, -8.34088229e-01,\n",
              "       -1.20147177e+00, -3.69206743e-01, -1.16132076e+00,  4.15956527e-01,\n",
              "        9.92987810e-02, -1.33942239e+00,  3.61054389e-02, -1.53060711e+00,\n",
              "       -1.64367314e+00, -1.40853672e+00, -1.53662766e+00, -7.02711330e-01,\n",
              "       -2.05210657e+00, -1.37640986e+00, -2.32396705e+00, -1.15045452e+00,\n",
              "        3.86283354e-01, -2.55031206e-01, -3.04296440e-01, -1.38069750e+00,\n",
              "       -1.55581416e+00, -2.60280321e-01,  1.94396851e-01, -3.71107914e-01,\n",
              "       -1.77898006e-01, -1.64355528e+00, -1.80786223e+00, -1.43401260e+00,\n",
              "       -1.39335463e+00, -1.83428388e+00, -5.80535967e-02, -1.59196701e+00,\n",
              "       -7.31149350e-01,  1.09211075e-01, -1.15339134e+00, -1.18774439e+00,\n",
              "       -5.56467840e-01, -1.71799703e+00, -2.31478789e+00, -1.07661382e+00,\n",
              "       -1.15062003e+00, -6.70884919e-01, -1.92528146e+00, -1.03426977e+00,\n",
              "       -9.55725745e-01, -2.47506697e-01, -9.14005115e-01, -1.00330146e+00,\n",
              "       -1.49730049e+00, -1.13190023e+00, -1.53086695e+00, -2.15380789e+00,\n",
              "       -7.61270221e-01, -3.07483035e-01, -6.95374044e-01,  2.39581223e-02,\n",
              "       -3.17996168e-01, -7.84983046e-02, -1.59561948e+00, -8.72286033e-01,\n",
              "       -9.03498111e-01,  1.55048653e-01, -1.31703584e+00, -1.19205635e+00,\n",
              "       -1.82439765e+00, -1.41673943e+00,  2.53481471e-01, -1.85164333e+00,\n",
              "        1.83930550e-01,  9.09619296e-03, -1.47044275e+00, -8.07190247e-01,\n",
              "       -8.82189407e-01, -4.40167038e-01, -1.17526809e+00, -1.02096337e+00,\n",
              "       -4.93185998e-01, -1.57920727e+00, -7.29092695e-01, -2.09207730e-01,\n",
              "       -2.77456307e-01, -2.36266710e-01, -1.71516763e+00, -1.88978973e+00,\n",
              "       -9.31532528e-01, -2.04156362e-01, -1.05168099e+00, -2.07905922e-01,\n",
              "       -1.47359653e+00, -1.66636753e+00, -1.58327184e+00, -1.37053830e+00,\n",
              "       -1.60078644e+00, -2.51381380e-01, -1.17011902e+00,  3.09164290e-01,\n",
              "       -9.86593347e-01, -8.86767343e-01, -1.73289739e+00, -7.69576350e-01,\n",
              "       -1.99348790e+00, -3.48971423e-01, -1.42283679e+00, -9.90700824e-01,\n",
              "       -3.78271352e-01, -9.67324174e-01, -1.83104924e+00, -1.73972138e+00,\n",
              "        2.08619032e-01, -1.04629349e+00, -6.79898437e-02, -4.96238745e-01,\n",
              "       -1.22161364e+00, -1.07412169e+00, -1.69063964e+00, -1.98760783e+00,\n",
              "        1.57235279e-01, -1.46541886e-01, -8.13317537e-01, -4.56324039e-02,\n",
              "       -1.61327363e+00, -1.07238822e+00, -1.65555173e+00, -8.11593393e-01,\n",
              "       -1.63071024e+00, -3.72888965e-01, -1.09210550e+00, -5.13628312e-01,\n",
              "       -1.70115404e+00,  2.49795717e-01, -9.34216492e-01, -2.02836948e+00,\n",
              "       -1.15668991e+00, -1.86651020e+00, -6.64147299e-01, -1.60730533e+00,\n",
              "       -1.75059583e+00, -9.24235857e-02, -2.58966227e-01])"
            ]
          },
          "metadata": {},
          "execution_count": 59
        }
      ]
    },
    {
      "cell_type": "code",
      "metadata": {
        "colab": {
          "base_uri": "https://localhost:8080/"
        },
        "id": "ZqwllM6upUT-",
        "outputId": "79563b74-1873-4380-dc8f-c0f97ab519d3"
      },
      "source": [
        "mean_squared_error(y_test, yhat)"
      ],
      "execution_count": 60,
      "outputs": [
        {
          "output_type": "execute_result",
          "data": {
            "text/plain": [
              "0.6254455254946713"
            ]
          },
          "metadata": {},
          "execution_count": 60
        }
      ]
    }
  ]
}